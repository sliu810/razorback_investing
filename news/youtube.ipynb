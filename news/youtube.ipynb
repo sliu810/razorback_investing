{
 "cells": [
  {
   "cell_type": "markdown",
   "metadata": {},
   "source": [
    "# Daily News"
   ]
  },
  {
   "cell_type": "code",
   "execution_count": null,
   "metadata": {},
   "outputs": [],
   "source": [
    "# !pip install google-api-python-client google-auth google-auth-oauthlib google-auth-httplib2 \n",
    "# !pip install --upgrade google-auth-oauthlib\n",
    "# !pip install openai"
   ]
  },
  {
   "cell_type": "markdown",
   "metadata": {},
   "source": [
    "## Daily CNBC News"
   ]
  },
  {
   "cell_type": "code",
   "execution_count": 1,
   "metadata": {},
   "outputs": [
    {
     "name": "stdout",
     "output_type": "stream",
     "text": [
      "Module loaded. Use YouTubeSummary(CONFIG).run(channel_name) to run the script or call individual functions.\n",
      "2024-09-25 15:25:12,809 - INFO - Setting channel to CNBC_TV\n",
      "2024-09-25 15:25:12,831 - INFO - Channel set to CNBC_TV (ID: UCrp_UI8XtuYfpiqluWLD7Lw)\n",
      "2024-09-25 15:25:12,831 - INFO - Summaries will be saved in: /Users/sliu/src/mysrc/investing/razorback_investing/news/youtube_summary_data/CNBC_TV\n",
      "2024-09-25 15:25:12,832 - INFO - Setting channel to CNBC_TV\n",
      "2024-09-25 15:25:12,832 - INFO - Channel set to CNBC_TV (ID: UCrp_UI8XtuYfpiqluWLD7Lw)\n",
      "2024-09-25 15:25:12,833 - INFO - Summaries will be saved in: /Users/sliu/src/mysrc/investing/razorback_investing/news/youtube_summary_data/CNBC_TV\n",
      "2024-09-25 15:25:12,833 - INFO - Loading existing data from /Users/sliu/src/mysrc/investing/razorback_investing/news/youtube_summary_data/CNBC_TV/youtube_summary_CNBC_TV_2024-09-25.csv\n",
      "2024-09-25 15:25:12,844 - INFO - Loaded 52 existing videos\n",
      "2024-09-25 15:25:12,844 - INFO - Fetching videos for channel ID: UCrp_UI8XtuYfpiqluWLD7Lw\n",
      "Appended 3 new videos to /Users/sliu/src/mysrc/investing/razorback_investing/news/youtube_summary_data/CNBC_TV/youtube_summary_CNBC_TV_2024-09-25.csv.\n",
      "2024-09-25 15:25:13,564 - INFO - Saved 55 videos to /Users/sliu/src/mysrc/investing/razorback_investing/news/youtube_summary_data/CNBC_TV/youtube_summary_CNBC_TV_2024-09-25.csv\n",
      "2024-09-25 15:25:13,565 - INFO - Working with 55 videos.\n",
      "2024-09-25 15:25:13,565 - INFO - Adding transcripts to videos\n",
      "2024-09-25 15:25:17,133 - INFO - Saved videos with transcripts to /Users/sliu/src/mysrc/investing/razorback_investing/news/youtube_summary_data/CNBC_TV/youtube_summary_CNBC_TV_2024-09-25.csv\n",
      "2024-09-25 15:25:17,133 - INFO - Generating summaries for videos\n",
      "2024-09-25 15:25:19,683 - INFO - HTTP Request: POST https://api.openai.com/v1/chat/completions \"HTTP/1.1 200 OK\"\n",
      "2024-09-25 15:25:21,087 - INFO - HTTP Request: POST https://api.openai.com/v1/chat/completions \"HTTP/1.1 200 OK\"\n",
      "2024-09-25 15:25:23,780 - INFO - HTTP Request: POST https://api.openai.com/v1/chat/completions \"HTTP/1.1 200 OK\"\n",
      "2024-09-25 15:25:23,788 - INFO - Saved summaries to /Users/sliu/src/mysrc/investing/razorback_investing/news/youtube_summary_data/CNBC_TV/youtube_summary_CNBC_TV_2024-09-25.csv\n",
      "2024-09-25 15:25:23,803 - INFO - Saved results in csv, html, txt format(s) in /Users/sliu/src/mysrc/investing/razorback_investing/news/youtube_summary_data/CNBC_TV\n",
      "2024-09-25 15:25:25,083 - ERROR - Failed to send email: (535, b'5.7.8 Username and Password not accepted. For more information, go to\\n5.7.8  https://support.google.com/mail/?p=BadCredentials 006d021491bc7-5e5bcfbcf90sm1143780eaf.14 - gsmtp')\n",
      "2024-09-25 15:25:25,083 - INFO - Pipeline completed successfully\n"
     ]
    }
   ],
   "source": [
    "from YouTubeSummary import YouTubeSummary, CONFIG\n",
    "\n",
    "# Use the default configuration\n",
    "yt_summary = YouTubeSummary(CONFIG)\n",
    "yt_summary.run()"
   ]
  },
  {
   "cell_type": "markdown",
   "metadata": {},
   "source": [
    "## Youtube Channel Studies"
   ]
  },
  {
   "cell_type": "code",
   "execution_count": null,
   "metadata": {},
   "outputs": [],
   "source": [
    "# Set custom channel and get all videos from that chanenl"
   ]
  },
  {
   "cell_type": "markdown",
   "metadata": {},
   "source": [
    "# One-off study"
   ]
  },
  {
   "cell_type": "code",
   "execution_count": 8,
   "metadata": {},
   "outputs": [
    {
     "name": "stdout",
     "output_type": "stream",
     "text": [
      "2024-09-25 15:04:01,148 - INFO - Setting channel to CNBC_TV\n",
      "2024-09-25 15:04:01,149 - INFO - Channel set to CNBC_TV (ID: UCrp_UI8XtuYfpiqluWLD7Lw)\n",
      "2024-09-25 15:04:01,149 - INFO - Summaries will be saved in: /Users/sliu/src/mysrc/investing/razorback_investing/news/youtube_summary_data/CNBC_TV\n"
     ]
    },
    {
     "name": "stdout",
     "output_type": "stream",
     "text": [
      "2024-09-25 15:04:03,399 - INFO - HTTP Request: POST https://api.openai.com/v1/chat/completions \"HTTP/1.1 200 OK\"\n",
      "Processed video: 7GYLjlfbIIQ\n",
      "Video ID: 7GYLjlfbIIQ\n",
      "Transcript (first 500 characters): flip cities family what is up it is art and bobby back in the grocery store once again to do a video all about the best alternative sweeteners and once we identify what the best ones are i want to walk around the grocery store and tell you some products you can find those sweeteners in because nowadays they're starting to put it in prepackaged products and drinks and it really makes a difference because we're all about eliminating or limiting the amount of real sugar you eat we all know sugar li...\n",
      "Task Result: The video discusses the best alternative sweeteners such as monk fruit and stevia, highlighting products like Bulletproof energy bars, Slim Twin ice cream, Rebel plant-based drinks, and Bulletproof coffee that use these sweeteners in place of sugar to provide sugar-free and low-calorie options in the grocery store.\n",
      "\n",
      "==================================================\n",
      "\n"
     ]
    }
   ],
   "source": [
    "import fetch_videos\n",
    "from YouTubeSummary import YouTubeSummary, CONFIG\n",
    "import pandas as pd\n",
    "\n",
    "# Specify the video IDs you want to study\n",
    "video_ids = [\n",
    "    \"7GYLjlfbIIQ\",\n",
    "    # Add more video IDs as needed\n",
    "    # \"ANOTHER_VIDEO_ID\",\n",
    "    # \"YET_ANOTHER_VIDEO_ID\",\n",
    "]\n",
    "\n",
    "# Specify a single task to apply to all videos\n",
    "task = \"\"\"Provide a one-sentence summary of the video. Tell me the best products recomended by the videos\"\"\"\n",
    "\n",
    "# Create a YouTubeSummary instance (for using its configuration)\n",
    "yt_summary = YouTubeSummary(CONFIG)\n",
    "\n",
    "# Function to process a single video with the task\n",
    "def process_video(video_id, task):\n",
    "    # Get transcript\n",
    "    transcript = fetch_videos.get_transcript(video_id)\n",
    "    \n",
    "    # Apply the task\n",
    "    result = fetch_videos.apply_task(transcript, yt_summary._client, task)\n",
    "    \n",
    "    return {\n",
    "        \"Video ID\": video_id,\n",
    "        \"Transcript\": transcript,\n",
    "        \"Task Result\": result\n",
    "    }\n",
    "\n",
    "# Process each video\n",
    "results = []\n",
    "for video_id in video_ids:\n",
    "    try:\n",
    "        result = process_video(video_id, task)\n",
    "        results.append(result)\n",
    "        print(f\"Processed video: {video_id}\")\n",
    "    except Exception as e:\n",
    "        print(f\"Error processing video {video_id}: {str(e)}\")\n",
    "\n",
    "# Create a DataFrame with the results\n",
    "result_df = pd.DataFrame(results)\n",
    "\n",
    "# Display results\n",
    "for _, row in result_df.iterrows():\n",
    "    print(f\"Video ID: {row['Video ID']}\")\n",
    "    print(f\"Transcript (first 500 characters): {row['Transcript'][:500]}...\")\n",
    "    print(f\"Task Result: {row['Task Result']}\")\n",
    "    print(\"\\n\" + \"=\"*50 + \"\\n\")\n",
    "\n",
    "# Optionally, save the results to a CSV file\n",
    "# result_df.to_csv(\"one_off_study_results.csv\", index=False)"
   ]
  },
  {
   "cell_type": "code",
   "execution_count": null,
   "metadata": {},
   "outputs": [],
   "source": []
  }
 ],
 "metadata": {
  "kernelspec": {
   "display_name": "ml4t",
   "language": "python",
   "name": "python3"
  },
  "language_info": {
   "codemirror_mode": {
    "name": "ipython",
    "version": 3
   },
   "file_extension": ".py",
   "mimetype": "text/x-python",
   "name": "python",
   "nbconvert_exporter": "python",
   "pygments_lexer": "ipython3",
   "version": "3.12.4"
  }
 },
 "nbformat": 4,
 "nbformat_minor": 2
}
