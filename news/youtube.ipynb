{
 "cells": [
  {
   "cell_type": "markdown",
   "metadata": {},
   "source": [
    "# Youtube Study"
   ]
  },
  {
   "cell_type": "code",
   "execution_count": 8,
   "metadata": {},
   "outputs": [
    {
     "name": "stdout",
     "output_type": "stream",
     "text": [
      "Requirement already satisfied: google-api-python-client in /Users/sliu/miniconda3/envs/ml4t/lib/python3.12/site-packages (2.137.0)\n",
      "Requirement already satisfied: google-auth in /Users/sliu/miniconda3/envs/ml4t/lib/python3.12/site-packages (2.31.0)\n",
      "Requirement already satisfied: google-auth-oauthlib in /Users/sliu/miniconda3/envs/ml4t/lib/python3.12/site-packages (1.2.1)\n",
      "Requirement already satisfied: google-auth-httplib2 in /Users/sliu/miniconda3/envs/ml4t/lib/python3.12/site-packages (0.2.0)\n",
      "Requirement already satisfied: httplib2<1.dev0,>=0.19.0 in /Users/sliu/miniconda3/envs/ml4t/lib/python3.12/site-packages (from google-api-python-client) (0.22.0)\n",
      "Requirement already satisfied: google-api-core!=2.0.*,!=2.1.*,!=2.2.*,!=2.3.0,<3.0.0.dev0,>=1.31.5 in /Users/sliu/miniconda3/envs/ml4t/lib/python3.12/site-packages (from google-api-python-client) (2.19.1)\n",
      "Requirement already satisfied: uritemplate<5,>=3.0.1 in /Users/sliu/miniconda3/envs/ml4t/lib/python3.12/site-packages (from google-api-python-client) (4.1.1)\n",
      "Requirement already satisfied: cachetools<6.0,>=2.0.0 in /Users/sliu/miniconda3/envs/ml4t/lib/python3.12/site-packages (from google-auth) (5.3.3)\n",
      "Requirement already satisfied: pyasn1-modules>=0.2.1 in /Users/sliu/miniconda3/envs/ml4t/lib/python3.12/site-packages (from google-auth) (0.4.0)\n",
      "Requirement already satisfied: rsa<5,>=3.1.4 in /Users/sliu/miniconda3/envs/ml4t/lib/python3.12/site-packages (from google-auth) (4.9)\n",
      "Requirement already satisfied: requests-oauthlib>=0.7.0 in /Users/sliu/miniconda3/envs/ml4t/lib/python3.12/site-packages (from google-auth-oauthlib) (2.0.0)\n",
      "Requirement already satisfied: googleapis-common-protos<2.0.dev0,>=1.56.2 in /Users/sliu/miniconda3/envs/ml4t/lib/python3.12/site-packages (from google-api-core!=2.0.*,!=2.1.*,!=2.2.*,!=2.3.0,<3.0.0.dev0,>=1.31.5->google-api-python-client) (1.63.2)\n",
      "Requirement already satisfied: protobuf!=3.20.0,!=3.20.1,!=4.21.0,!=4.21.1,!=4.21.2,!=4.21.3,!=4.21.4,!=4.21.5,<6.0.0.dev0,>=3.19.5 in /Users/sliu/miniconda3/envs/ml4t/lib/python3.12/site-packages (from google-api-core!=2.0.*,!=2.1.*,!=2.2.*,!=2.3.0,<3.0.0.dev0,>=1.31.5->google-api-python-client) (5.27.2)\n",
      "Requirement already satisfied: proto-plus<2.0.0dev,>=1.22.3 in /Users/sliu/miniconda3/envs/ml4t/lib/python3.12/site-packages (from google-api-core!=2.0.*,!=2.1.*,!=2.2.*,!=2.3.0,<3.0.0.dev0,>=1.31.5->google-api-python-client) (1.24.0)\n",
      "Requirement already satisfied: requests<3.0.0.dev0,>=2.18.0 in /Users/sliu/miniconda3/envs/ml4t/lib/python3.12/site-packages (from google-api-core!=2.0.*,!=2.1.*,!=2.2.*,!=2.3.0,<3.0.0.dev0,>=1.31.5->google-api-python-client) (2.32.3)\n",
      "Requirement already satisfied: pyparsing!=3.0.0,!=3.0.1,!=3.0.2,!=3.0.3,<4,>=2.4.2 in /Users/sliu/miniconda3/envs/ml4t/lib/python3.12/site-packages (from httplib2<1.dev0,>=0.19.0->google-api-python-client) (3.1.2)\n",
      "Requirement already satisfied: pyasn1<0.7.0,>=0.4.6 in /Users/sliu/miniconda3/envs/ml4t/lib/python3.12/site-packages (from pyasn1-modules>=0.2.1->google-auth) (0.6.0)\n",
      "Requirement already satisfied: oauthlib>=3.0.0 in /Users/sliu/miniconda3/envs/ml4t/lib/python3.12/site-packages (from requests-oauthlib>=0.7.0->google-auth-oauthlib) (3.2.2)\n",
      "Requirement already satisfied: charset-normalizer<4,>=2 in /Users/sliu/miniconda3/envs/ml4t/lib/python3.12/site-packages (from requests<3.0.0.dev0,>=2.18.0->google-api-core!=2.0.*,!=2.1.*,!=2.2.*,!=2.3.0,<3.0.0.dev0,>=1.31.5->google-api-python-client) (3.3.2)\n",
      "Requirement already satisfied: idna<4,>=2.5 in /Users/sliu/miniconda3/envs/ml4t/lib/python3.12/site-packages (from requests<3.0.0.dev0,>=2.18.0->google-api-core!=2.0.*,!=2.1.*,!=2.2.*,!=2.3.0,<3.0.0.dev0,>=1.31.5->google-api-python-client) (3.7)\n",
      "Requirement already satisfied: urllib3<3,>=1.21.1 in /Users/sliu/miniconda3/envs/ml4t/lib/python3.12/site-packages (from requests<3.0.0.dev0,>=2.18.0->google-api-core!=2.0.*,!=2.1.*,!=2.2.*,!=2.3.0,<3.0.0.dev0,>=1.31.5->google-api-python-client) (2.2.2)\n",
      "Requirement already satisfied: certifi>=2017.4.17 in /Users/sliu/miniconda3/envs/ml4t/lib/python3.12/site-packages (from requests<3.0.0.dev0,>=2.18.0->google-api-core!=2.0.*,!=2.1.*,!=2.2.*,!=2.3.0,<3.0.0.dev0,>=1.31.5->google-api-python-client) (2024.6.2)\n",
      "Requirement already satisfied: google-auth-oauthlib in /Users/sliu/miniconda3/envs/ml4t/lib/python3.12/site-packages (1.2.1)\n",
      "Requirement already satisfied: google-auth>=2.15.0 in /Users/sliu/miniconda3/envs/ml4t/lib/python3.12/site-packages (from google-auth-oauthlib) (2.31.0)\n",
      "Requirement already satisfied: requests-oauthlib>=0.7.0 in /Users/sliu/miniconda3/envs/ml4t/lib/python3.12/site-packages (from google-auth-oauthlib) (2.0.0)\n",
      "Requirement already satisfied: cachetools<6.0,>=2.0.0 in /Users/sliu/miniconda3/envs/ml4t/lib/python3.12/site-packages (from google-auth>=2.15.0->google-auth-oauthlib) (5.3.3)\n",
      "Requirement already satisfied: pyasn1-modules>=0.2.1 in /Users/sliu/miniconda3/envs/ml4t/lib/python3.12/site-packages (from google-auth>=2.15.0->google-auth-oauthlib) (0.4.0)\n",
      "Requirement already satisfied: rsa<5,>=3.1.4 in /Users/sliu/miniconda3/envs/ml4t/lib/python3.12/site-packages (from google-auth>=2.15.0->google-auth-oauthlib) (4.9)\n",
      "Requirement already satisfied: oauthlib>=3.0.0 in /Users/sliu/miniconda3/envs/ml4t/lib/python3.12/site-packages (from requests-oauthlib>=0.7.0->google-auth-oauthlib) (3.2.2)\n",
      "Requirement already satisfied: requests>=2.0.0 in /Users/sliu/miniconda3/envs/ml4t/lib/python3.12/site-packages (from requests-oauthlib>=0.7.0->google-auth-oauthlib) (2.32.3)\n",
      "Requirement already satisfied: pyasn1<0.7.0,>=0.4.6 in /Users/sliu/miniconda3/envs/ml4t/lib/python3.12/site-packages (from pyasn1-modules>=0.2.1->google-auth>=2.15.0->google-auth-oauthlib) (0.6.0)\n",
      "Requirement already satisfied: charset-normalizer<4,>=2 in /Users/sliu/miniconda3/envs/ml4t/lib/python3.12/site-packages (from requests>=2.0.0->requests-oauthlib>=0.7.0->google-auth-oauthlib) (3.3.2)\n",
      "Requirement already satisfied: idna<4,>=2.5 in /Users/sliu/miniconda3/envs/ml4t/lib/python3.12/site-packages (from requests>=2.0.0->requests-oauthlib>=0.7.0->google-auth-oauthlib) (3.7)\n",
      "Requirement already satisfied: urllib3<3,>=1.21.1 in /Users/sliu/miniconda3/envs/ml4t/lib/python3.12/site-packages (from requests>=2.0.0->requests-oauthlib>=0.7.0->google-auth-oauthlib) (2.2.2)\n",
      "Requirement already satisfied: certifi>=2017.4.17 in /Users/sliu/miniconda3/envs/ml4t/lib/python3.12/site-packages (from requests>=2.0.0->requests-oauthlib>=0.7.0->google-auth-oauthlib) (2024.6.2)\n",
      "Requirement already satisfied: openai in /Users/sliu/miniconda3/envs/ml4t/lib/python3.12/site-packages (1.37.1)\n",
      "Requirement already satisfied: anyio<5,>=3.5.0 in /Users/sliu/miniconda3/envs/ml4t/lib/python3.12/site-packages (from openai) (4.4.0)\n",
      "Requirement already satisfied: distro<2,>=1.7.0 in /Users/sliu/miniconda3/envs/ml4t/lib/python3.12/site-packages (from openai) (1.9.0)\n",
      "Requirement already satisfied: httpx<1,>=0.23.0 in /Users/sliu/miniconda3/envs/ml4t/lib/python3.12/site-packages (from openai) (0.27.0)\n",
      "Requirement already satisfied: pydantic<3,>=1.9.0 in /Users/sliu/miniconda3/envs/ml4t/lib/python3.12/site-packages (from openai) (2.8.2)\n",
      "Requirement already satisfied: sniffio in /Users/sliu/miniconda3/envs/ml4t/lib/python3.12/site-packages (from openai) (1.3.1)\n",
      "Requirement already satisfied: tqdm>4 in /Users/sliu/miniconda3/envs/ml4t/lib/python3.12/site-packages (from openai) (4.66.4)\n",
      "Requirement already satisfied: typing-extensions<5,>=4.7 in /Users/sliu/miniconda3/envs/ml4t/lib/python3.12/site-packages (from openai) (4.12.2)\n",
      "Requirement already satisfied: idna>=2.8 in /Users/sliu/miniconda3/envs/ml4t/lib/python3.12/site-packages (from anyio<5,>=3.5.0->openai) (3.7)\n",
      "Requirement already satisfied: certifi in /Users/sliu/miniconda3/envs/ml4t/lib/python3.12/site-packages (from httpx<1,>=0.23.0->openai) (2024.6.2)\n",
      "Requirement already satisfied: httpcore==1.* in /Users/sliu/miniconda3/envs/ml4t/lib/python3.12/site-packages (from httpx<1,>=0.23.0->openai) (1.0.5)\n",
      "Requirement already satisfied: h11<0.15,>=0.13 in /Users/sliu/miniconda3/envs/ml4t/lib/python3.12/site-packages (from httpcore==1.*->httpx<1,>=0.23.0->openai) (0.14.0)\n",
      "Requirement already satisfied: annotated-types>=0.4.0 in /Users/sliu/miniconda3/envs/ml4t/lib/python3.12/site-packages (from pydantic<3,>=1.9.0->openai) (0.7.0)\n",
      "Requirement already satisfied: pydantic-core==2.20.1 in /Users/sliu/miniconda3/envs/ml4t/lib/python3.12/site-packages (from pydantic<3,>=1.9.0->openai) (2.20.1)\n"
     ]
    }
   ],
   "source": [
    "!pip install google-api-python-client google-auth google-auth-oauthlib google-auth-httplib2 \n",
    "!pip install --upgrade google-auth-oauthlib\n",
    "!pip install openai"
   ]
  },
  {
   "cell_type": "code",
   "execution_count": 9,
   "metadata": {},
   "outputs": [],
   "source": [
    "# Imports and APIs\n",
    "import fetch_videos\n",
    "import openai\n",
    "import os\n",
    "import pandas as pd\n",
    "\n",
    "# Ensure you have set your OpenAI API key\n",
    "openai.api_key = os.getenv('OPENAI_API_KEY')\n",
    "client = openai.OpenAI()"
   ]
  },
  {
   "cell_type": "markdown",
   "metadata": {},
   "source": [
    "## Channel Definitions and Setups"
   ]
  },
  {
   "cell_type": "markdown",
   "metadata": {},
   "source": [
    "# Daily News Videos"
   ]
  },
  {
   "cell_type": "code",
   "execution_count": 10,
   "metadata": {},
   "outputs": [],
   "source": [
    "## Specify channel ID and name\n",
    "channel_id = fetch_videos.channels[\"CNBC_TV\"]  # Change this to the desired channel ID\n",
    "channel_name = fetch_videos.get_channel_name_by_id(channel_id, fetch_videos.channels)\n",
    "summary_file_name_today = f'summaries_{channel_name}_{fetch_videos.get_formated_date_today()}'\n",
    "summary_file_name_today_cvs = f'{summary_file_name_today}.csv'\n",
    "summary_file_name_today_html = f'{summary_file_name_today}.html'"
   ]
  },
  {
   "cell_type": "code",
   "execution_count": 11,
   "metadata": {},
   "outputs": [
    {
     "name": "stdout",
     "output_type": "stream",
     "text": [
      "Appended 4 new videos to summaries_CNBC_TV_2024-08-08.csv.\n",
      "An error occurred for video ID -rbHIHSRLaI: \n",
      "Could not retrieve a transcript for the video https://www.youtube.com/watch?v=-rbHIHSRLaI! This is most likely caused by:\n",
      "\n",
      "Subtitles are disabled for this video\n",
      "\n",
      "If you are sure that the described cause is not responsible for this error and that a transcript should be retrievable, please create an issue at https://github.com/jdepoix/youtube-transcript-api/issues. Please add which version of youtube_transcript_api you are using and provide the information needed to replicate the error. Also make sure that there are no open issues which already describe your problem!\n"
     ]
    }
   ],
   "source": [
    "\n",
    "\n",
    "## Fetch videos\n",
    "period_type = 'today'  # 'today', 'days', 'weeks', 'months'\n",
    "number = 1  # The 'today' setting does not use 'number', adjust if using other settings\n",
    "start_date, end_date = fetch_videos.get_date_range(period_type, number)\n",
    "df_videos_today = fetch_videos.fetch_videos(start_date, end_date, channel_id,summary_file_name_today_cvs)\n",
    "\n",
    "# ## Filter Vidoes by time\n",
    "# # Assume df_videos is your initial DataFrame loaded with video data\n",
    "# hour_range1 = '0-8'\n",
    "# hour_range2 = '8-10'\n",
    "# hour_range3 = '10-12'\n",
    "# hour_range4 = '12-14'\n",
    "# hour_range5 = '14-16'\n",
    "# hour_range6 = '16-24'\n",
    "\n",
    "# # Filter videos from the last 3 days\n",
    "# filtered_df = fetch_videos.filter_videos_by_date_and_time(df_videos_today, 'today', 1)\n",
    "# # fetch_videos.display_df(filtered_df)\n",
    "\n",
    "## Add transcripts\n",
    "df_videos_with_transcripts = fetch_videos.add_transcripts_to_df(df_videos_today)\n",
    "# fetch_videos.display_df(df_videos_with_transcripts,include_video_id=True,include_transcript=True)\n",
    "df_videos_with_transcripts.to_csv(summary_file_name_today_cvs, index=False)"
   ]
  },
  {
   "cell_type": "markdown",
   "metadata": {},
   "source": [
    "### AI Summary "
   ]
  },
  {
   "cell_type": "code",
   "execution_count": 12,
   "metadata": {},
   "outputs": [],
   "source": [
    "## Assign Tasks: Get Summary\n",
    "task_summary = \"\"\"I would like you to summarize the transcript with the following instructions: \n",
    "First categorize the video content.The category should be one of the following: Crypto, Macro, Politics, Technology, Small Caps or Other. \n",
    "Then summarize the stocks that are mentioned in this video.\n",
    "Then provide key takeaways in a bullet point format.Please make sure don't miss anything about small cap, Nvidia, Tesla, Meta and Macro is mentioned in the transcript.\n",
    "Please print the summary in a human-readable format like the following: \n",
    "Category: Technology\n",
    "Stock mentioned: STOCK1, STOCK2, STOCK3\n",
    "Key takeaways:\n",
    "* takeaway 1\n",
    "* takeaway 2\n",
    "* takeaway 3\n",
    "\"\"\"\n",
    "# load df_videos_with_transcripts from CSV\n",
    "# df_videos_with_transcripts = pd.read_csv(summary_file_name_today_cvs)\n",
    "\n",
    "# Get summaries for all transcripts\n",
    "df_summaries = fetch_videos.apply_tasks_on_all_transcripts(df_videos_with_transcripts, client, task_summary)\n",
    "\n",
    "# Save summaries to a CSV file\n",
    "df_summaries.to_csv(summary_file_name_today_cvs, index=False)"
   ]
  },
  {
   "cell_type": "code",
   "execution_count": 13,
   "metadata": {},
   "outputs": [],
   "source": [
    "## Save summaries to an HTML file \n",
    "df_summaries = pd.read_csv(summary_file_name_today_cvs)\n",
    "html_content = fetch_videos.get_html_content_summary_only(df_summaries)\n",
    "# print(html_content)\n",
    "\n",
    "# Save the HTML content to an HTML file\n",
    "with open(summary_file_name_today_html, 'w') as file:\n",
    "    file.write(html_content)"
   ]
  },
  {
   "cell_type": "code",
   "execution_count": 14,
   "metadata": {},
   "outputs": [],
   "source": [
    "# save titles and transcripts to a text file\n",
    "summary_file_name_today_txt = f'{summary_file_name_today}.txt'\n",
    "fetch_videos.save_videos_to_text(df_summaries, summary_file_name_today_txt,\"Title\", \"Summary\")"
   ]
  },
  {
   "cell_type": "code",
   "execution_count": 15,
   "metadata": {},
   "outputs": [
    {
     "name": "stdout",
     "output_type": "stream",
     "text": [
      "The text discusses small-cap stocks and includes mentions of the Russell stocks category in several areas. Notably, the mentions are found in the discussions led by Moneta's Aoifinn Devitt and the summary of the insights shared by Dan Flax of Neuberger Berman:\n",
      "\n",
      "1. **Discussion with Aoifinn Devitt:** \n",
      "   - The focus is on the performance of small and mid-cap stocks, which are noted to be currently down by 2% for the quarter. However, they are expected to outperform the broader market in profit growth terms.\n",
      "   - Small and mid-cap stocks are predicted to experience significantly faster profit growth than the S&P 500, with anticipated growth in the high teens to over 20%, contrasting with the S&P 500's expected growth in the low teens.\n",
      "   - There is an expectation of potential rate cuts which could benefit small and mid-caps more due to their lower interest coverage ratio compared to larger companies.\n",
      "\n",
      "2. **Dan Flax's Insights:** \n",
      "   - Discussion mentions a focus on small and mid-cap stocks, emphasizing their strong performance particularly as the market navigates through the challenges posed by potential recessions.\n",
      "   - The market conditions favored small and mid-cap stocks over tech giants like Nvidia, Apple, and Alphabet, which are currently seen as less attractive due to ongoing valuation corrections.\n",
      "\n",
      "These discussions suggest a significant interest and potential in small and mid-cap stocks amidst current market conditions and economic outlooks. Unfortunately, specific details as to which video or speaker provided these insights were not included in your provided excerpts.\n"
     ]
    }
   ],
   "source": [
    "task2 = \"\"\"Please tell me anything discussed in the file about small cap or russell stocks. \n",
    "Please also provide which video or speaker side this\n",
    "\"\"\"\n",
    "with open(summary_file_name_today_txt, 'r') as file:\n",
    "    all_transcripts = file.read()\n",
    "summary = fetch_videos.apply_task(all_transcripts, client, task2)\n",
    "print(summary)"
   ]
  },
  {
   "cell_type": "markdown",
   "metadata": {},
   "source": []
  },
  {
   "cell_type": "markdown",
   "metadata": {},
   "source": [
    "### AI for all transcripts"
   ]
  },
  {
   "cell_type": "markdown",
   "metadata": {},
   "source": [
    "## Send emails"
   ]
  },
  {
   "cell_type": "code",
   "execution_count": 16,
   "metadata": {},
   "outputs": [],
   "source": [
    "import smtplib\n",
    "from email.mime.multipart import MIMEMultipart\n",
    "from email.mime.text import MIMEText\n",
    "import pandas as pd\n",
    "import os\n",
    "import fetch_videos\n",
    "\n",
    "email_user = os.getenv('EMAIL_USER')\n",
    "email_password = os.getenv('EMAIL_PASSWORD')\n",
    "email_send1 = 'sliu810@gmail.com'\n",
    "email_send2 = 'zhengwang827@gmail.com'\n",
    "\n",
    "recipients = [email_send1, email_send2]\n",
    "# Set up the MIME\n",
    "message = MIMEMultipart()\n",
    "message['From'] = email_user\n",
    "message['To'] = email_send1\n",
    "message['Subject'] = f'summaries_{channel_name}_{fetch_videos.get_formated_date_today()}'\n",
    "\n",
    "# load df_summaries from disk and get the html content\n",
    "df_summaries = pd.read_csv(summary_file_name_today_cvs)\n",
    "html_content= fetch_videos.get_html_content_summary_only(df_summaries)\n",
    "\n",
    "# Attach the HTML content to the email\n",
    "message.attach(MIMEText(html_content, 'html'))\n",
    "\n",
    "# Function to send email\n",
    "def send_email():\n",
    "    try:\n",
    "        server = smtplib.SMTP('smtp-mail.outlook.com', 587)  # Outlook SMTP server\n",
    "        #server.set_debuglevel(1)  # Enable debugging output\n",
    "        server.starttls()\n",
    "        server.login(email_user, email_password)\n",
    "        text = message.as_string()\n",
    "        server.sendmail(email_user, recipients, text)\n",
    "        server.quit()\n",
    "        print(\"Email sent successfully!\")\n",
    "    except Exception as e:\n",
    "        print(f\"Failed to send email: {e}\")\n",
    "\n",
    "# Send the email\n",
    "# send_email()"
   ]
  },
  {
   "cell_type": "markdown",
   "metadata": {},
   "source": [
    "# One Off Study"
   ]
  },
  {
   "cell_type": "markdown",
   "metadata": {},
   "source": []
  },
  {
   "cell_type": "code",
   "execution_count": 17,
   "metadata": {},
   "outputs": [],
   "source": [
    "# transcript = fetch_videos.get_transcript('GabBf791bdY')\n",
    "# print(transcript)\n",
    "# # Example task\n",
    "# task2 = \"\"\"I would like you to summarize the text which describes Tesla FSD.\n",
    "# Please say in what senario FSD performed well and waht senario it didn't perform well.\n",
    "# Format like this:\n",
    "# Title: \n",
    "# Key takeaways:\n",
    "# * FSD performed well in ...\n",
    "# * FSD had some challenges in ....\n",
    "# Improvement over pervious version if any.\n",
    "# \"\"\"\n",
    "# task3 = \"\"\"could you print the transcript with two person speaking into a human readible format and maintain the original content?\"\"\"\n",
    "\n",
    "# summary = get_summary(transcript, client, task3)\n",
    "# print(summary)"
   ]
  },
  {
   "cell_type": "code",
   "execution_count": 18,
   "metadata": {},
   "outputs": [],
   "source": [
    "def get_summary_in_chunks(transcript, client, task, chunk_size=500):\n",
    "    \"\"\"\n",
    "    Generates summaries in chunks to avoid truncation.\n",
    "\n",
    "    Parameters:\n",
    "    - transcript (str): The full transcript text.\n",
    "    - client (object): The client to use for generating summaries.\n",
    "    - task (str): The task identifier for the summary generation.\n",
    "    - chunk_size (int): The maximum size of each chunk.\n",
    "\n",
    "    Returns:\n",
    "    - str: Combined summary of all chunks.\n",
    "    \"\"\"\n",
    "    import textwrap\n",
    "\n",
    "    # Split the transcript into chunks\n",
    "    chunks = textwrap.wrap(transcript, chunk_size)\n",
    "    full_summary = \"\"\n",
    "\n",
    "    for chunk in chunks:\n",
    "        summary = get_summary(chunk, client, task)\n",
    "        full_summary += summary + \"\\n\"\n",
    "\n",
    "    return full_summary"
   ]
  },
  {
   "cell_type": "code",
   "execution_count": 19,
   "metadata": {},
   "outputs": [],
   "source": [
    "# transcript = fetch_videos.get_transcript('I8JzsnZVylY')\n",
    "# print(transcript)"
   ]
  },
  {
   "cell_type": "code",
   "execution_count": 20,
   "metadata": {},
   "outputs": [
    {
     "name": "stdout",
     "output_type": "stream",
     "text": [
      "The text discusses small-cap stocks and includes mentions of the Russell stocks category in several areas. Notably, the mentions are found in the discussions led by Moneta's Aoifinn Devitt and the summary of the insights shared by Dan Flax of Neuberger Berman:\n",
      "\n",
      "1. **Discussion with Aoifinn Devitt:** \n",
      "   - The focus is on the performance of small and mid-cap stocks, which are noted to be currently down by 2% for the quarter. However, they are expected to outperform the broader market in profit growth terms.\n",
      "   - Small and mid-cap stocks are predicted to experience significantly faster profit growth than the S&P 500, with anticipated growth in the high teens to over 20%, contrasting with the S&P 500's expected growth in the low teens.\n",
      "   - There is an expectation of potential rate cuts which could benefit small and mid-caps more due to their lower interest coverage ratio compared to larger companies.\n",
      "\n",
      "2. **Dan Flax's Insights:** \n",
      "   - Discussion mentions a focus on small and mid-cap stocks, emphasizing their strong performance particularly as the market navigates through the challenges posed by potential recessions.\n",
      "   - The market conditions favored small and mid-cap stocks over tech giants like Nvidia, Apple, and Alphabet, which are currently seen as less attractive due to ongoing valuation corrections.\n",
      "\n",
      "These discussions suggest a significant interest and potential in small and mid-cap stocks amidst current market conditions and economic outlooks. Unfortunately, specific details as to which video or speaker provided these insights were not included in your provided excerpts.\n"
     ]
    }
   ],
   "source": [
    "task2 = \"\"\"I would like you to summarize the text which describes Tesla FSD.\n",
    "Please say in what senario FSD performed well and waht senario it didn't perform well.\n",
    "Format like this:\n",
    "Title: \n",
    "Key takeaways:\n",
    "* FSD performed well in ...\n",
    "* FSD had some challenges in ....\n",
    "Improvement over pervious version if any.\n",
    "\"\"\"\n",
    "task3 = \"\"\"\"\"\"\n",
    "\n",
    "# summary = fetch_videos.apply_task(transcript, client, task3)\n",
    "print(summary)"
   ]
  }
 ],
 "metadata": {
  "kernelspec": {
   "display_name": "ml4t",
   "language": "python",
   "name": "python3"
  },
  "language_info": {
   "codemirror_mode": {
    "name": "ipython",
    "version": 3
   },
   "file_extension": ".py",
   "mimetype": "text/x-python",
   "name": "python",
   "nbconvert_exporter": "python",
   "pygments_lexer": "ipython3",
   "version": "3.12.4"
  }
 },
 "nbformat": 4,
 "nbformat_minor": 2
}
