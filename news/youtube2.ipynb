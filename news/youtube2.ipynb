{
 "cells": [
  {
   "cell_type": "markdown",
   "metadata": {},
   "source": [
    "# Youtube Study"
   ]
  },
  {
   "cell_type": "code",
   "execution_count": null,
   "metadata": {},
   "outputs": [],
   "source": [
    "!pip install google-api-python-client google-auth google-auth-oauthlib google-auth-httplib2 \n",
    "!pip install --upgrade google-auth-oauthlib\n",
    "!pip install openai"
   ]
  },
  {
   "cell_type": "code",
   "execution_count": 1,
   "metadata": {},
   "outputs": [],
   "source": [
    "# Imports and APIs\n",
    "import fetch_videos\n",
    "import openai\n",
    "import os\n",
    "import pandas as pd\n",
    "\n",
    "# Ensure you have set your OpenAI API key\n",
    "openai.api_key = os.getenv('OPENAI_API_KEY')\n",
    "client = openai.OpenAI()"
   ]
  },
  {
   "cell_type": "code",
   "execution_count": 2,
   "metadata": {},
   "outputs": [],
   "source": [
    "## Define Channels\n",
    "# @BobUnlimited\n",
    "channel_BobUnlimited = fetch_videos.channels[\"BobUnlimited\"]\n",
    "channel_BobUnlimited_name = fetch_videos.get_channel_name_by_id(channel_BobUnlimited, fetch_videos.channels)\n",
    "# @LukeGromenFFTTLLC\n",
    "channel_LukeGromenFFTTLLC = fetch_videos.channels[\"LukeGromenFFTTLLC\"]\n",
    "channel_LukeGromenFFTTLLC_name = fetch_videos.get_channel_name_by_id(channel_LukeGromenFFTTLLC, fetch_videos.channels)\n",
    "\n",
    "# @LukeGromenFFTTLLC\n",
    "channel_TheDavidLinReport = fetch_videos.channels[\"TheDavidLinReport\"]\n",
    "channel_TheDavidLinReport_name = fetch_videos.get_channel_name_by_id(channel_TheDavidLinReport, fetch_videos.channels)\n",
    "\n",
    "# @DeepWater\n",
    "channel_DeepWater = fetch_videos.channels[\"DeepWater\"]\n",
    "channel_DeepWater_name = fetch_videos.get_channel_name_by_id(channel_DeepWater, fetch_videos.channels)\n",
    "\n",
    "# @TheLeadLagReport\n",
    "channel_LeadLag = fetch_videos.channels[\"TheLeadLagReport\"]\n",
    "channel_LeadLag_name = fetch_videos.get_channel_name_by_id(channel_LeadLag, fetch_videos.channels)\n"
   ]
  },
  {
   "cell_type": "markdown",
   "metadata": {},
   "source": [
    "## Channel Definitions and Setups"
   ]
  },
  {
   "cell_type": "markdown",
   "metadata": {},
   "source": [
    "# One Off Study"
   ]
  },
  {
   "cell_type": "code",
   "execution_count": null,
   "metadata": {},
   "outputs": [],
   "source": [
    "transcript = fetch_videos.get_transcript('UEo3yKHOT4k')\n",
    "print(transcript)"
   ]
  },
  {
   "cell_type": "code",
   "execution_count": null,
   "metadata": {},
   "outputs": [],
   "source": [
    "task2 = \"\"\"I would like you to summarize the text which describes Tesla FSD.\n",
    "Please say in what senario FSD performed well and waht senario it didn't perform well.\n",
    "Format like this:\n",
    "Title: \n",
    "Key takeaways:\n",
    "* FSD performed well in ...\n",
    "* FSD had some challenges in ....\n",
    "Improvement over pervious version if any.\n",
    "\"\"\"\n",
    "task3 = \"\"\"\"\"\"\n",
    "\n",
    "# summary = fetch_videos.apply_task(transcript, client, task3)\n",
    "print(summary)"
   ]
  },
  {
   "cell_type": "markdown",
   "metadata": {},
   "source": [
    "# Channel Study"
   ]
  },
  {
   "cell_type": "markdown",
   "metadata": {},
   "source": [
    "### Aquire Transcript Database"
   ]
  },
  {
   "cell_type": "code",
   "execution_count": 3,
   "metadata": {},
   "outputs": [],
   "source": [
    "channel_id = channel_LeadLag\n",
    "file_name_csv = f'{channel_LeadLag_name}.csv'"
   ]
  },
  {
   "cell_type": "code",
   "execution_count": 4,
   "metadata": {},
   "outputs": [
    {
     "name": "stdout",
     "output_type": "stream",
     "text": [
      "Appended 502 new videos to TheLeadLagReport.csv.\n"
     ]
    },
    {
     "name": "stderr",
     "output_type": "stream",
     "text": [
      "/Users/sliu/src/mysrc/investing/razorback_investing/news/fetch_videos.py:163: FutureWarning: The behavior of DataFrame concatenation with empty or all-NA entries is deprecated. In a future version, this will no longer exclude empty or all-NA columns when determining the result dtypes. To retain the old behavior, exclude the relevant entries before the concat operation.\n",
      "  combined_df = pd.concat([existing_df, new_videos_df], ignore_index=True).sort_values(by=['Published At'], ascending=False)\n"
     ]
    }
   ],
   "source": [
    "## Fetch videos and save to csv\n",
    "period_type = 'months'  # 'today', 'days', 'weeks', 'months'\n",
    "number = 12  # The 'today' setting does not use 'number', adjust if using other settings\n",
    "start_date, end_date = fetch_videos.get_date_range(period_type, number)\n",
    "df_videos = fetch_videos.fetch_videos(start_date, end_date, channel_id,file_name_csv)"
   ]
  },
  {
   "cell_type": "code",
   "execution_count": 5,
   "metadata": {},
   "outputs": [
    {
     "name": "stdout",
     "output_type": "stream",
     "text": [
      "An error occurred for video ID oU8yoZB5LBk: \n",
      "Could not retrieve a transcript for the video https://www.youtube.com/watch?v=oU8yoZB5LBk! This is most likely caused by:\n",
      "\n",
      "Subtitles are disabled for this video\n",
      "\n",
      "If you are sure that the described cause is not responsible for this error and that a transcript should be retrievable, please create an issue at https://github.com/jdepoix/youtube-transcript-api/issues. Please add which version of youtube_transcript_api you are using and provide the information needed to replicate the error. Also make sure that there are no open issues which already describe your problem!\n",
      "An error occurred for video ID NTgA-UnUKDs: no element found: line 1, column 0\n",
      "An error occurred for video ID 62mUL_ahqQo: \n",
      "Could not retrieve a transcript for the video https://www.youtube.com/watch?v=62mUL_ahqQo! This is most likely caused by:\n",
      "\n",
      "Subtitles are disabled for this video\n",
      "\n",
      "If you are sure that the described cause is not responsible for this error and that a transcript should be retrievable, please create an issue at https://github.com/jdepoix/youtube-transcript-api/issues. Please add which version of youtube_transcript_api you are using and provide the information needed to replicate the error. Also make sure that there are no open issues which already describe your problem!\n",
      "An error occurred for video ID aHm9M8kGCiQ: no element found: line 1, column 0\n",
      "An error occurred for video ID Q4CXTeYS-M8: no element found: line 1, column 0\n",
      "An error occurred for video ID _NjlFZLdYAQ: \n",
      "Could not retrieve a transcript for the video https://www.youtube.com/watch?v=_NjlFZLdYAQ! This is most likely caused by:\n",
      "\n",
      "Subtitles are disabled for this video\n",
      "\n",
      "If you are sure that the described cause is not responsible for this error and that a transcript should be retrievable, please create an issue at https://github.com/jdepoix/youtube-transcript-api/issues. Please add which version of youtube_transcript_api you are using and provide the information needed to replicate the error. Also make sure that there are no open issues which already describe your problem!\n",
      "An error occurred for video ID -iKi0lLKqps: no element found: line 1, column 0\n",
      "An error occurred for video ID qdk5usCpYUw: no element found: line 1, column 0\n"
     ]
    }
   ],
   "source": [
    "## Get transcripts and save the appended df to csv\n",
    "df_videos = fetch_videos.add_transcripts_to_df(df_videos)\n",
    "# save df_videos to csv\n",
    "df_videos.to_csv(file_name_csv, index=False)"
   ]
  },
  {
   "cell_type": "markdown",
   "metadata": {},
   "source": [
    "### Work on Video Transcripts"
   ]
  },
  {
   "cell_type": "code",
   "execution_count": null,
   "metadata": {},
   "outputs": [],
   "source": [
    "channel_id = channel_LeadLag\n",
    "file_name_csv = f'{channel_LeadLag_name}.csv'"
   ]
  },
  {
   "cell_type": "code",
   "execution_count": null,
   "metadata": {},
   "outputs": [],
   "source": [
    "# read csv\n",
    "df_videos = pd.read_csv(file_name_csv)"
   ]
  },
  {
   "cell_type": "code",
   "execution_count": null,
   "metadata": {},
   "outputs": [],
   "source": [
    "fetch_videos.display_df(df_videos.head(5),include_transcript=True)\n"
   ]
  },
  {
   "cell_type": "code",
   "execution_count": null,
   "metadata": {},
   "outputs": [],
   "source": []
  }
 ],
 "metadata": {
  "kernelspec": {
   "display_name": "ml4t",
   "language": "python",
   "name": "python3"
  },
  "language_info": {
   "codemirror_mode": {
    "name": "ipython",
    "version": 3
   },
   "file_extension": ".py",
   "mimetype": "text/x-python",
   "name": "python",
   "nbconvert_exporter": "python",
   "pygments_lexer": "ipython3",
   "version": "3.12.4"
  }
 },
 "nbformat": 4,
 "nbformat_minor": 2
}
