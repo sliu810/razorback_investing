{
 "cells": [
  {
   "cell_type": "markdown",
   "metadata": {},
   "source": [
    "# Stock Price Quick Analysis"
   ]
  },
  {
   "cell_type": "code",
   "execution_count": null,
   "metadata": {},
   "outputs": [],
   "source": [
    "!pip install requests pandas yfinance investpy lxml beautifulsoup4 tabulate plotly\n",
    "!pip install nbformat --upgrade"
   ]
  },
  {
   "cell_type": "code",
   "execution_count": 11,
   "metadata": {},
   "outputs": [
    {
     "name": "stderr",
     "output_type": "stream",
     "text": [
      "$VIX: possibly delisted; No price data found  (1d 2024-02-14 -> 2024-08-14)\n"
     ]
    },
    {
     "name": "stdout",
     "output_type": "stream",
     "text": [
      "$VIX: possibly delisted; No price data found  (1d 2024-02-14 -> 2024-08-14)\n",
      "Warning: No data available for VIX in the specified period.\n"
     ]
    },
    {
     "name": "stderr",
     "output_type": "stream",
     "text": [
      "$DXY: possibly delisted; No price data found  (1d 2024-02-14 -> 2024-08-14)\n"
     ]
    },
    {
     "name": "stdout",
     "output_type": "stream",
     "text": [
      "$DXY: possibly delisted; No price data found  (1d 2024-02-14 -> 2024-08-14)\n",
      "Warning: No data available for DXY in the specified period.\n",
      "  symbol  start_date    end_date  start_price  end_price percent_change\n",
      "0    GLD  2024-02-14  2024-08-14        184.4      228.1          23.7%\n",
      "Plotting GLD with 125 data points.\n"
     ]
    }
   ],
   "source": [
    "import stock_performance\n",
    "\n",
    "# symbols = ['AAPL', 'MSFT', 'TSLA', 'BTC-USD', 'TQQQ']\n",
    "symbols = ['VIX', 'GLD', 'DXY']\n",
    "period = '6m'  # Options: 'ytd', '1d', '5d', '1m', '6m', '1y', '2y', '3y', '5y', '10y', '20y'\n",
    "start_date = None #'2024-01-01'  # '2021-01-01' can be specified here to override period\n",
    "end_date = None  # Example: '2023-12-31'\n",
    "\n",
    "fig = stock_performance.get_and_print_stock_performance(symbols, period=period, start_date=start_date, end_date=end_date, normalize=True,environment='notebook')\n",
    "# fig.show()"
   ]
  },
  {
   "cell_type": "code",
   "execution_count": 8,
   "metadata": {},
   "outputs": [
    {
     "name": "stdout",
     "output_type": "stream",
     "text": [
      "    Symbol    1d     5d      1m     6m     ytd      1y      2y     3y       5y\n",
      "0     AAPL  0.0%   2.5%   -5.5%  20.5%   19.7%   25.4%   29.2%  48.9%   342.6%\n",
      "1     MSFT  0.0%   2.0%   -8.8%   1.3%   12.0%   29.6%   43.6%  44.2%   217.7%\n",
      "2     TSLA  0.0%   3.9%  -17.7%  10.1%  -16.3%  -10.8%  -32.8%  -9.1%  1313.6%\n",
      "3  BTC-USD  0.0%  -0.4%   -6.6%  16.9%   37.2%  107.8%  151.1%  28.8%   484.2%\n",
      "4     TQQQ  0.0%   8.2%  -21.7%   9.5%   33.1%   64.8%   68.3%  -4.6%   344.8%\n"
     ]
    }
   ],
   "source": [
    "import stock_performance\n",
    "import pandas as pd\n",
    "\n",
    "# Define the stock symbols and periods\n",
    "symbols = ['AAPL', 'MSFT', 'TSLA', 'BTC-USD', 'TQQQ']\n",
    "periods = ['1d', '5d', '1m', '6m', 'ytd', '1y', '2y', '3y', '5y']\n",
    "\n",
    "# Initialize an empty list to store results\n",
    "results = []\n",
    "\n",
    "# Loop through each stock symbol and calculate performance for each period\n",
    "for symbol in symbols:\n",
    "    symbol_result = {'Symbol': symbol}\n",
    "    for period in periods:\n",
    "        # Get the performance data for the current symbol and period\n",
    "        start_date, end_date = stock_performance.get_date_from_period(period)\n",
    "        performance_data = stock_performance.get_stock_performance(symbol, start_date, end_date)\n",
    "        \n",
    "        # Extract the performance percentage from the result\n",
    "        if performance_data:\n",
    "            symbol_result[period] = f\"{performance_data['percent_change']:.1f}%\"\n",
    "        else:\n",
    "            symbol_result[period] = \"N/A\"\n",
    "\n",
    "    results.append(symbol_result)\n",
    "\n",
    "# Convert results into a DataFrame\n",
    "performance_df = pd.DataFrame(results)\n",
    "\n",
    "# Display the DataFrame\n",
    "print(performance_df)"
   ]
  },
  {
   "cell_type": "code",
   "execution_count": 14,
   "metadata": {},
   "outputs": [
    {
     "name": "stdout",
     "output_type": "stream",
     "text": [
      "2024-08-13 2024-08-14\n",
      "2024-08-09 2024-08-14\n",
      "2024-07-15 2024-08-14\n",
      "2024-02-14 2024-08-14\n",
      "2024-01-01 2024-08-14\n",
      "2023-08-15 2024-08-14\n",
      "2022-08-15 2024-08-14\n",
      "2021-08-15 2024-08-14\n",
      "2019-08-16 2024-08-14\n",
      "2024-08-13 2024-08-14\n",
      "2024-08-09 2024-08-14\n",
      "2024-07-15 2024-08-14\n",
      "2024-02-14 2024-08-14\n",
      "2024-01-01 2024-08-14\n",
      "2023-08-15 2024-08-14\n",
      "2022-08-15 2024-08-14\n",
      "2021-08-15 2024-08-14\n",
      "2019-08-16 2024-08-14\n",
      "2024-08-13 2024-08-14\n",
      "2024-08-09 2024-08-14\n",
      "2024-07-15 2024-08-14\n",
      "2024-02-14 2024-08-14\n",
      "2024-01-01 2024-08-14\n",
      "2023-08-15 2024-08-14\n",
      "2022-08-15 2024-08-14\n",
      "2021-08-15 2024-08-14\n",
      "2019-08-16 2024-08-14\n",
      "  Symbol    1d    5d      1m     6m    ytd     1y      2y     3y      5y\n",
      "0   AAPL  0.0%  2.5%   -5.5%  20.5%  19.7%  25.4%   29.2%  48.9%  342.6%\n",
      "1   GOOG  0.0%  0.3%  -11.8%  12.9%  19.0%  27.5%   35.2%  19.5%  182.1%\n",
      "2   META  0.0%  2.1%    6.5%  11.9%  52.9%  75.4%  192.8%  44.5%  188.3%\n"
     ]
    }
   ],
   "source": [
    "import stock_performance\n",
    "import pandas as pd\n",
    "\n",
    "# Define the stock symbols and periods\n",
    "symbols = ['AAPL', 'GOOG', 'META']\n",
    "periods = ['1d', '5d', '1m', '6m', 'ytd', '1y', '2y', '3y', '5y']\n",
    "\n",
    "# Initialize an empty list to store results\n",
    "results = []\n",
    "\n",
    "# Loop through each stock symbol and calculate performance for each period\n",
    "for symbol in symbols:\n",
    "    symbol_result = {'Symbol': symbol}\n",
    "    for period in periods:\n",
    "        # Get the performance data for the current symbol and period\n",
    "        start_date, end_date = stock_performance.get_date_from_period(period)\n",
    "        # print(start_date, end_date)\n",
    "        performance_data = stock_performance.get_stock_performance(symbol, start_date, end_date)\n",
    "        \n",
    "        # Extract the performance percentage from the result\n",
    "        if performance_data:\n",
    "            symbol_result[period] = f\"{performance_data['percent_change']:.1f}%\"\n",
    "        else:\n",
    "            symbol_result[period] = \"N/A\"\n",
    "\n",
    "    results.append(symbol_result)\n",
    "\n",
    "# Convert results into a DataFrame\n",
    "performance_df = pd.DataFrame(results)\n",
    "\n",
    "# Display the DataFrame\n",
    "print(performance_df)"
   ]
  },
  {
   "cell_type": "code",
   "execution_count": null,
   "metadata": {},
   "outputs": [],
   "source": []
  }
 ],
 "metadata": {
  "kernelspec": {
   "display_name": "ml4t",
   "language": "python",
   "name": "python3"
  },
  "language_info": {
   "codemirror_mode": {
    "name": "ipython",
    "version": 3
   },
   "file_extension": ".py",
   "mimetype": "text/x-python",
   "name": "python",
   "nbconvert_exporter": "python",
   "pygments_lexer": "ipython3",
   "version": "3.12.4"
  }
 },
 "nbformat": 4,
 "nbformat_minor": 2
}
