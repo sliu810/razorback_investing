{
 "cells": [
  {
   "cell_type": "markdown",
   "metadata": {},
   "source": [
    "# Daily News"
   ]
  },
  {
   "cell_type": "code",
   "execution_count": null,
   "metadata": {},
   "outputs": [],
   "source": [
    "# !pip install google-api-python-client google-auth google-auth-oauthlib google-auth-httplib2 \n",
    "# !pip install --upgrade google-auth-oauthlib\n",
    "# !pip install openai"
   ]
  },
  {
   "cell_type": "markdown",
   "metadata": {},
   "source": [
    "## Daily CNBC News"
   ]
  },
  {
   "cell_type": "code",
   "execution_count": 2,
   "metadata": {},
   "outputs": [
    {
     "name": "stdout",
     "output_type": "stream",
     "text": [
      "2024-10-02 14:39:56,525 - INFO - Setting channel to CNBC_TV\n",
      "2024-10-02 14:39:56,527 - INFO - Channel set to CNBC_TV (ID: UCrp_UI8XtuYfpiqluWLD7Lw)\n",
      "2024-10-02 14:39:56,528 - INFO - Summaries will be saved in: /Users/sliu/src/mysrc/investing/razorback_investing/news/youtube_summary_data/CNBC_TV\n",
      "2024-10-02 14:39:56,528 - INFO - Starting stage: _set_channel\n",
      "2024-10-02 14:39:56,529 - INFO - Setting channel to CNBC_TV\n",
      "2024-10-02 14:39:56,530 - INFO - Channel set to CNBC_TV (ID: UCrp_UI8XtuYfpiqluWLD7Lw)\n",
      "2024-10-02 14:39:56,530 - INFO - Summaries will be saved in: /Users/sliu/src/mysrc/investing/razorback_investing/news/youtube_summary_data/CNBC_TV\n",
      "2024-10-02 14:39:56,530 - INFO - Completed stage: _set_channel\n",
      "2024-10-02 14:39:56,530 - INFO - Starting stage: _load_existing_data\n",
      "2024-10-02 14:39:56,531 - INFO - No existing data found. Will start with an empty DataFrame.\n",
      "2024-10-02 14:39:56,538 - INFO - Completed stage: _load_existing_data\n",
      "2024-10-02 14:39:56,540 - INFO - Starting stage: _fetch_videos\n",
      "2024-10-02 14:39:56,540 - INFO - Fetching videos for channel ID: UCrp_UI8XtuYfpiqluWLD7Lw\n",
      "2024-10-02 14:39:56,542 - INFO - Date range: 2024-10-02 00:00:00-05:00 to 2024-10-02 23:59:59.999999-05:00\n",
      "2024-10-02 14:39:56,544 - INFO - No existing data found. Starting fresh.\n",
      "2024-10-02 14:39:56,544 - INFO - Fetching videos with args: start_date=2024-10-02 00:00:00-05:00, end_date=2024-10-02 23:59:59.999999-05:00, channel_id=UCrp_UI8XtuYfpiqluWLD7Lw\n",
      "2024-10-02 14:39:56,545 - INFO - Existing DataFrame shape: (0, 0)\n",
      "2024-10-02 14:39:57,262 - INFO - Fetched videos DataFrame shape: (39, 5)\n",
      "2024-10-02 14:39:57,268 - INFO - Added 39 new videos. Total videos: 39\n",
      "2024-10-02 14:39:57,269 - INFO - Working with 39 videos.\n",
      "2024-10-02 14:39:57,269 - INFO - Completed stage: _fetch_videos\n",
      "2024-10-02 14:39:57,269 - INFO - Starting stage: _add_transcripts\n",
      "2024-10-02 14:39:57,270 - INFO - Adding transcripts to videos\n"
     ]
    },
    {
     "name": "stderr",
     "output_type": "stream",
     "text": [
      "/Users/sliu/src/mysrc/investing/razorback_investing/news/fetch_videos.py:173: FutureWarning: The behavior of DataFrame concatenation with empty or all-NA entries is deprecated. In a future version, this will no longer exclude empty or all-NA columns when determining the result dtypes. To retain the old behavior, exclude the relevant entries before the concat operation.\n",
      "  combined_df = pd.concat([existing_df, new_videos_df], ignore_index=True).sort_values(by=['Published At'], ascending=False)\n"
     ]
    },
    {
     "name": "stdout",
     "output_type": "stream",
     "text": [
      "An error occurred for video ID eFu-WlIXiUM: \n",
      "Could not retrieve a transcript for the video https://www.youtube.com/watch?v=eFu-WlIXiUM! This is most likely caused by:\n",
      "\n",
      "Subtitles are disabled for this video\n",
      "\n",
      "If you are sure that the described cause is not responsible for this error and that a transcript should be retrievable, please create an issue at https://github.com/jdepoix/youtube-transcript-api/issues. Please add which version of youtube_transcript_api you are using and provide the information needed to replicate the error. Also make sure that there are no open issues which already describe your problem!\n",
      "2024-10-02 14:40:31,880 - INFO - Saved videos with transcripts to /Users/sliu/src/mysrc/investing/razorback_investing/news/youtube_summary_data/CNBC_TV/youtube_summary_CNBC_TV_2024-10-02.csv\n",
      "2024-10-02 14:40:31,881 - INFO - Completed stage: _add_transcripts\n",
      "2024-10-02 14:40:31,883 - INFO - Starting stage: _generate_summaries\n",
      "2024-10-02 14:40:31,886 - INFO - Generating summaries for videos\n",
      "2024-10-02 14:40:34,874 - INFO - HTTP Request: POST https://api.openai.com/v1/chat/completions \"HTTP/1.1 200 OK\"\n",
      "2024-10-02 14:40:40,975 - INFO - HTTP Request: POST https://api.openai.com/v1/chat/completions \"HTTP/1.1 200 OK\"\n",
      "2024-10-02 14:40:43,814 - INFO - HTTP Request: POST https://api.openai.com/v1/chat/completions \"HTTP/1.1 200 OK\"\n",
      "2024-10-02 14:40:45,140 - INFO - HTTP Request: POST https://api.openai.com/v1/chat/completions \"HTTP/1.1 200 OK\"\n",
      "2024-10-02 14:40:47,121 - INFO - HTTP Request: POST https://api.openai.com/v1/chat/completions \"HTTP/1.1 200 OK\"\n",
      "2024-10-02 14:40:49,354 - INFO - HTTP Request: POST https://api.openai.com/v1/chat/completions \"HTTP/1.1 200 OK\"\n",
      "2024-10-02 14:40:52,134 - INFO - HTTP Request: POST https://api.openai.com/v1/chat/completions \"HTTP/1.1 200 OK\"\n",
      "2024-10-02 14:40:56,588 - INFO - HTTP Request: POST https://api.openai.com/v1/chat/completions \"HTTP/1.1 200 OK\"\n",
      "2024-10-02 14:41:00,957 - INFO - HTTP Request: POST https://api.openai.com/v1/chat/completions \"HTTP/1.1 200 OK\"\n",
      "2024-10-02 14:41:03,274 - INFO - HTTP Request: POST https://api.openai.com/v1/chat/completions \"HTTP/1.1 200 OK\"\n",
      "2024-10-02 14:41:08,697 - INFO - HTTP Request: POST https://api.openai.com/v1/chat/completions \"HTTP/1.1 200 OK\"\n",
      "2024-10-02 14:41:14,787 - INFO - HTTP Request: POST https://api.openai.com/v1/chat/completions \"HTTP/1.1 200 OK\"\n",
      "2024-10-02 14:41:16,237 - INFO - HTTP Request: POST https://api.openai.com/v1/chat/completions \"HTTP/1.1 200 OK\"\n",
      "2024-10-02 14:41:20,155 - INFO - HTTP Request: POST https://api.openai.com/v1/chat/completions \"HTTP/1.1 200 OK\"\n",
      "2024-10-02 14:41:23,557 - INFO - HTTP Request: POST https://api.openai.com/v1/chat/completions \"HTTP/1.1 200 OK\"\n",
      "2024-10-02 14:41:27,114 - INFO - HTTP Request: POST https://api.openai.com/v1/chat/completions \"HTTP/1.1 200 OK\"\n",
      "2024-10-02 14:41:31,639 - INFO - HTTP Request: POST https://api.openai.com/v1/chat/completions \"HTTP/1.1 200 OK\"\n",
      "2024-10-02 14:41:39,040 - INFO - HTTP Request: POST https://api.openai.com/v1/chat/completions \"HTTP/1.1 200 OK\"\n",
      "2024-10-02 14:41:40,850 - INFO - HTTP Request: POST https://api.openai.com/v1/chat/completions \"HTTP/1.1 200 OK\"\n",
      "2024-10-02 14:41:47,817 - INFO - HTTP Request: POST https://api.openai.com/v1/chat/completions \"HTTP/1.1 200 OK\"\n",
      "2024-10-02 14:41:50,508 - INFO - HTTP Request: POST https://api.openai.com/v1/chat/completions \"HTTP/1.1 200 OK\"\n",
      "2024-10-02 14:41:54,395 - INFO - HTTP Request: POST https://api.openai.com/v1/chat/completions \"HTTP/1.1 200 OK\"\n",
      "2024-10-02 14:41:58,100 - INFO - HTTP Request: POST https://api.openai.com/v1/chat/completions \"HTTP/1.1 200 OK\"\n",
      "2024-10-02 14:42:04,314 - INFO - HTTP Request: POST https://api.openai.com/v1/chat/completions \"HTTP/1.1 200 OK\"\n",
      "2024-10-02 14:42:07,763 - INFO - HTTP Request: POST https://api.openai.com/v1/chat/completions \"HTTP/1.1 200 OK\"\n",
      "2024-10-02 14:42:14,554 - INFO - HTTP Request: POST https://api.openai.com/v1/chat/completions \"HTTP/1.1 200 OK\"\n",
      "2024-10-02 14:42:19,450 - INFO - HTTP Request: POST https://api.openai.com/v1/chat/completions \"HTTP/1.1 200 OK\"\n",
      "2024-10-02 14:42:22,807 - INFO - HTTP Request: POST https://api.openai.com/v1/chat/completions \"HTTP/1.1 200 OK\"\n",
      "2024-10-02 14:42:25,487 - INFO - HTTP Request: POST https://api.openai.com/v1/chat/completions \"HTTP/1.1 200 OK\"\n",
      "2024-10-02 14:42:28,575 - INFO - HTTP Request: POST https://api.openai.com/v1/chat/completions \"HTTP/1.1 200 OK\"\n",
      "2024-10-02 14:42:32,163 - INFO - HTTP Request: POST https://api.openai.com/v1/chat/completions \"HTTP/1.1 200 OK\"\n",
      "2024-10-02 14:42:33,767 - INFO - HTTP Request: POST https://api.openai.com/v1/chat/completions \"HTTP/1.1 200 OK\"\n",
      "2024-10-02 14:42:41,936 - INFO - HTTP Request: POST https://api.openai.com/v1/chat/completions \"HTTP/1.1 200 OK\"\n",
      "2024-10-02 14:42:46,488 - INFO - HTTP Request: POST https://api.openai.com/v1/chat/completions \"HTTP/1.1 200 OK\"\n",
      "2024-10-02 14:42:50,829 - INFO - HTTP Request: POST https://api.openai.com/v1/chat/completions \"HTTP/1.1 200 OK\"\n",
      "2024-10-02 14:42:53,481 - INFO - HTTP Request: POST https://api.openai.com/v1/chat/completions \"HTTP/1.1 200 OK\"\n",
      "2024-10-02 14:42:56,159 - INFO - HTTP Request: POST https://api.openai.com/v1/chat/completions \"HTTP/1.1 200 OK\"\n",
      "2024-10-02 14:43:03,368 - INFO - HTTP Request: POST https://api.openai.com/v1/chat/completions \"HTTP/1.1 200 OK\"\n",
      "2024-10-02 14:43:03,377 - INFO - Saved summaries to /Users/sliu/src/mysrc/investing/razorback_investing/news/youtube_summary_data/CNBC_TV/youtube_summary_CNBC_TV_2024-10-02.csv\n",
      "2024-10-02 14:43:03,378 - INFO - Completed stage: _generate_summaries\n",
      "2024-10-02 14:43:03,378 - INFO - Starting stage: _save_results\n",
      "2024-10-02 14:43:03,379 - INFO - Starting _save_results method\n",
      "2024-10-02 14:43:03,379 - INFO - DataFrame columns: ['Video ID', 'Title', 'Published At', 'Duration (Min)', 'URL', 'Transcript', 'Summary']\n",
      "2024-10-02 14:43:03,380 - INFO - Number of rows in DataFrame: 39\n",
      "2024-10-02 14:43:03,380 - INFO - Attempting to save csv file: /Users/sliu/src/mysrc/investing/razorback_investing/news/youtube_summary_data/CNBC_TV/youtube_summary_CNBC_TV_2024-10-02.csv\n",
      "2024-10-02 14:43:03,388 - INFO - Saved CSV to /Users/sliu/src/mysrc/investing/razorback_investing/news/youtube_summary_data/CNBC_TV/youtube_summary_CNBC_TV_2024-10-02.csv\n",
      "2024-10-02 14:43:03,389 - INFO - Attempting to save html file: /Users/sliu/src/mysrc/investing/razorback_investing/news/youtube_summary_data/CNBC_TV/youtube_summary_CNBC_TV_2024-10-02.html\n",
      "2024-10-02 14:43:03,394 - INFO - Saved HTML to /Users/sliu/src/mysrc/investing/razorback_investing/news/youtube_summary_data/CNBC_TV/youtube_summary_CNBC_TV_2024-10-02.html\n",
      "2024-10-02 14:43:03,395 - INFO - Attempting to save txt file: /Users/sliu/src/mysrc/investing/razorback_investing/news/youtube_summary_data/CNBC_TV/youtube_summary_CNBC_TV_2024-10-02.txt\n",
      "2024-10-02 14:43:03,401 - INFO - Saved TXT to /Users/sliu/src/mysrc/investing/razorback_investing/news/youtube_summary_data/CNBC_TV/youtube_summary_CNBC_TV_2024-10-02.txt\n",
      "2024-10-02 14:43:03,401 - INFO - Finished saving results in /Users/sliu/src/mysrc/investing/razorback_investing/news/youtube_summary_data/CNBC_TV\n",
      "2024-10-02 14:43:03,402 - INFO - Completed stage: _save_results\n",
      "2024-10-02 14:43:03,402 - INFO - Starting stage: _send_email\n",
      "2024-10-02 14:43:04,038 - ERROR - Failed to send email: (535, b'5.7.8 Username and Password not accepted. For more information, go to\\n5.7.8  https://support.google.com/mail/?p=BadCredentials 006d021491bc7-5e770d9f241sm3500712eaf.4 - gsmtp')\n",
      "2024-10-02 14:43:04,039 - INFO - Completed stage: _send_email\n",
      "2024-10-02 14:43:04,039 - INFO - Pipeline execution completed\n",
      "2024-10-02 14:43:04,039 - INFO - Pipeline completed successfully\n"
     ]
    }
   ],
   "source": [
    "from YouTubeSummary import YouTubeSummary, CONFIG\n",
    "\n",
    "# Use the default configuration\n",
    "yt_summary = YouTubeSummary(CONFIG)\n",
    "yt_summary.run()"
   ]
  },
  {
   "cell_type": "markdown",
   "metadata": {},
   "source": [
    "## Youtube Channel Studies"
   ]
  },
  {
   "cell_type": "code",
   "execution_count": null,
   "metadata": {},
   "outputs": [],
   "source": [
    "# Set custom channel and get all videos from that chanenl"
   ]
  },
  {
   "cell_type": "markdown",
   "metadata": {},
   "source": [
    "# One-off study"
   ]
  },
  {
   "cell_type": "code",
   "execution_count": null,
   "metadata": {},
   "outputs": [],
   "source": [
    "import fetch_videos\n",
    "from YouTubeSummary import YouTubeSummary, CONFIG\n",
    "import pandas as pd\n",
    "\n",
    "# Specify the video IDs you want to study\n",
    "video_ids = [\n",
    "    \"7GYLjlfbIIQ\",\n",
    "    # Add more video IDs as needed\n",
    "    # \"ANOTHER_VIDEO_ID\",\n",
    "    # \"YET_ANOTHER_VIDEO_ID\",\n",
    "]\n",
    "\n",
    "# Specify a single task to apply to all videos\n",
    "task = \"\"\"Provide a one-sentence summary of the video. Tell me the best products recomended by the videos\"\"\"\n",
    "\n",
    "# Create a YouTubeSummary instance (for using its configuration)\n",
    "yt_summary = YouTubeSummary(CONFIG)\n",
    "\n",
    "# Function to process a single video with the task\n",
    "def process_video(video_id, task):\n",
    "    # Get transcript\n",
    "    transcript = fetch_videos.get_transcript(video_id)\n",
    "    \n",
    "    # Apply the task\n",
    "    result = fetch_videos.apply_task(transcript, yt_summary._client, task)\n",
    "    \n",
    "    return {\n",
    "        \"Video ID\": video_id,\n",
    "        \"Transcript\": transcript,\n",
    "        \"Task Result\": result\n",
    "    }\n",
    "\n",
    "# Process each video\n",
    "results = []\n",
    "for video_id in video_ids:\n",
    "    try:\n",
    "        result = process_video(video_id, task)\n",
    "        results.append(result)\n",
    "        print(f\"Processed video: {video_id}\")\n",
    "    except Exception as e:\n",
    "        print(f\"Error processing video {video_id}: {str(e)}\")\n",
    "\n",
    "# Create a DataFrame with the results\n",
    "result_df = pd.DataFrame(results)\n",
    "\n",
    "# Display results\n",
    "for _, row in result_df.iterrows():\n",
    "    print(f\"Video ID: {row['Video ID']}\")\n",
    "    print(f\"Transcript (first 500 characters): {row['Transcript'][:500]}...\")\n",
    "    print(f\"Task Result: {row['Task Result']}\")\n",
    "    print(\"\\n\" + \"=\"*50 + \"\\n\")\n",
    "\n",
    "# Optionally, save the results to a CSV file\n",
    "# result_df.to_csv(\"one_off_study_results.csv\", index=False)"
   ]
  },
  {
   "cell_type": "code",
   "execution_count": null,
   "metadata": {},
   "outputs": [],
   "source": []
  }
 ],
 "metadata": {
  "kernelspec": {
   "display_name": "ml4t",
   "language": "python",
   "name": "python3"
  },
  "language_info": {
   "codemirror_mode": {
    "name": "ipython",
    "version": 3
   },
   "file_extension": ".py",
   "mimetype": "text/x-python",
   "name": "python",
   "nbconvert_exporter": "python",
   "pygments_lexer": "ipython3",
   "version": "3.12.4"
  }
 },
 "nbformat": 4,
 "nbformat_minor": 2
}
