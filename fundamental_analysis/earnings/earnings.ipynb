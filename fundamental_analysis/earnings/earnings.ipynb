{
 "cells": [
  {
   "cell_type": "code",
   "execution_count": 1,
   "metadata": {},
   "outputs": [],
   "source": [
    "# Earnings Analysis "
   ]
  },
  {
   "cell_type": "code",
   "execution_count": 2,
   "metadata": {},
   "outputs": [
    {
     "name": "stdout",
     "output_type": "stream",
     "text": [
      "Requirement already satisfied: yfinance in /Users/sliu/miniconda3/envs/ml4t/lib/python3.12/site-packages (0.2.40)\n",
      "Requirement already satisfied: nasdaq-data-link in /Users/sliu/miniconda3/envs/ml4t/lib/python3.12/site-packages (1.0.4)\n",
      "Requirement already satisfied: quandl in /Users/sliu/miniconda3/envs/ml4t/lib/python3.12/site-packages (3.7.0)\n",
      "Requirement already satisfied: python-dotenv in /Users/sliu/miniconda3/envs/ml4t/lib/python3.12/site-packages (1.0.1)\n",
      "Requirement already satisfied: termcolor in /Users/sliu/miniconda3/envs/ml4t/lib/python3.12/site-packages (2.4.0)\n",
      "Requirement already satisfied: pandas>=1.3.0 in /Users/sliu/miniconda3/envs/ml4t/lib/python3.12/site-packages (from yfinance) (2.2.2)\n",
      "Requirement already satisfied: numpy>=1.16.5 in /Users/sliu/miniconda3/envs/ml4t/lib/python3.12/site-packages (from yfinance) (2.0.0)\n",
      "Requirement already satisfied: requests>=2.31 in /Users/sliu/miniconda3/envs/ml4t/lib/python3.12/site-packages (from yfinance) (2.32.3)\n",
      "Requirement already satisfied: multitasking>=0.0.7 in /Users/sliu/miniconda3/envs/ml4t/lib/python3.12/site-packages (from yfinance) (0.0.11)\n",
      "Requirement already satisfied: lxml>=4.9.1 in /Users/sliu/miniconda3/envs/ml4t/lib/python3.12/site-packages (from yfinance) (5.2.2)\n",
      "Requirement already satisfied: platformdirs>=2.0.0 in /Users/sliu/miniconda3/envs/ml4t/lib/python3.12/site-packages (from yfinance) (4.2.2)\n",
      "Requirement already satisfied: pytz>=2022.5 in /Users/sliu/miniconda3/envs/ml4t/lib/python3.12/site-packages (from yfinance) (2024.1)\n",
      "Requirement already satisfied: frozendict>=2.3.4 in /Users/sliu/miniconda3/envs/ml4t/lib/python3.12/site-packages (from yfinance) (2.4.4)\n",
      "Requirement already satisfied: peewee>=3.16.2 in /Users/sliu/miniconda3/envs/ml4t/lib/python3.12/site-packages (from yfinance) (3.17.5)\n",
      "Requirement already satisfied: beautifulsoup4>=4.11.1 in /Users/sliu/miniconda3/envs/ml4t/lib/python3.12/site-packages (from yfinance) (4.12.3)\n",
      "Requirement already satisfied: html5lib>=1.1 in /Users/sliu/miniconda3/envs/ml4t/lib/python3.12/site-packages (from yfinance) (1.1)\n",
      "Requirement already satisfied: inflection>=0.3.1 in /Users/sliu/miniconda3/envs/ml4t/lib/python3.12/site-packages (from nasdaq-data-link) (0.5.1)\n",
      "Requirement already satisfied: python-dateutil in /Users/sliu/miniconda3/envs/ml4t/lib/python3.12/site-packages (from nasdaq-data-link) (2.9.0)\n",
      "Requirement already satisfied: six in /Users/sliu/miniconda3/envs/ml4t/lib/python3.12/site-packages (from nasdaq-data-link) (1.16.0)\n",
      "Requirement already satisfied: more-itertools in /Users/sliu/miniconda3/envs/ml4t/lib/python3.12/site-packages (from nasdaq-data-link) (10.3.0)\n",
      "Requirement already satisfied: soupsieve>1.2 in /Users/sliu/miniconda3/envs/ml4t/lib/python3.12/site-packages (from beautifulsoup4>=4.11.1->yfinance) (2.5)\n",
      "Requirement already satisfied: webencodings in /Users/sliu/miniconda3/envs/ml4t/lib/python3.12/site-packages (from html5lib>=1.1->yfinance) (0.5.1)\n",
      "Requirement already satisfied: tzdata>=2022.7 in /Users/sliu/miniconda3/envs/ml4t/lib/python3.12/site-packages (from pandas>=1.3.0->yfinance) (2024.1)\n",
      "Requirement already satisfied: charset-normalizer<4,>=2 in /Users/sliu/miniconda3/envs/ml4t/lib/python3.12/site-packages (from requests>=2.31->yfinance) (3.3.2)\n",
      "Requirement already satisfied: idna<4,>=2.5 in /Users/sliu/miniconda3/envs/ml4t/lib/python3.12/site-packages (from requests>=2.31->yfinance) (3.7)\n",
      "Requirement already satisfied: urllib3<3,>=1.21.1 in /Users/sliu/miniconda3/envs/ml4t/lib/python3.12/site-packages (from requests>=2.31->yfinance) (2.2.2)\n",
      "Requirement already satisfied: certifi>=2017.4.17 in /Users/sliu/miniconda3/envs/ml4t/lib/python3.12/site-packages (from requests>=2.31->yfinance) (2024.6.2)\n"
     ]
    }
   ],
   "source": [
    "!pip install yfinance  nasdaq-data-link quandl python-dotenv termcolor"
   ]
  },
  {
   "cell_type": "markdown",
   "metadata": {},
   "source": [
    "## Stock Universe"
   ]
  },
  {
   "cell_type": "code",
   "execution_count": 3,
   "metadata": {},
   "outputs": [],
   "source": [
    "# Cell 1: Import Libraries\n",
    "import requests\n",
    "import pandas as pd\n",
    "import os\n",
    "from dotenv import load_dotenv\n",
    "from datetime import datetime\n",
    "import io\n",
    "import matplotlib.pyplot as plt\n",
    "import calendar\n",
    "import ipywidgets as widgets\n",
    "from IPython.display import display\n",
    "from termcolor import colored\n",
    "\n",
    "\n",
    "# Load environment variables from .env file\n",
    "load_dotenv()\n",
    "\n",
    "# Read the API key from environment variable\n",
    "api_key = os.getenv('ALPHA_VANTAGE_API_KEY')"
   ]
  },
  {
   "cell_type": "code",
   "execution_count": null,
   "metadata": {},
   "outputs": [],
   "source": []
  },
  {
   "cell_type": "markdown",
   "metadata": {},
   "source": [
    "## Earnings Calendar"
   ]
  },
  {
   "cell_type": "code",
   "execution_count": 4,
   "metadata": {},
   "outputs": [],
   "source": [
    "# Function to fetch earnings calendar data\n",
    "def fetch_earnings_calendar(symbol, api_key, horizon='3month'):\n",
    "    url = f'https://www.alphavantage.co/query?function=EARNINGS_CALENDAR&symbol={symbol}&horizon={horizon}&apikey={api_key}'\n",
    "    response = requests.get(url)\n",
    "    if response.status_code == 200:\n",
    "        data = response.content.decode('utf-8')\n",
    "        return pd.read_csv(io.StringIO(data))\n",
    "    else:\n",
    "        print(f\"Failed to fetch data for {symbol}. Status code: {response.status_code}\")\n",
    "        return None\n",
    "\n",
    "# Function to fetch and organize earnings calendar data for baskets\n",
    "def get_earnings_calendar(baskets, api_key, horizon=3):\n",
    "    earnings_calendar = []\n",
    "    end_date = datetime.now() + pd.DateOffset(months=horizon)\n",
    "    for basket_name, symbols in baskets.items():\n",
    "        for symbol in symbols:\n",
    "            earnings = fetch_earnings_calendar(symbol, api_key, horizon=f'{horizon}month')\n",
    "            if earnings is not None:\n",
    "                for index, row in earnings.iterrows():\n",
    "                    earnings_date = pd.to_datetime(row['reportDate'])\n",
    "                    if earnings_date <= end_date:\n",
    "                        earnings_calendar.append({\n",
    "                            'Basket': basket_name,\n",
    "                            'Symbol': symbol,\n",
    "                            'Date': row['reportDate'],\n",
    "                            'EPS': row.get('epsEstimate', 'N/A')  # Use .get() to avoid KeyError\n",
    "                        })\n",
    "    df = pd.DataFrame(earnings_calendar)\n",
    "    df['Date'] = pd.to_datetime(df['Date'])\n",
    "    return df\n",
    "\n",
    "# Function to print earnings calendar\n",
    "def print_earnings_calendar(earnings_calendar_df):\n",
    "    earnings_calendar_df['Date'] = pd.to_datetime(earnings_calendar_df['Date'])\n",
    "    print(f\"Earnings Calendar for the Next {horizon} Months:\")\n",
    "    for basket in earnings_calendar_df['Basket'].unique():\n",
    "        print(f\"\\nBasket: {basket}\")\n",
    "        basket_data = earnings_calendar_df[earnings_calendar_df['Basket'] == basket].sort_values(by='Date')\n",
    "        for index, row in basket_data.iterrows():\n",
    "            print(f\"Ticker: {row['Symbol']}, Earnings Date: {row['Date'].strftime('%Y-%m-%d')}, EPS Estimate: {row['EPS']}\")\n",
    "\n",
    "# Function to assign colors to each basket\n",
    "def assign_text_colors(baskets):\n",
    "    colors = ['red', 'green', 'yellow', 'blue', 'magenta', 'cyan']\n",
    "    color_map = {basket: colors[i % len(colors)] for i, basket in enumerate(baskets)}\n",
    "    return color_map\n",
    "\n",
    "# Enhanced function to print earnings by date with colors\n",
    "def print_earnings_by_date(earnings_calendar_df):\n",
    "    earnings_calendar_df['Date'] = pd.to_datetime(earnings_calendar_df['Date'])\n",
    "    grouped = earnings_calendar_df.groupby('Date').apply(lambda x: ', '.join(x['Symbol'] + ' (' + x['Basket'] + ')')).reset_index(name='Symbol')\n",
    "    \n",
    "    color_map = assign_text_colors(earnings_calendar_df['Basket'].unique())\n",
    "    \n",
    "    print(\"Earnings by Date:\")\n",
    "    for index, row in grouped.iterrows():\n",
    "        symbols = row['Symbol']\n",
    "        colored_symbols = []\n",
    "        for symbol in symbols.split(', '):\n",
    "            ticker, basket = symbol.split(' (')\n",
    "            basket = basket.rstrip(')')\n",
    "            colored_symbols.append(colored(ticker, color_map[basket]))\n",
    "        print(f\"{row['Date'].strftime('%Y-%m-%d')}: {', '.join(colored_symbols)}\")\n",
    "    \n",
    "    print(\"\\nLegend:\")\n",
    "    for basket, color in color_map.items():\n",
    "        print(colored(basket, color))"
   ]
  },
  {
   "cell_type": "markdown",
   "metadata": {},
   "source": [
    "### Define interested Stock Lists"
   ]
  },
  {
   "cell_type": "code",
   "execution_count": 5,
   "metadata": {},
   "outputs": [
    {
     "name": "stdout",
     "output_type": "stream",
     "text": [
      "{'Semiconductor': ['NVDA', 'MPWR', 'DELL', 'AMD', 'ASML', 'APLD', 'MRVL', 'ON', 'INTC', 'SMCI', 'AEHR', 'CSCO', 'QCOM', 'AVGO', 'MU'], 'Cybersecurity': ['NET', 'CRWD', 'PANW', 'FTNT', 'ZS', 'HACK'], 'Mag_7': ['NVDA', 'MSFT', 'AAPL', 'GOOG', 'TSLA', 'AMZN', 'META'], 'Crypto': ['SQ', 'IREN', 'COIN', 'CORZ', 'SOS', 'BTBT', 'RIOT', 'HUT', 'HIVE', 'MARA', 'MSTR', 'CLSK', 'WULF']}\n"
     ]
    }
   ],
   "source": [
    "# Cell 2 and 4 Combined: Define Stock Groups, Automate Dictionary Creation, and Create Baskets\n",
    "semiconductor = ['NVDA', 'AVGO', 'AMD', 'DELL', 'MU', 'INTC', 'QCOM', 'CSCO', 'MRVL', 'SMCI', 'ASML', 'ON', 'MPWR', 'APLD', 'AEHR']\n",
    "cybersecurity = ['PANW', 'NET', 'CRWD', 'FTNT','HACK','ZS']\n",
    "mag_7 = ['AAPL', 'MSFT', 'AMZN', 'NVDA', 'GOOG', 'META', 'TSLA']\n",
    "crypto = ['MARA', 'RIOT', 'HIVE', 'MSTR', 'HUT', 'IREN', 'SOS', 'WULF', 'CLSK', 'CORZ', 'BTBT', 'SQ', 'COIN']\n",
    "software_ai = ['SNOW','HUBS','HCP','DUOL','SHOP','MDB','ORCL','CRM','DOCU','TWLO','KVYO','SNAP','NOW','DDOG','PLTR','CART']\n",
    "energy=['CEG','VST']\n",
    "\n",
    "def create_group(name, symbols):\n",
    "    unique_symbols = list(set(symbols))  # Ensure unique tickers\n",
    "    return {name: {'name': name.capitalize(), 'symbols': unique_symbols}}\n",
    "\n",
    "# Function to create a basket of stocks\n",
    "def create_basket(groups):\n",
    "    basket = {}\n",
    "    for group_name, symbols in groups.items():\n",
    "        group = create_group(group_name, symbols)\n",
    "        for name, group_info in group.items():\n",
    "            basket[group_info['name']] = group_info['symbols']\n",
    "    return basket\n",
    "\n",
    "# Filter out Jupyter internal variables and dynamically retrieve group names and symbols\n",
    "all_vars = globals()\n",
    "groups = {k: v for k, v in all_vars.items() if isinstance(v, list) and k in ['semiconductor', 'cybersecurity', 'mag_7', 'crypto']}\n",
    "\n",
    "# Create baskets\n",
    "baskets = create_basket(groups)\n",
    "print(baskets)  # To verify the structure\n",
    "\n",
    "# The rest of the code remains unchanged"
   ]
  },
  {
   "cell_type": "markdown",
   "metadata": {},
   "source": [
    "### Get and Print earnings dates"
   ]
  },
  {
   "cell_type": "code",
   "execution_count": 6,
   "metadata": {},
   "outputs": [
    {
     "name": "stdout",
     "output_type": "stream",
     "text": [
      "Earnings by Date:\n",
      "2024-08-08: \u001b[34mCLSK\u001b[0m\n",
      "2024-08-09: \u001b[34mHIVE\u001b[0m\n",
      "2024-08-12: \u001b[34mHUT\u001b[0m, \u001b[34mWULF\u001b[0m\n",
      "2024-08-13: \u001b[34mBTBT\u001b[0m\n",
      "2024-08-14: \u001b[31mCSCO\u001b[0m\n",
      "2024-08-19: \u001b[32mPANW\u001b[0m\n",
      "2024-08-28: \u001b[31mNVDA\u001b[0m, \u001b[32mCRWD\u001b[0m, \u001b[33mNVDA\u001b[0m\n",
      "2024-08-29: \u001b[31mDELL\u001b[0m, \u001b[31mMRVL\u001b[0m\n",
      "2024-09-02: \u001b[32mZS\u001b[0m\n",
      "2024-09-05: \u001b[31mAVGO\u001b[0m\n",
      "2024-09-13: \u001b[34mIREN\u001b[0m\n",
      "2024-09-23: \u001b[34mSOS\u001b[0m\n",
      "2024-09-25: \u001b[31mMU\u001b[0m\n",
      "2024-10-03: \u001b[31mAEHR\u001b[0m\n",
      "2024-10-07: \u001b[31mAPLD\u001b[0m\n",
      "2024-10-16: \u001b[31mASML\u001b[0m\n",
      "2024-10-18: \u001b[33mTSLA\u001b[0m\n",
      "2024-10-22: \u001b[33mMSFT\u001b[0m, \u001b[33mGOOG\u001b[0m\n",
      "2024-10-23: \u001b[33mMETA\u001b[0m\n",
      "2024-10-24: \u001b[31mINTC\u001b[0m, \u001b[33mAMZN\u001b[0m\n",
      "2024-10-28: \u001b[31mMPWR\u001b[0m, \u001b[31mON\u001b[0m\n",
      "2024-10-29: \u001b[31mAMD\u001b[0m\n",
      "2024-10-30: \u001b[31mSMCI\u001b[0m, \u001b[31mQCOM\u001b[0m, \u001b[34mMSTR\u001b[0m\n",
      "2024-10-31: \u001b[32mNET\u001b[0m, \u001b[32mFTNT\u001b[0m, \u001b[33mAAPL\u001b[0m, \u001b[34mSQ\u001b[0m, \u001b[34mCOIN\u001b[0m\n",
      "2024-11-01: \u001b[34mCORZ\u001b[0m\n",
      "2024-11-04: \u001b[34mIREN\u001b[0m\n",
      "2024-11-05: \u001b[34mRIOT\u001b[0m\n",
      "2024-11-06: \u001b[34mMARA\u001b[0m\n",
      "\n",
      "Legend:\n",
      "\u001b[31mSemiconductor\u001b[0m\n",
      "\u001b[32mCybersecurity\u001b[0m\n",
      "\u001b[33mMag_7\u001b[0m\n",
      "\u001b[34mCrypto\u001b[0m\n"
     ]
    },
    {
     "name": "stderr",
     "output_type": "stream",
     "text": [
      "/var/folders/wd/r6dvw4896gxcrcr84m33fv240000gp/T/ipykernel_25362/291597966.py:52: DeprecationWarning: DataFrameGroupBy.apply operated on the grouping columns. This behavior is deprecated, and in a future version of pandas the grouping columns will be excluded from the operation. Either pass `include_groups=False` to exclude the groupings or explicitly select the grouping columns after groupby to silence this warning.\n",
      "  grouped = earnings_calendar_df.groupby('Date').apply(lambda x: ', '.join(x['Symbol'] + ' (' + x['Basket'] + ')')).reset_index(name='Symbol')\n"
     ]
    }
   ],
   "source": [
    "# Set the horizon in months\n",
    "horizon = 3\n",
    "\n",
    "# Define all groups (ensure this matches your basket groups)\n",
    "all_groups = {\n",
    "    'Semiconductor': semiconductor,\n",
    "    'Cybersecurity': cybersecurity,\n",
    "    'Mag_7': mag_7,\n",
    "    'Crypto': crypto\n",
    "}\n",
    "\n",
    "# Create selected_baskets\n",
    "selected_baskets = create_basket(all_groups)\n",
    "\n",
    "# Fetch and organize the data\n",
    "earnings_calendar_df = get_earnings_calendar(selected_baskets, api_key, horizon)\n",
    "\n",
    "# Print the earnings calendar\n",
    "# print_earnings_calendar(earnings_calendar_df)\n",
    "\n",
    "# Print the earnings by date\n",
    "print_earnings_by_date(earnings_calendar_df)"
   ]
  },
  {
   "cell_type": "markdown",
   "metadata": {},
   "source": [
    "### Plot Earnings Calendar"
   ]
  },
  {
   "cell_type": "code",
   "execution_count": 7,
   "metadata": {},
   "outputs": [
    {
     "data": {
      "application/vnd.jupyter.widget-view+json": {
       "model_id": "e4618b2329354598afae19f92c8d4a21",
       "version_major": 2,
       "version_minor": 0
      },
      "text/plain": [
       "HBox(children=(VBox(children=(IntSlider(value=8, description='Month:', max=12, min=1), IntSlider(value=2024, d…"
      ]
     },
     "metadata": {},
     "output_type": "display_data"
    },
    {
     "data": {
      "image/png": "[encoded data removed]",
      "text/plain": [
       "<Figure size 1000x600 with 1 Axes>"
      ]
     },
     "metadata": {},
     "output_type": "display_data"
    }
   ],
   "source": [
    "# Cell 5: Plot Earnings Calendar\n",
    "import matplotlib.pyplot as plt\n",
    "from IPython.display import display, clear_output\n",
    "\n",
    "def assign_colors(baskets):\n",
    "    cmap = plt.get_cmap('tab10')\n",
    "    colors = cmap.colors[:len(baskets)]\n",
    "    color_map = {basket: colors[i] for i, basket in enumerate(baskets)}\n",
    "    return color_map\n",
    "\n",
    "def plot_earnings_calendar(df, month, year, horizon=3):\n",
    "    df['Date'] = pd.to_datetime(df['Date'])\n",
    "\n",
    "    # Calculate the end date based on the horizon\n",
    "    end_date = datetime.now() + pd.DateOffset(months=horizon)\n",
    "    start_date = datetime.now()\n",
    "\n",
    "    # Filter data for the given horizon\n",
    "    df = df[(df['Date'] >= start_date) & (df['Date'] <= end_date)]\n",
    "\n",
    "    # Filter data for the given month and year\n",
    "    month_df = df[(df['Date'].dt.month == month) & (df['Date'].dt.year == year)]\n",
    "    \n",
    "    # Create a calendar\n",
    "    cal = calendar.monthcalendar(year, month)\n",
    "    \n",
    "    # Set up the plot\n",
    "    fig, ax = plt.subplots(figsize=(10, 6))  # Adjusted size to remove weekends\n",
    "    ax.set_axis_off()\n",
    "    \n",
    "    # Define month and weekday names\n",
    "    month_name = calendar.month_name[month]\n",
    "    weekdays = ['Mon', 'Tue', 'Wed', 'Thu', 'Fri']\n",
    "    \n",
    "    # Plot month name and year\n",
    "    ax.set_title(f\"{month_name} {year}\", fontsize=20, weight='bold')\n",
    "    \n",
    "    # Plot weekdays\n",
    "    for i, day in enumerate(weekdays):\n",
    "        ax.text(i + 0.5, 6.5, day, ha='center', va='center', weight='bold')\n",
    "    \n",
    "    # Assign colors dynamically for each basket\n",
    "    color_map = assign_colors(df['Basket'].unique())\n",
    "    \n",
    "    # Calculate the maximum number of tickers for any single day\n",
    "    max_tickers = month_df.groupby(month_df['Date'].dt.day).size().max() if not month_df.empty else 0\n",
    "    \n",
    "    # Plot days, dates, and tickers\n",
    "    for week_num, week in enumerate(cal):\n",
    "        for day_num, day in enumerate(week[:5]):  # Only include Monday to Friday\n",
    "            if day != 0:\n",
    "                tickers = month_df[month_df['Date'].dt.day == day]\n",
    "                date_text = f\"{day}\"\n",
    "                ax.text(day_num + 0.5, 5.5 - week_num, date_text, ha='center', va='center', weight='bold')  # Plot the date\n",
    "                if not tickers.empty:\n",
    "                    for line_num, (idx, row) in enumerate(tickers.iterrows()):\n",
    "                        ticker = row['Symbol']\n",
    "                        basket_name = row['Basket']\n",
    "                        color = color_map.get(basket_name, 'black')\n",
    "                        ax.text(day_num + 0.5, 5.5 - week_num - (line_num + 1) * 0.3, ticker, ha='center', va='center', color=color)  # Plot each ticker below the date\n",
    "    \n",
    "    # Adjust plot limits based on the maximum number of tickers\n",
    "    ax.set_xlim(0, 5)\n",
    "    ax.set_ylim(-1, 6.5 - max(0, (max_tickers - 1) * 0.3))\n",
    "    \n",
    "    # Add a legend\n",
    "    legend_handles = [plt.Line2D([0], [0], color=color, lw=4, label=basket) for basket, color in color_map.items()]\n",
    "    ax.legend(handles=legend_handles, loc='center left', bbox_to_anchor=(1, 0.5))  # Move legend outside the plot\n",
    "    \n",
    "    plt.show()\n",
    "\n",
    "# Function to update calendar plot\n",
    "def update_calendar(change):\n",
    "    month = month_selector.value\n",
    "    year = year_selector.value\n",
    "    selected_lists = [checkbox.description for checkbox in list_selectors if checkbox.value]\n",
    "    selected_baskets = create_basket({name: groups[name.lower()] for name in selected_lists})\n",
    "    earnings_calendar_df = get_earnings_calendar(selected_baskets, api_key, horizon=horizon)\n",
    "    clear_output(wait=True)\n",
    "    display_controls()\n",
    "    plot_earnings_calendar(earnings_calendar_df, month, year, horizon=horizon)\n",
    "\n",
    "# Create interactive widgets for month, year selection, and list selection\n",
    "month_selector = widgets.IntSlider(value=datetime.now().month, min=1, max=12, step=1, description='Month:')\n",
    "year_selector = widgets.IntSlider(value=datetime.now().year, min=datetime.now().year - 1, max=datetime.now().year + 1, step=1, description='Year:')\n",
    "list_selectors = [widgets.Checkbox(value=True, description=group) for group in all_groups.keys()]\n",
    "\n",
    "# Function to display controls\n",
    "def display_controls():\n",
    "    control_box = widgets.VBox([month_selector, year_selector] + list_selectors)\n",
    "    display(widgets.HBox([control_box]))\n",
    "\n",
    "# Link the widgets to the update function\n",
    "for selector in list_selectors:\n",
    "    selector.observe(update_calendar, names='value')\n",
    "month_selector.observe(update_calendar, names='value')\n",
    "year_selector.observe(update_calendar, names='value')\n",
    "\n",
    "# Display the initial controls\n",
    "display_controls()\n",
    "update_calendar(None)"
   ]
  },
  {
   "cell_type": "markdown",
   "metadata": {},
   "source": [
    "## Generate Financial Data"
   ]
  },
  {
   "cell_type": "code",
   "execution_count": null,
   "metadata": {},
   "outputs": [],
   "source": []
  },
  {
   "cell_type": "code",
   "execution_count": null,
   "metadata": {},
   "outputs": [],
   "source": []
  },
  {
   "cell_type": "code",
   "execution_count": null,
   "metadata": {},
   "outputs": [],
   "source": []
  }
 ],
 "metadata": {
  "kernelspec": {
   "display_name": "ml4t",
   "language": "python",
   "name": "python3"
  },
  "language_info": {
   "codemirror_mode": {
    "name": "ipython",
    "version": 3
   },
   "file_extension": ".py",
   "mimetype": "text/x-python",
   "name": "python",
   "nbconvert_exporter": "python",
   "pygments_lexer": "ipython3",
   "version": "3.12.4"
  }
 },
 "nbformat": 4,
 "nbformat_minor": 2
}
