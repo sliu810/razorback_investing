{
 "cells": [
  {
   "cell_type": "markdown",
   "metadata": {},
   "source": [
    "# Youtube Video Analyzer"
   ]
  },
  {
   "cell_type": "markdown",
   "metadata": {},
   "source": []
  },
  {
   "cell_type": "code",
   "execution_count": 5,
   "metadata": {},
   "outputs": [],
   "source": [
    "# # Reconstruct video object from the saved JSON file\n",
    "# file_path = \"video_data/Market_Predictions_Rates_Inflation_DOGE_CES_AI_Compute_BG2_w_Bill_Gurley_Brad_Gerstner_en.json\"\n",
    "# reconstructed_video = Video.from_json_file(file_path)\n",
    "# print(\"\\nReconstructed Video Information:\")\n",
    "# print(json.dumps(reconstructed_video.to_dict(), indent=2, ensure_ascii=False))"
   ]
  },
  {
   "cell_type": "markdown",
   "metadata": {},
   "source": [
    "## Summarize the video transcript with LLMs"
   ]
  },
  {
   "cell_type": "code",
   "execution_count": 15,
   "metadata": {},
   "outputs": [
    {
     "name": "stderr",
     "output_type": "stream",
     "text": [
      "Registered role: content_summarizer\n",
      "Registered role: financial_analyst\n",
      "Registered task: summarize_transcript\n",
      "Registered task: market_analysis\n"
     ]
    },
    {
     "name": "stdout",
     "output_type": "stream",
     "text": [
      "Created 2 analyses\n",
      "Video info saved to: video_data/LAs_Wildfire_Disaster_Zuck_Flips_on_Free_Speech_Why_Trump_Wants_Greenland_en.json\n"
     ]
    },
    {
     "name": "stderr",
     "output_type": "stream",
     "text": [
      "Registered role: content_summarizer\n",
      "Registered role: financial_analyst\n",
      "Registered task: summarize_transcript\n",
      "Registered task: market_analysis\n",
      "HTTP Request: POST https://api.anthropic.com/v1/messages \"HTTP/1.1 200 OK\"\n",
      "Text processed successfully\n",
      "Created analysis using anthropic/claude-3-sonnet-20240229\n",
      "Analysis saved to: video_data/LAs_Wildfire_Disaster_Zuck_Flips_on_Free_Speech_Why_Trump_Wants_Greenland_en_anthropic_analysis.html\n"
     ]
    },
    {
     "name": "stdout",
     "output_type": "stream",
     "text": [
      "Analysis saved to: video_data/LAs_Wildfire_Disaster_Zuck_Flips_on_Free_Speech_Why_Trump_Wants_Greenland_en_anthropic_analysis.html\n"
     ]
    },
    {
     "name": "stderr",
     "output_type": "stream",
     "text": [
      "HTTP Request: POST https://api.openai.com/v1/chat/completions \"HTTP/1.1 200 OK\"\n",
      "Text processed successfully\n",
      "Created analysis using openai/gpt-4-turbo-preview\n",
      "Analysis saved to: video_data/LAs_Wildfire_Disaster_Zuck_Flips_on_Free_Speech_Why_Trump_Wants_Greenland_en_openai_analysis.html\n"
     ]
    },
    {
     "name": "stdout",
     "output_type": "stream",
     "text": [
      "Analysis saved to: video_data/LAs_Wildfire_Disaster_Zuck_Flips_on_Free_Speech_Why_Trump_Wants_Greenland_en_openai_analysis.html\n",
      "\n",
      "Created 2 analyses:\n",
      "- Using anthropic/claude-3-sonnet-20240229\n",
      "- Using openai/gpt-4-turbo-preview\n"
     ]
    }
   ],
   "source": [
    "\n",
    "### Summarize the video transcript\n",
    "# Initialize necessary imports and processors\n",
    "import sys,os\n",
    "from pathlib import Path\n",
    "from video import Video\n",
    "from video_analyzer import VideoAnalyzer, AnalysisConfig\n",
    "from llm_processor import LLMConfig,LLMProcessor\n",
    "import logging\n",
    "# Configure minimal logging\n",
    "logging.basicConfig(level=logging.INFO, format='%(message)s')\n",
    "\n",
    "root_dir = \"video_data\"\n",
    "\n",
    "# Fetch video info and save to file\n",
    "video_id = \"is1QAZ7ShRU\"\n",
    "video = Video(video_id)\n",
    "video.get_video_metadata_and_transcript()\n",
    "print(f\"Created {len(analyses)} analyses\")\n",
    "os.makedirs(root_dir, exist_ok=True)\n",
    "file_path = video.serialize_video_to_file(root_dir)    \n",
    "print(f\"Video info saved to: {file_path}\")\n",
    "\n",
    "\n",
    "# Analyze the video with LLMs\n",
    "claude = LLMProcessor(LLMConfig(\n",
    "    provider=\"anthropic\",\n",
    "    model_name=\"claude-3-sonnet-20240229\",\n",
    "    temperature=0.7,\n",
    "    max_tokens=4000\n",
    "))\n",
    "\n",
    "openai = LLMProcessor(LLMConfig(\n",
    "    provider=\"openai\",\n",
    "    model_name=\"gpt-4-turbo-preview\",\n",
    "    temperature=0.7,\n",
    "    max_tokens=4000\n",
    "))\n",
    "\n",
    "config = AnalysisConfig(\n",
    "    output_dir=root_dir,  # Directory for saving analyses\n",
    ")\n",
    "analyzer = VideoAnalyzer(config)\n",
    "analyzer.add_processor(claude)\n",
    "analyzer.add_processor(openai)\n",
    "analyses = analyzer.analyze_video(video)\n"
   ]
  },
  {
   "cell_type": "markdown",
   "metadata": {},
   "source": [
    "## Chat about the transcript"
   ]
  },
  {
   "cell_type": "code",
   "execution_count": 18,
   "metadata": {},
   "outputs": [
    {
     "name": "stderr",
     "output_type": "stream",
     "text": [
      "HTTP Request: POST https://api.anthropic.com/v1/messages \"HTTP/1.1 200 OK\"\n",
      "Text processed successfully\n"
     ]
    },
    {
     "name": "stdout",
     "output_type": "stream",
     "text": [
      "\n",
      "Response:\n",
      " According to the content, Cyan Banister is:\n",
      "\n",
      "- A prolific angel investor who runs a seed fund called Long Journey Ventures\n",
      "- Some of her notable investments include SpaceX, Density, Postmates, Niantic (makers of Pokemon Go), and Uber\n",
      "- She is described as a technologist and self-made individual who started angel investing around 14 years ago, around the same time as Jason Calacanis\n",
      "- She invested in some companies together with Jason Calacanis after meeting startup companies at events they hosted\n",
      "- She is portrayed as a wonderful human being that the other panelists speak highly of\n",
      "\n",
      "So in summary, she is presented as an accomplished and respected angel investor, especially in technology startups, who has been investing for around 14 years.\n"
     ]
    }
   ],
   "source": [
    "if video.transcript:\n",
    "    response = claude.chat(\n",
    "        question=\"who is Cyan Banister?\",\n",
    "        context=video.transcript\n",
    "    )\n",
    "    print(\"\\nResponse:\\n\", response)"
   ]
  },
  {
   "cell_type": "code",
   "execution_count": 6,
   "metadata": {},
   "outputs": [
    {
     "name": "stdout",
     "output_type": "stream",
     "text": [
      "\n",
      "Response: Based on the content provided, here is a structured summary about what the speaker said regarding Bitcoin:\n",
      "\n",
      "[Bitcoin's Price Action]\n",
      "- The speaker (Raoul Pal) thinks the bottom for Bitcoin's price is in, likely happening on the day of this discussion\n",
      "- He draws parallels to Bitcoin's price action in 2017, suggesting it may have already priced in the first part of the M2 money supply drop\n",
      "- Bitcoin's price action was \"ugly\" on the day, but Pal expects it to potentially decouple and rally for the rest of the year driven by speculative flows\n",
      "\n",
      "[Relationship with Global M2]\n",
      "- Pal highlights the direct relationship between global M2 money supply/liquidity conditions and cryptocurrency performance\n",
      "- When M2 growth accelerates, providing more liquidity, it benefits risk-on assets like cryptocurrencies\n",
      "- However, the recent US dollar strength is causing an underperformance in crypto relative to expectations\n",
      "\n",
      "[Expected Liquidity Boost]\n",
      "- Pal suggests leading economies may be compelled to refinance debts, leading to a surge in global liquidity\n",
      "- He expects the Fed to reverse course and pump liquidity to support markets and the economy\n",
      "- This liquidity boost could drive the next leg up for Bitcoin and cryptocurrencies\n",
      "\n",
      "[Correction Outlook]\n",
      "- While some analysts like Tom Lee expect a sharper correction to $50k-$70k, Pal seems to favor a slower \"chop around\" before the recovery begins\n",
      "- He believes the cycle has not peaked yet and expects new all-time highs in 2023, driven by the anticipated liquidity injection\n"
     ]
    }
   ],
   "source": [
    "from main import setup_processors, process_video\n",
    "\n",
    "claude = setup_processors()\n",
    "video = process_video(\"TZ3OT2mnsNA\", claude)\n",
    "\n",
    "if video:\n",
    "    response = claude.chat(\n",
    "        question=\"What did the speaker say about Bitcoin?\",\n",
    "        context=video.transcript\n",
    "    )\n",
    "    print(\"\\nResponse:\", response)"
   ]
  },
  {
   "cell_type": "code",
   "execution_count": null,
   "metadata": {},
   "outputs": [],
   "source": []
  }
 ],
 "metadata": {
  "kernelspec": {
   "display_name": "ml4t",
   "language": "python",
   "name": "python3"
  },
  "language_info": {
   "codemirror_mode": {
    "name": "ipython",
    "version": 3
   },
   "file_extension": ".py",
   "mimetype": "text/x-python",
   "name": "python",
   "nbconvert_exporter": "python",
   "pygments_lexer": "ipython3",
   "version": "3.12.4"
  }
 },
 "nbformat": 4,
 "nbformat_minor": 2
}
