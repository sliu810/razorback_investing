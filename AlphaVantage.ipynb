{
 "cells": [
  {
   "cell_type": "markdown",
   "metadata": {},
   "source": [
    "# Play with Alpha Vantage API"
   ]
  },
  {
   "cell_type": "code",
   "execution_count": 1,
   "metadata": {},
   "outputs": [
    {
     "name": "stdout",
     "output_type": "stream",
     "text": [
      "Requirement already satisfied: requests in /Users/sliu/miniconda3/envs/ml4t/lib/python3.12/site-packages (2.32.3)\n",
      "Requirement already satisfied: pandas in /Users/sliu/miniconda3/envs/ml4t/lib/python3.12/site-packages (2.2.2)\n",
      "Requirement already satisfied: yfinance in /Users/sliu/miniconda3/envs/ml4t/lib/python3.12/site-packages (0.2.40)\n",
      "Requirement already satisfied: investpy in /Users/sliu/miniconda3/envs/ml4t/lib/python3.12/site-packages (1.0.8)\n",
      "Requirement already satisfied: lxml in /Users/sliu/miniconda3/envs/ml4t/lib/python3.12/site-packages (5.2.2)\n",
      "Requirement already satisfied: beautifulsoup4 in /Users/sliu/miniconda3/envs/ml4t/lib/python3.12/site-packages (4.12.3)\n",
      "Requirement already satisfied: polygon-api-client in /Users/sliu/miniconda3/envs/ml4t/lib/python3.12/site-packages (1.14.1)\n",
      "Requirement already satisfied: charset-normalizer<4,>=2 in /Users/sliu/miniconda3/envs/ml4t/lib/python3.12/site-packages (from requests) (3.3.2)\n",
      "Requirement already satisfied: idna<4,>=2.5 in /Users/sliu/miniconda3/envs/ml4t/lib/python3.12/site-packages (from requests) (3.7)\n",
      "Requirement already satisfied: urllib3<3,>=1.21.1 in /Users/sliu/miniconda3/envs/ml4t/lib/python3.12/site-packages (from requests) (2.2.2)\n",
      "Requirement already satisfied: certifi>=2017.4.17 in /Users/sliu/miniconda3/envs/ml4t/lib/python3.12/site-packages (from requests) (2024.6.2)\n",
      "Requirement already satisfied: numpy>=1.26.0 in /Users/sliu/miniconda3/envs/ml4t/lib/python3.12/site-packages (from pandas) (2.0.0)\n",
      "Requirement already satisfied: python-dateutil>=2.8.2 in /Users/sliu/miniconda3/envs/ml4t/lib/python3.12/site-packages (from pandas) (2.9.0)\n",
      "Requirement already satisfied: pytz>=2020.1 in /Users/sliu/miniconda3/envs/ml4t/lib/python3.12/site-packages (from pandas) (2024.1)\n",
      "Requirement already satisfied: tzdata>=2022.7 in /Users/sliu/miniconda3/envs/ml4t/lib/python3.12/site-packages (from pandas) (2024.1)\n",
      "Requirement already satisfied: multitasking>=0.0.7 in /Users/sliu/miniconda3/envs/ml4t/lib/python3.12/site-packages (from yfinance) (0.0.11)\n",
      "Requirement already satisfied: platformdirs>=2.0.0 in /Users/sliu/miniconda3/envs/ml4t/lib/python3.12/site-packages (from yfinance) (4.2.2)\n",
      "Requirement already satisfied: frozendict>=2.3.4 in /Users/sliu/miniconda3/envs/ml4t/lib/python3.12/site-packages (from yfinance) (2.4.4)\n",
      "Requirement already satisfied: peewee>=3.16.2 in /Users/sliu/miniconda3/envs/ml4t/lib/python3.12/site-packages (from yfinance) (3.17.5)\n",
      "Requirement already satisfied: html5lib>=1.1 in /Users/sliu/miniconda3/envs/ml4t/lib/python3.12/site-packages (from yfinance) (1.1)\n",
      "Requirement already satisfied: Unidecode>=1.1.1 in /Users/sliu/miniconda3/envs/ml4t/lib/python3.12/site-packages (from investpy) (1.3.8)\n",
      "Requirement already satisfied: setuptools>=41.2.0 in /Users/sliu/miniconda3/envs/ml4t/lib/python3.12/site-packages (from investpy) (70.1.1)\n",
      "Requirement already satisfied: soupsieve>1.2 in /Users/sliu/miniconda3/envs/ml4t/lib/python3.12/site-packages (from beautifulsoup4) (2.5)\n",
      "Requirement already satisfied: websockets<13.0,>=10.3 in /Users/sliu/miniconda3/envs/ml4t/lib/python3.12/site-packages (from polygon-api-client) (12.0)\n",
      "Requirement already satisfied: six>=1.9 in /Users/sliu/miniconda3/envs/ml4t/lib/python3.12/site-packages (from html5lib>=1.1->yfinance) (1.16.0)\n",
      "Requirement already satisfied: webencodings in /Users/sliu/miniconda3/envs/ml4t/lib/python3.12/site-packages (from html5lib>=1.1->yfinance) (0.5.1)\n"
     ]
    }
   ],
   "source": [
    "!pip install requests pandas yfinance investpy lxml beautifulsoup4 polygon-api-client"
   ]
  },
  {
   "cell_type": "code",
   "execution_count": 2,
   "metadata": {},
   "outputs": [
    {
     "name": "stdout",
     "output_type": "stream",
     "text": [
      "{'Meta Data': {'1. Information': 'Intraday (5min) open, high, low, close prices and volume', '2. Symbol': 'IBM', '3. Last Refreshed': '2024-07-02 19:55:00', '4. Interval': '5min', '5. Output Size': 'Compact', '6. Time Zone': 'US/Eastern'}, 'Time Series (5min)': {'2024-07-02 19:55:00': {'1. open': '177.4200', '2. high': '177.4200', '3. low': '177.3900', '4. close': '177.3900', '5. volume': '17'}, '2024-07-02 19:50:00': {'1. open': '177.4300', '2. high': '177.4900', '3. low': '177.4300', '4. close': '177.4900', '5. volume': '45'}, '2024-07-02 19:45:00': {'1. open': '177.4300', '2. high': '177.4300', '3. low': '177.4300', '4. close': '177.4300', '5. volume': '3'}, '2024-07-02 19:40:00': {'1. open': '177.4200', '2. high': '177.4200', '3. low': '177.4200', '4. close': '177.4200', '5. volume': '25'}, '2024-07-02 19:35:00': {'1. open': '177.3300', '2. high': '177.4900', '3. low': '177.3000', '4. close': '177.3000', '5. volume': '40'}, '2024-07-02 19:30:00': {'1. open': '177.5000', '2. high': '177.5000', '3. low': '177.5000', '4. close': '177.5000', '5. volume': '15'}, '2024-07-02 19:25:00': {'1. open': '177.3000', '2. high': '177.3000', '3. low': '177.3000', '4. close': '177.3000', '5. volume': '8'}, '2024-07-02 19:00:00': {'1. open': '177.3000', '2. high': '177.5000', '3. low': '177.3000', '4. close': '177.5000', '5. volume': '457406'}, '2024-07-02 18:55:00': {'1. open': '177.4940', '2. high': '177.4940', '3. low': '177.4940', '4. close': '177.4940', '5. volume': '50'}, '2024-07-02 18:45:00': {'1. open': '177.1000', '2. high': '177.1000', '3. low': '177.1000', '4. close': '177.1000', '5. volume': '7'}, '2024-07-02 18:40:00': {'1. open': '177.3300', '2. high': '177.3300', '3. low': '177.1000', '4. close': '177.1000', '5. volume': '15'}, '2024-07-02 18:35:00': {'1. open': '177.3300', '2. high': '177.5000', '3. low': '177.3000', '4. close': '177.3000', '5. volume': '30'}, '2024-07-02 18:30:00': {'1. open': '177.3000', '2. high': '177.3000', '3. low': '177.3000', '4. close': '177.3000', '5. volume': '457351'}, '2024-07-02 18:25:00': {'1. open': '177.1000', '2. high': '177.4000', '3. low': '177.1000', '4. close': '177.4000', '5. volume': '142'}, '2024-07-02 17:55:00': {'1. open': '177.3000', '2. high': '177.3000', '3. low': '177.3000', '4. close': '177.3000', '5. volume': '4'}, '2024-07-02 17:50:00': {'1. open': '177.1000', '2. high': '177.1000', '3. low': '177.1000', '4. close': '177.1000', '5. volume': '1'}, '2024-07-02 17:45:00': {'1. open': '177.6500', '2. high': '177.6500', '3. low': '177.6500', '4. close': '177.6500', '5. volume': '8'}, '2024-07-02 17:40:00': {'1. open': '177.1000', '2. high': '177.1000', '3. low': '177.1000', '4. close': '177.1000', '5. volume': '4'}, '2024-07-02 17:30:00': {'1. open': '177.1000', '2. high': '177.4170', '3. low': '177.1000', '4. close': '177.4180', '5. volume': '5'}, '2024-07-02 17:25:00': {'1. open': '177.3480', '2. high': '177.3500', '3. low': '177.1100', '4. close': '177.1100', '5. volume': '15'}, '2024-07-02 17:20:00': {'1. open': '177.1100', '2. high': '177.1100', '3. low': '177.1100', '4. close': '177.1100', '5. volume': '10'}, '2024-07-02 17:05:00': {'1. open': '177.0200', '2. high': '177.0200', '3. low': '177.0200', '4. close': '177.0200', '5. volume': '25'}, '2024-07-02 17:00:00': {'1. open': '177.1000', '2. high': '177.1000', '3. low': '177.1000', '4. close': '177.1000', '5. volume': '1'}, '2024-07-02 16:50:00': {'1. open': '177.0750', '2. high': '177.1000', '3. low': '177.0750', '4. close': '177.1000', '5. volume': '6'}, '2024-07-02 16:45:00': {'1. open': '177.6500', '2. high': '177.6500', '3. low': '177.0200', '4. close': '177.0200', '5. volume': '13'}, '2024-07-02 16:40:00': {'1. open': '177.3500', '2. high': '177.3500', '3. low': '177.3500', '4. close': '177.3500', '5. volume': '1'}, '2024-07-02 16:35:00': {'1. open': '177.6500', '2. high': '177.6500', '3. low': '177.1400', '4. close': '177.1400', '5. volume': '331'}, '2024-07-02 16:30:00': {'1. open': '177.6500', '2. high': '177.6500', '3. low': '177.3000', '4. close': '177.6500', '5. volume': '3879'}, '2024-07-02 16:25:00': {'1. open': '177.2100', '2. high': '177.6500', '3. low': '177.1300', '4. close': '177.1300', '5. volume': '72'}, '2024-07-02 16:20:00': {'1. open': '177.3300', '2. high': '177.3300', '3. low': '177.1300', '4. close': '177.1700', '5. volume': '671'}, '2024-07-02 16:15:00': {'1. open': '177.3000', '2. high': '177.5600', '3. low': '177.3000', '4. close': '177.3300', '5. volume': '602'}, '2024-07-02 16:10:00': {'1. open': '177.3000', '2. high': '177.5600', '3. low': '177.3000', '4. close': '177.5000', '5. volume': '458269'}, '2024-07-02 16:05:00': {'1. open': '177.6400', '2. high': '177.6700', '3. low': '177.3000', '4. close': '177.5000', '5. volume': '13961'}, '2024-07-02 16:00:00': {'1. open': '177.3100', '2. high': '177.6700', '3. low': '177.1700', '4. close': '177.6000', '5. volume': '1008691'}, '2024-07-02 15:55:00': {'1. open': '177.4200', '2. high': '177.4850', '3. low': '177.2000', '4. close': '177.3400', '5. volume': '205428'}, '2024-07-02 15:50:00': {'1. open': '177.1900', '2. high': '177.4800', '3. low': '177.1850', '4. close': '177.4200', '5. volume': '84218'}, '2024-07-02 15:45:00': {'1. open': '177.0500', '2. high': '177.2900', '3. low': '177.0400', '4. close': '177.2050', '5. volume': '52026'}, '2024-07-02 15:40:00': {'1. open': '176.8000', '2. high': '177.1400', '3. low': '176.8000', '4. close': '177.0700', '5. volume': '27603'}, '2024-07-02 15:35:00': {'1. open': '176.8500', '2. high': '176.9600', '3. low': '176.7600', '4. close': '176.7900', '5. volume': '21735'}, '2024-07-02 15:30:00': {'1. open': '177.0200', '2. high': '177.0200', '3. low': '176.8500', '4. close': '176.8500', '5. volume': '17251'}, '2024-07-02 15:25:00': {'1. open': '176.9200', '2. high': '177.2200', '3. low': '176.9000', '4. close': '177.0800', '5. volume': '24486'}, '2024-07-02 15:20:00': {'1. open': '176.9000', '2. high': '176.9000', '3. low': '176.7800', '4. close': '176.9000', '5. volume': '19227'}, '2024-07-02 15:15:00': {'1. open': '176.8700', '2. high': '176.9000', '3. low': '176.6600', '4. close': '176.9000', '5. volume': '56810'}, '2024-07-02 15:10:00': {'1. open': '176.8800', '2. high': '176.8800', '3. low': '176.8300', '4. close': '176.8800', '5. volume': '11777'}, '2024-07-02 15:05:00': {'1. open': '176.8050', '2. high': '176.9440', '3. low': '176.8050', '4. close': '176.9100', '5. volume': '28821'}, '2024-07-02 15:00:00': {'1. open': '177.0500', '2. high': '177.0600', '3. low': '176.7800', '4. close': '176.7800', '5. volume': '18876'}, '2024-07-02 14:55:00': {'1. open': '177.2600', '2. high': '177.2600', '3. low': '177.0600', '4. close': '177.0600', '5. volume': '19120'}, '2024-07-02 14:50:00': {'1. open': '177.3800', '2. high': '177.4000', '3. low': '177.3000', '4. close': '177.3000', '5. volume': '15185'}, '2024-07-02 14:45:00': {'1. open': '177.3850', '2. high': '177.4400', '3. low': '177.3000', '4. close': '177.3950', '5. volume': '27049'}, '2024-07-02 14:40:00': {'1. open': '177.3900', '2. high': '177.4000', '3. low': '177.3200', '4. close': '177.3750', '5. volume': '12481'}, '2024-07-02 14:35:00': {'1. open': '177.2800', '2. high': '177.4300', '3. low': '177.2800', '4. close': '177.3700', '5. volume': '18604'}, '2024-07-02 14:30:00': {'1. open': '177.3250', '2. high': '177.3900', '3. low': '177.2500', '4. close': '177.2500', '5. volume': '16000'}, '2024-07-02 14:25:00': {'1. open': '177.3650', '2. high': '177.4350', '3. low': '177.3300', '4. close': '177.3950', '5. volume': '44558'}, '2024-07-02 14:20:00': {'1. open': '177.3200', '2. high': '177.4200', '3. low': '177.2670', '4. close': '177.3550', '5. volume': '23170'}, '2024-07-02 14:15:00': {'1. open': '177.1850', '2. high': '177.3200', '3. low': '177.1000', '4. close': '177.3100', '5. volume': '18717'}, '2024-07-02 14:10:00': {'1. open': '176.9200', '2. high': '177.2000', '3. low': '176.9200', '4. close': '177.2000', '5. volume': '22631'}, '2024-07-02 14:05:00': {'1. open': '176.7300', '2. high': '176.9290', '3. low': '176.7000', '4. close': '176.9200', '5. volume': '23573'}, '2024-07-02 14:00:00': {'1. open': '176.7700', '2. high': '176.8450', '3. low': '176.7200', '4. close': '176.7400', '5. volume': '11807'}, '2024-07-02 13:55:00': {'1. open': '176.9500', '2. high': '177.0000', '3. low': '176.7400', '4. close': '176.7400', '5. volume': '20661'}, '2024-07-02 13:50:00': {'1. open': '176.7730', '2. high': '176.9400', '3. low': '176.7730', '4. close': '176.9300', '5. volume': '49038'}, '2024-07-02 13:45:00': {'1. open': '176.7200', '2. high': '176.7870', '3. low': '176.7010', '4. close': '176.7870', '5. volume': '13276'}, '2024-07-02 13:40:00': {'1. open': '176.8020', '2. high': '176.8400', '3. low': '176.7000', '4. close': '176.7500', '5. volume': '20712'}, '2024-07-02 13:35:00': {'1. open': '176.6000', '2. high': '176.8300', '3. low': '176.5900', '4. close': '176.8300', '5. volume': '19835'}, '2024-07-02 13:30:00': {'1. open': '176.5800', '2. high': '176.6520', '3. low': '176.5600', '4. close': '176.6190', '5. volume': '20901'}, '2024-07-02 13:25:00': {'1. open': '176.5300', '2. high': '176.5600', '3. low': '176.4900', '4. close': '176.5600', '5. volume': '11874'}, '2024-07-02 13:20:00': {'1. open': '176.5900', '2. high': '176.6400', '3. low': '176.5000', '4. close': '176.5300', '5. volume': '18287'}, '2024-07-02 13:15:00': {'1. open': '176.5500', '2. high': '176.6300', '3. low': '176.5500', '4. close': '176.6100', '5. volume': '20849'}, '2024-07-02 13:10:00': {'1. open': '176.5100', '2. high': '176.5900', '3. low': '176.5070', '4. close': '176.5700', '5. volume': '16639'}, '2024-07-02 13:05:00': {'1. open': '176.4800', '2. high': '176.4800', '3. low': '176.3600', '4. close': '176.4800', '5. volume': '8573'}, '2024-07-02 13:00:00': {'1. open': '176.5000', '2. high': '176.5400', '3. low': '176.3950', '4. close': '176.5400', '5. volume': '17599'}, '2024-07-02 12:55:00': {'1. open': '176.5100', '2. high': '176.5700', '3. low': '176.4300', '4. close': '176.5300', '5. volume': '24213'}, '2024-07-02 12:50:00': {'1. open': '176.3500', '2. high': '176.5600', '3. low': '176.3400', '4. close': '176.5330', '5. volume': '21981'}, '2024-07-02 12:45:00': {'1. open': '176.3700', '2. high': '176.4000', '3. low': '176.3350', '4. close': '176.3700', '5. volume': '11523'}, '2024-07-02 12:40:00': {'1. open': '176.3900', '2. high': '176.4900', '3. low': '176.3100', '4. close': '176.3700', '5. volume': '9300'}, '2024-07-02 12:35:00': {'1. open': '176.1800', '2. high': '176.4800', '3. low': '176.1100', '4. close': '176.3510', '5. volume': '35240'}, '2024-07-02 12:30:00': {'1. open': '176.2710', '2. high': '176.2800', '3. low': '176.1900', '4. close': '176.2000', '5. volume': '11771'}, '2024-07-02 12:25:00': {'1. open': '176.1900', '2. high': '176.3000', '3. low': '176.1900', '4. close': '176.2600', '5. volume': '8761'}, '2024-07-02 12:20:00': {'1. open': '176.1600', '2. high': '176.2200', '3. low': '176.1350', '4. close': '176.2000', '5. volume': '18718'}, '2024-07-02 12:15:00': {'1. open': '176.1800', '2. high': '176.1900', '3. low': '176.1100', '4. close': '176.1480', '5. volume': '13856'}, '2024-07-02 12:10:00': {'1. open': '176.0600', '2. high': '176.1700', '3. low': '176.0280', '4. close': '176.1700', '5. volume': '13754'}, '2024-07-02 12:05:00': {'1. open': '176.1600', '2. high': '176.1600', '3. low': '176.0100', '4. close': '176.0900', '5. volume': '10250'}, '2024-07-02 12:00:00': {'1. open': '176.2800', '2. high': '176.2800', '3. low': '176.0300', '4. close': '176.1100', '5. volume': '15572'}, '2024-07-02 11:55:00': {'1. open': '176.5400', '2. high': '176.5400', '3. low': '176.2300', '4. close': '176.2300', '5. volume': '15511'}, '2024-07-02 11:50:00': {'1. open': '176.8300', '2. high': '176.8400', '3. low': '176.5400', '4. close': '176.5450', '5. volume': '19473'}, '2024-07-02 11:45:00': {'1. open': '176.7720', '2. high': '176.8500', '3. low': '176.7170', '4. close': '176.8000', '5. volume': '12743'}, '2024-07-02 11:40:00': {'1. open': '176.7800', '2. high': '176.9500', '3. low': '176.7750', '4. close': '176.7750', '5. volume': '24580'}, '2024-07-02 11:35:00': {'1. open': '176.7200', '2. high': '176.8400', '3. low': '176.7200', '4. close': '176.7890', '5. volume': '18225'}, '2024-07-02 11:30:00': {'1. open': '176.7000', '2. high': '176.7500', '3. low': '176.6500', '4. close': '176.7200', '5. volume': '16861'}, '2024-07-02 11:25:00': {'1. open': '176.6800', '2. high': '176.7150', '3. low': '176.6000', '4. close': '176.7000', '5. volume': '16182'}, '2024-07-02 11:20:00': {'1. open': '176.6000', '2. high': '176.7500', '3. low': '176.5400', '4. close': '176.7100', '5. volume': '18370'}, '2024-07-02 11:15:00': {'1. open': '176.5400', '2. high': '176.5900', '3. low': '176.4100', '4. close': '176.5650', '5. volume': '15540'}, '2024-07-02 11:10:00': {'1. open': '176.7200', '2. high': '176.8100', '3. low': '176.5300', '4. close': '176.5300', '5. volume': '27896'}, '2024-07-02 11:05:00': {'1. open': '176.7250', '2. high': '176.7590', '3. low': '176.5900', '4. close': '176.6600', '5. volume': '157412'}, '2024-07-02 11:00:00': {'1. open': '176.8100', '2. high': '176.8650', '3. low': '176.6900', '4. close': '176.7940', '5. volume': '32626'}, '2024-07-02 10:55:00': {'1. open': '176.4000', '2. high': '176.7900', '3. low': '176.4000', '4. close': '176.7800', '5. volume': '34572'}, '2024-07-02 10:50:00': {'1. open': '176.3570', '2. high': '176.4990', '3. low': '176.3100', '4. close': '176.3700', '5. volume': '24150'}, '2024-07-02 10:45:00': {'1. open': '176.2100', '2. high': '176.4000', '3. low': '176.1700', '4. close': '176.4000', '5. volume': '15532'}, '2024-07-02 10:40:00': {'1. open': '176.1100', '2. high': '176.3200', '3. low': '176.0000', '4. close': '176.1500', '5. volume': '41974'}, '2024-07-02 10:35:00': {'1. open': '176.4100', '2. high': '176.4270', '3. low': '176.1200', '4. close': '176.1300', '5. volume': '32550'}, '2024-07-02 10:30:00': {'1. open': '176.1100', '2. high': '176.4200', '3. low': '176.0400', '4. close': '176.4200', '5. volume': '23579'}}}\n"
     ]
    }
   ],
   "source": [
    "import requests\n",
    "\n",
    "# replace the \"demo\" apikey below with your own key from https://www.alphavantage.co/support/#api-key\n",
    "url = 'https://www.alphavantage.co/query?function=TIME_SERIES_INTRADAY&symbol=IBM&interval=5min&apikey=demo'\n",
    "r = requests.get(url)\n",
    "data = r.json()\n",
    "\n",
    "print(data)"
   ]
  },
  {
   "cell_type": "code",
   "execution_count": null,
   "metadata": {},
   "outputs": [],
   "source": []
  }
 ],
 "metadata": {
  "kernelspec": {
   "display_name": "ml4t",
   "language": "python",
   "name": "python3"
  },
  "language_info": {
   "codemirror_mode": {
    "name": "ipython",
    "version": 3
   },
   "file_extension": ".py",
   "mimetype": "text/x-python",
   "name": "python",
   "nbconvert_exporter": "python",
   "pygments_lexer": "ipython3",
   "version": "3.12.4"
  }
 },
 "nbformat": 4,
 "nbformat_minor": 2
}
