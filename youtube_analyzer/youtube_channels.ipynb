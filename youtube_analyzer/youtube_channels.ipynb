{
 "cells": [
  {
   "cell_type": "markdown",
   "metadata": {},
   "source": [
    "## Youtube Channel Analysis"
   ]
  },
  {
   "cell_type": "code",
   "execution_count": null,
   "metadata": {},
   "outputs": [],
   "source": [
    "import os\n",
    "import logging\n",
    "from channel import ChannelFactory\n",
    "from datetime import datetime, timedelta\n",
    "import utils\n",
    "logging.basicConfig(level=logging.INFO, format='%(asctime)s - %(name)s - %(levelname)s - %(message)s')\n",
    "\n",
    "channel_name = \"lexfridman\"  # lexfridman, dashengmedia\n",
    "root_dir = \"channel_data\"\n",
    "existing_csv = os.path.join(root_dir, \"lexfridman_20240903_20240930.csv\")\n",
    "yt_channel = ChannelFactory.create_channel(\n",
    "    \"youtube\",\n",
    "    channel_name,\n",
    "    transcript_language='en'\n",
    ")\n",
    "yt_channel.initialize(csv_path=None)\n",
    "start_date, end_date = utils.get_start_end_dates_for_year(2024)\n",
    "videos = yt_channel.fetch_videos(start_date, end_date)\n",
    "saved_file = yt_channel.save_channel_videos_to_json(root_dir=root_dir)\n",
    "# Instead of just printing, let's assign the result to a variable\n",
    "from IPython.display import display\n",
    "display(yt_channel.get_channel_info_for_display())"
   ]
  },
  {
   "cell_type": "markdown",
   "metadata": {},
   "source": []
  },
  {
   "cell_type": "code",
   "execution_count": null,
   "metadata": {},
   "outputs": [],
   "source": [
    "import os\n",
    "from channel import ChannelFactory\n",
    "from datetime import datetime, timedelta\n",
    "import logging\n",
    "from IPython.display import display\n",
    "\n",
    "logging.basicConfig(level=logging.INFO, format='%(asctime)s - %(name)s - %(levelname)s - %(message)s')\n",
    "\n",
    "root_dir = \"channel_data\"\n",
    "channel_name = \"my fav videos\"\n",
    "json_file = \"my_fav_videos.json\"  # Assuming this is the name of your JSON file\n",
    "json_path = os.path.join(root_dir, json_file)\n",
    "\n",
    "# Check if JSON file exists\n",
    "if os.path.exists(json_path):\n",
    "    # Initialize from JSON\n",
    "    virtual_channel = ChannelFactory.create_channel(\"virtual\", channel_name)\n",
    "    virtual_channel.initialize(json_path=json_path)\n",
    "    logging.info(f\"Initialized virtual channel from JSON: {json_path}\")\n",
    "else:\n",
    "    # Initialize with video IDs\n",
    "    video_ids = [\"oX7OduG1YmI\", \"ds2hr9qSkiU\"]\n",
    "    virtual_channel = ChannelFactory.create_channel(\"virtual\", channel_name)\n",
    "    virtual_channel.initialize(video_ids=video_ids)\n",
    "    logging.info(f\"Initialized virtual channel with video IDs: {video_ids}\")\n",
    "\n",
    "# Fetch videos (this will use existing videos if loaded from JSON)\n",
    "fetched_videos = virtual_channel.fetch_videos()\n",
    "\n",
    "# Serialize to JSON (this will update the JSON file if it already exists)\n",
    "saved_file = virtual_channel.serialize_channel_to_json(root_dir=root_dir)\n",
    "\n",
    "# Display channel info\n",
    "display(virtual_channel.get_channel_info_for_display())"
   ]
  },
  {
   "cell_type": "markdown",
   "metadata": {},
   "source": [
    "# CNBC TV"
   ]
  },
  {
   "cell_type": "code",
   "execution_count": 1,
   "metadata": {},
   "outputs": [
    {
     "name": "stderr",
     "output_type": "stream",
     "text": [
      "2025-01-15 13:42:58,999 - YouTubeChannel - INFO - Loaded channel metadata and 101 videos from channel_data/CNBCtelevision_20250108_20250113.json\n",
      "2025-01-15 13:42:58,999 - YouTubeChannel - INFO - Initialized YouTubeChannel with name: CNBCtelevision, ID: UCrp_UI8XtuYfpiqluWLD7Lw\n",
      "2025-01-15 13:42:59,333 - YouTubeChannel - INFO - Existing videos: 101, New videos to fetch: 46\n",
      "2025-01-15 13:43:08,623 - root - WARNING - Invalid ISO duration format: P0D\n",
      "2025-01-15 13:43:09,706 - YouTubeAPIClient - WARNING - No transcript available for video ID: VFP3WI3wmbw\n",
      "2025-01-15 13:44:00,681 - YouTubeChannel - INFO - Fetched 46 videos within the date range\n"
     ]
    },
    {
     "data": {
      "text/html": [
       "\n",
       "        <h2>Channel Information</h2>\n",
       "        <p><strong>Name:</strong> CNBCtelevision</p>\n",
       "        <p><strong>ID:</strong> UCrp_UI8XtuYfpiqluWLD7Lw</p>\n",
       "        <p><strong>Videos:</strong> 147 total</p>\n",
       "        <h3>Videos:</h3><ol><li><a href=\"https://www.youtube.com/watch?v=fI0xEbg955Y\" target=\"_blank\">President Biden: Israel-Hamas deal was developed by my administration will be continued under Trump</a></li><li><a href=\"https://www.youtube.com/watch?v=cxmAALsg78g\" target=\"_blank\">Beachwaver CEO: We're diversifying away from TikTok by re-engaging Instagram Reels, other platforms</a></li><li><a href=\"https://www.youtube.com/watch?v=OyGqV54Bq58\" target=\"_blank\">Smead Capital CEO Cole Smead on energy investing in 2025</a></li><li><a href=\"https://www.youtube.com/watch?v=JuwkFqYfhLo\" target=\"_blank\">Dealmakers optimistic for Trump admin, but we're in 'honeymoon' phase, says Axios' Dan Primack</a></li><li><a href=\"https://www.youtube.com/watch?v=HX7pp35ws6M\" target=\"_blank\">OpenAI's new Siri, Alexa rival</a></li><li><a href=\"https://www.youtube.com/watch?v=1for03oenHw\" target=\"_blank\">President Biden delivers remarks following Gaza ceasefire and hostage deal — 1/15/2025</a></li><li><a href=\"https://www.youtube.com/watch?v=VFP3WI3wmbw\" target=\"_blank\">LIVE: President Biden delivers farewell address to the nation from the Oval Office — 1/15/2025</a></li><li><a href=\"https://www.youtube.com/watch?v=sJ7lCDJLmRM\" target=\"_blank\">Earnings show banks moving from 'challenged' to 'better,' says UBS' Erika Najarian</a></li><li><a href=\"https://www.youtube.com/watch?v=RsDyTFvrTf8\" target=\"_blank\">Our baseline is for Fed to cut rates in June, says MacroPolicy's Julie Coronado</a></li><li><a href=\"https://www.youtube.com/watch?v=i9qTScXhSTQ\" target=\"_blank\">Mortgage rates head lower after CPI report</a></li><li><a href=\"https://www.youtube.com/watch?v=MeWhRWm9Ctc\" target=\"_blank\">Honeywell reportedly plans to split company amid pressure from activist, according to reports</a></li><li><a href=\"https://www.youtube.com/watch?v=lsdw3p6vXMs\" target=\"_blank\">Jenny Harrington: Here's why dividend investing is a winning strategy</a></li><li><a href=\"https://www.youtube.com/watch?v=yzo15G2YdyQ\" target=\"_blank\">Final Trades: QXO, Stanley Black & Decker, Healthcare and Applovin</a></li><li><a href=\"https://www.youtube.com/watch?v=Hxbrh3edtsA\" target=\"_blank\">The Setup: Taiwan Semi, Fastenal and UnitedHealth</a></li><li><a href=\"https://www.youtube.com/watch?v=P9sJWVPJIws\" target=\"_blank\">Chris Wright testifies before Senate at confirmation hearing for energy secretary — 1/15/2025</a></li><li><a href=\"https://www.youtube.com/watch?v=OTegZeYRGp0\" target=\"_blank\">Squawk Pod: Elon Musk, sued! CEOs & the GOP with Fmr. Speaker Paul Ryan - 01/15/25 | Audio Only</a></li><li><a href=\"https://www.youtube.com/watch?v=q_OyLDcTeJo\" target=\"_blank\">Wells Fargo CFO on Q4: Great quarter caps off a really good year</a></li><li><a href=\"https://www.youtube.com/watch?v=TQH_9IHhrQc\" target=\"_blank\">Rebuilding LA is the most pressing issue when fires recede, says Cathay Bank CEO</a></li><li><a href=\"https://www.youtube.com/watch?v=sZfsA9PsPD0\" target=\"_blank\">5-7 years away from rebuilding destroyed areas of California: 'Selling Sunset' star Jason Oppenheim</a></li><li><a href=\"https://www.youtube.com/watch?v=xYvk689-vwg\" target=\"_blank\">CPI report feels like we're back in goldilocks scenario, says UBS' Mark Anderson</a></li><li><a href=\"https://www.youtube.com/watch?v=_3ZFai_AWgM\" target=\"_blank\">NY Fed's Williams: Path for policy will be dependent on the data</a></li><li><a href=\"https://www.youtube.com/watch?v=zeZTCxGsmvs\" target=\"_blank\">Investors have to consider overseas stocks because fundamentals are good: Harris Associates' Herro</a></li><li><a href=\"https://www.youtube.com/watch?v=UNDUdlP9IZ4\" target=\"_blank\">December CPI 'not a green light' for Fed to cut rates soon, says Liesman</a></li><li><a href=\"https://www.youtube.com/watch?v=qPSNhKLplLA\" target=\"_blank\">LA wildfires: Progress made on containment of Eaton, Palisades fires</a></li><li><a href=\"https://www.youtube.com/watch?v=AW5DGNfjZ5w\" target=\"_blank\">Larry Fink: Infrastructure will be the largest growing sector in private capital</a></li><li><a href=\"https://www.youtube.com/watch?v=m_gaBXwiZFg\" target=\"_blank\">Cramer’s Stop Trading: Intuitive Surgical</a></li><li><a href=\"https://www.youtube.com/watch?v=LiR3jW68_EM\" target=\"_blank\">Cramer’s Mad Dash: Eli Lilly</a></li><li><a href=\"https://www.youtube.com/watch?v=P9AZg-9qQI8\" target=\"_blank\">Lululemon CEO on the impact of president-elect Trump's proposed tariffs</a></li><li><a href=\"https://www.youtube.com/watch?v=zWcNgv4ttuM\" target=\"_blank\">CA fire crew brace for more winds; red flag warnings in effect</a></li><li><a href=\"https://www.youtube.com/watch?v=X0WhGI4_iDI\" target=\"_blank\">Expect Fed policy to be on hold for a period of time, says Roger Ferguson</a></li><li><a href=\"https://www.youtube.com/watch?v=Idv0LY5th6M\" target=\"_blank\">Core inflation rate slows to 3.2% in December, less than expected</a></li><li><a href=\"https://www.youtube.com/watch?v=5whx4NE1yto\" target=\"_blank\">BlackRock CEO Larry Fink: Our job is to manage your money, your way</a></li><li><a href=\"https://www.youtube.com/watch?v=vCQB1OTkXgU\" target=\"_blank\">Don't expect anything tangible from quantum in the next 2-4 years: Intelligent Alpha's Doug Clinton</a></li><li><a href=\"https://www.youtube.com/watch?v=A2OszEjl_-8\" target=\"_blank\">BlackRock CEO Larry Fink: Infrastructure will be the largest growing sector in private capital</a></li><li><a href=\"https://www.youtube.com/watch?v=CKF2GZVgGYc\" target=\"_blank\">Citigroup shares rise as fourth-quarter earnings top estimates</a></li><li><a href=\"https://www.youtube.com/watch?v=VdIr4RCfS0o\" target=\"_blank\">Marangi: We're finally seeing signs of the market rotation we've talked about for a long time</a></li><li><a href=\"https://www.youtube.com/watch?v=UbZpghvKL9E\" target=\"_blank\">Kantrowitz: Zuckerberg is trying to bring back that start-up company mentality</a></li><li><a href=\"https://www.youtube.com/watch?v=fO8fvDcjsRw\" target=\"_blank\">Biggar: JPMorgan is still the top of the heap among the big banks</a></li><li><a href=\"https://www.youtube.com/watch?v=okjn9DlFbQI\" target=\"_blank\">Girard: The CPI data will impact expectations for the Fed over the course of 2025</a></li><li><a href=\"https://www.youtube.com/watch?v=gYbIl8laGOM\" target=\"_blank\">Hightower's Stephanie Link breaks down Q4 bank earnings</a></li><li><a href=\"https://www.youtube.com/watch?v=jNrCtUIlPw0\" target=\"_blank\">CEO of AI chip maker Blaize on the decision to go public</a></li><li><a href=\"https://www.youtube.com/watch?v=Zpg5DJ84mLc\" target=\"_blank\">Eric Dezenhall on CA wildfire fallout: Don't see how the LA Mayor recovers from this</a></li><li><a href=\"https://www.youtube.com/watch?v=1eJR30ffnK8\" target=\"_blank\">Wells Fargo shares jump after earnings beat, strong 2025 guidance</a></li><li><a href=\"https://www.youtube.com/watch?v=bZhSVP7gqic\" target=\"_blank\">JPMorgan Chase tops estimates on better-than-expected fixed income and investment banking results</a></li><li><a href=\"https://www.youtube.com/watch?v=ao9bNrcLpl0\" target=\"_blank\">Chaloff: There's real merit for the Fed to cut rates, but it probably won't happen until June</a></li><li><a href=\"https://www.youtube.com/watch?v=2WvGlns9Jx4\" target=\"_blank\">BlackRock CEO Larry Fink: Our penetration with clients worldwide gives us the differentiating model</a></li><li><a href=\"https://www.youtube.com/watch?v=6MbB_KIRm7s\" target=\"_blank\">Here's why Meritage Homes is top pick among homebuilders at UBS</a></li><li><a href=\"https://www.youtube.com/watch?v=wSWR4gOx0gs\" target=\"_blank\">What the bond market signals</a></li><li><a href=\"https://www.youtube.com/watch?v=cEY8CB521hg\" target=\"_blank\">Squawk Pod: Michael Rubin & Marc Lasry: “LA Strong” & women’s sports - 01/13/25 | Audio Only</a></li><li><a href=\"https://www.youtube.com/watch?v=fLepXiiEwug\" target=\"_blank\">Edison International CEO: Do not see anamolies pointing to power lines being the cause of CA fires</a></li><li><a href=\"https://www.youtube.com/watch?v=6ukytaY5irk\" target=\"_blank\">GSK CEO on acquisition of biotech firm IDRx</a></li><li><a href=\"https://www.youtube.com/watch?v=qvQSk1cDdPI\" target=\"_blank\">Critics pan Zuckerberg's move towards MAGA</a></li><li><a href=\"https://www.youtube.com/watch?v=VWrbe3U43zk\" target=\"_blank\">AQR founder on value investing, company's market performance</a></li><li><a href=\"https://www.youtube.com/watch?v=H8r_pXUNMco\" target=\"_blank\">LIVE: Pete Hegseth faces Senate confirmation hearing for Secretary of Defense nomination — 1/14/2025</a></li><li><a href=\"https://www.youtube.com/watch?v=1IfMyGCJ6Jk\" target=\"_blank\">Former FCC Chairman on possible buyer for TikTok before upcoming deadline</a></li><li><a href=\"https://www.youtube.com/watch?v=SHdT2rW6gx8\" target=\"_blank\">OpenAI lays out AI policy recommendations for Trump administration</a></li><li><a href=\"https://www.youtube.com/watch?v=SBz1m68jyPg\" target=\"_blank\">Hartman Baldwin CEO on CA wildfires: What we're seeing is unprecedented</a></li><li><a href=\"https://www.youtube.com/watch?v=2SbsrTjmMAk\" target=\"_blank\">SCOTUS opened the door to complexities regarding TikTok ban, says former FCC chair Ajit Pai</a></li><li><a href=\"https://www.youtube.com/watch?v=i9W0KyZOn_k\" target=\"_blank\">KBW CEO: Banking industry is 'turning a corner' on a lot of fronts, here's why</a></li><li><a href=\"https://www.youtube.com/watch?v=zzpaly3BPdk\" target=\"_blank\">CA wildfires: Eaton fire now more than 30% contained as winds die down</a></li><li><a href=\"https://www.youtube.com/watch?v=r9rTaD_9LwY\" target=\"_blank\">LIVE: President Biden delivers a foreign policy address at the State Department — 1/13/2025</a></li><li><a href=\"https://www.youtube.com/watch?v=i4krRrtRHaI\" target=\"_blank\">Gilead CEO on funding for new HIV prevention medicine</a></li><li><a href=\"https://www.youtube.com/watch?v=ftNhem4krHI\" target=\"_blank\">Many California homeowners underinsured due to inflation costs</a></li><li><a href=\"https://www.youtube.com/watch?v=5JRSp-YblgM\" target=\"_blank\">Cramer’s Stop Trading: Moderna</a></li><li><a href=\"https://www.youtube.com/watch?v=dLdsLadGheA\" target=\"_blank\">Faber Report: Cleveland-Cliffs partners with Nucor in potential bid for U.S. Steel</a></li><li><a href=\"https://www.youtube.com/watch?v=h3dygm-Sg6M\" target=\"_blank\">Opening Bell: January 13, 2025</a></li><li><a href=\"https://www.youtube.com/watch?v=8bfUJ9AvCyY\" target=\"_blank\">Measuring damage from California wildfires: Here's what to know</a></li><li><a href=\"https://www.youtube.com/watch?v=UfiXWBAMfYI\" target=\"_blank\">Bezos’ Blue Origin stands down on debut launch of New Glenn rocket</a></li><li><a href=\"https://www.youtube.com/watch?v=2_N4jkWAjp8\" target=\"_blank\">Avenue Capital's Marc Lasry on sports investing opportunities: Women's sports have the most upside</a></li><li><a href=\"https://www.youtube.com/watch?v=5KmO6H93VI4\" target=\"_blank\">Prediction market Kalshi adds Donald Trump Jr. as adviser</a></li><li><a href=\"https://www.youtube.com/watch?v=ChWOplKLHQM\" target=\"_blank\">Gilead CEO Daniel O'Day on new HIV prevention medicine: It's going to change the face of HIV</a></li><li><a href=\"https://www.youtube.com/watch?v=7yAjLbAlGzk\" target=\"_blank\">RBC's Lori Calvasina: 6,600 S&P 500 year-end target can withstand a 5-10% pullback</a></li><li><a href=\"https://www.youtube.com/watch?v=UEUCHDzVnMM\" target=\"_blank\">Fanatics CEO Michael Rubin on LA wildfires: A lot of entrepreneurial business leadership is needed</a></li><li><a href=\"https://www.youtube.com/watch?v=ngJthBYAYCs\" target=\"_blank\">Consumer spending surges in December: CNBC/NRF Retail Monitor</a></li><li><a href=\"https://www.youtube.com/watch?v=I2eT3Slxhqg\" target=\"_blank\">We're 'cautiously optimistic' about the economic outlook, says JPMorgan's Gabriela Santos</a></li><li><a href=\"https://www.youtube.com/watch?v=_6_P4SB8DOs\" target=\"_blank\">Expect better performance from smaller AI companies in 2025, says Deepwater's Gene Munster</a></li><li><a href=\"https://www.youtube.com/watch?v=IrXhPPAv6DI\" target=\"_blank\">Pershing Square's Bill Ackman proposes to take over Howard Hughes</a></li><li><a href=\"https://www.youtube.com/watch?v=zKMyMeB-lVI\" target=\"_blank\">Ives: The AI revolution is driving strength in tech</a></li><li><a href=\"https://www.youtube.com/watch?v=4iQ1c29fOLQ\" target=\"_blank\">Zervos: The important point is long-term interest rates did not spike</a></li><li><a href=\"https://www.youtube.com/watch?v=Vl7BDxCf_5c\" target=\"_blank\">Schwartz: Higher bond yields create competition for equities</a></li><li><a href=\"https://www.youtube.com/watch?v=Dp-fYnv9aTA\" target=\"_blank\">Bitcoin's going to be one of the best performing assets this year, says Fundstrat's Tom Lee</a></li><li><a href=\"https://www.youtube.com/watch?v=RBCVNKMkez0\" target=\"_blank\">Biden administration delays enforcement of order blocking Nippon-U.S. Steel deal until June</a></li><li><a href=\"https://www.youtube.com/watch?v=iA2GJ29-s8k\" target=\"_blank\">50% of active real estate supply is 'stale', says SERHANT CEO</a></li><li><a href=\"https://www.youtube.com/watch?v=4k5eDtJsW_4\" target=\"_blank\">Skylar Capital Management CEO Bill Perkins on swings in energy prices</a></li><li><a href=\"https://www.youtube.com/watch?v=sI4t2dxkmKo\" target=\"_blank\">Fundstrat's Tom Lee on why rise in yields might be false flag</a></li><li><a href=\"https://www.youtube.com/watch?v=kPZa_TMapY8\" target=\"_blank\">Bond markets signaling inflation still an issue, says Payne's Courtney Garcia</a></li><li><a href=\"https://www.youtube.com/watch?v=yEG4PDxSjf0\" target=\"_blank\">Everest CEO Andrade leaving company, will be new CEO of USAA</a></li><li><a href=\"https://www.youtube.com/watch?v=Tf9RwZ67NhA\" target=\"_blank\">AI trade 'alive and well' this year and Nvidia will continue to work: Intelligent Alpha's Clinton</a></li><li><a href=\"https://www.youtube.com/watch?v=8ykxkIZ_85M\" target=\"_blank\">Here's how one expert is trading Nvidia, JPMorgan and Robinhood</a></li><li><a href=\"https://www.youtube.com/watch?v=IpLNGIaZqfQ\" target=\"_blank\">'Buy the dip' opportunity will emerge if rates keep rising, says Requisite's Bryn Talkington</a></li><li><a href=\"https://www.youtube.com/watch?v=_P97wUB_wgM\" target=\"_blank\">Three-Stock Lunch: Chevron, AT&T, and Palantir</a></li><li><a href=\"https://www.youtube.com/watch?v=aWM30fBuwUw\" target=\"_blank\">Policy volatility will lead to more index-level volatility in markets, says Schwab's Kevin Gordon</a></li><li><a href=\"https://www.youtube.com/watch?v=TIwrC5Fg3PU\" target=\"_blank\">Fed seen 'at or near the point' appropriate to 'slow the pace of policy easing'</a></li><li><a href=\"https://www.youtube.com/watch?v=ZpdJqF02CGo\" target=\"_blank\">Yellen on U.S. Steel-Nippon deal as chair of CFIUS</a></li><li><a href=\"https://www.youtube.com/watch?v=PTbyYak1uZw\" target=\"_blank\">LIVE: Watch the state funeral ceremony honoring former President Jimmy Carter — 1/9/2025</a></li><li><a href=\"https://www.youtube.com/watch?v=9xy7JAeCcv4\" target=\"_blank\">Fed inclined to cut rates they just don't want to overdo it, says Morgan Stanley's Seth Carpenter</a></li><li><a href=\"https://www.youtube.com/watch?v=J7H3rtZVk4s\" target=\"_blank\">Sticky inflation and disappointing earnings are the biggest market risks, says Turtle Creek's Spika</a></li><li><a href=\"https://www.youtube.com/watch?v=CMImVwxpKnU\" target=\"_blank\">Yellen on Musk's DOGE: It's hard to see how that would work</a></li><li><a href=\"https://www.youtube.com/watch?v=fxLue1PeLGw\" target=\"_blank\">Blue Owl co-CEO Marc Lipschultz on private markets</a></li><li><a href=\"https://www.youtube.com/watch?v=8qDJOIpWKk4\" target=\"_blank\">D-Wave CEO responds to Jensen Huang's quantum comments</a></li><li><a href=\"https://www.youtube.com/watch?v=ERKGwm_JimE\" target=\"_blank\">Fed near point of slowing its policy easing following December cut, minutes show</a></li><li><a href=\"https://www.youtube.com/watch?v=X9WYdU0Hre8\" target=\"_blank\">Yellen on federal deficit: We need tighter fiscal policy</a></li><li><a href=\"https://www.youtube.com/watch?v=C44veF3lbxA\" target=\"_blank\">Rick Caruso shares his experience on the impact of the Palisades fire</a></li><li><a href=\"https://www.youtube.com/watch?v=QdN-uDc-BjY\" target=\"_blank\">Potomac Wealth Advisors' Mark Avallone on why technology is the 'best sector' to be in right now</a></li><li><a href=\"https://www.youtube.com/watch?v=c8i78TaH4-4\" target=\"_blank\">CoreLogic's Garret Gray on evacuating from the Palisades fire</a></li><li><a href=\"https://www.youtube.com/watch?v=0LqJJe0Sun4\" target=\"_blank\">Calls of the Day: Leidos, Accenture, Travelers and Allstate</a></li><li><a href=\"https://www.youtube.com/watch?v=9wt-vSy_CSE\" target=\"_blank\">Final Trades: Apollo, UnitedHealth, Boston Scientific and the IYF</a></li><li><a href=\"https://www.youtube.com/watch?v=oemtLynaXTQ\" target=\"_blank\">Trade Tracker: Steve Weiss sells the INDA and SMIN ETFs</a></li><li><a href=\"https://www.youtube.com/watch?v=ItsVPZ91ZxM\" target=\"_blank\">Wells Fargo's Jay Bryson on what's driving the productivity numbers</a></li><li><a href=\"https://www.youtube.com/watch?v=boUcXAySSlM\" target=\"_blank\">Squawk Pod: Canada & Greenland & the Panama Canal, oh Trump! - 01/08/25 | Audio Only</a></li><li><a href=\"https://www.youtube.com/watch?v=0xzvfH6SJ4M\" target=\"_blank\">Mortgage rates hit highest level since June</a></li><li><a href=\"https://www.youtube.com/watch?v=cLnPiak8B34\" target=\"_blank\">Treasury sells $22 billion in 30-year bonds</a></li><li><a href=\"https://www.youtube.com/watch?v=pwuKgetV7ik\" target=\"_blank\">Yellen: I feel pretty convinced we're on a downward path</a></li><li><a href=\"https://www.youtube.com/watch?v=OyoxEYxDaMA\" target=\"_blank\">Treasury Secretary Yellen on whether the stimulus payments during Covid contributed to inflation</a></li><li><a href=\"https://www.youtube.com/watch?v=g0WII1uNgrk\" target=\"_blank\">Very unlikely current state of affairs between U.S. and China will persist: Eurasia Group's Bremmer</a></li><li><a href=\"https://www.youtube.com/watch?v=lgJfELNV0Nk\" target=\"_blank\">TikTok shop rival Whatnot hits $4.97 billion valuation</a></li><li><a href=\"https://www.youtube.com/watch?v=FR_loXUjfD8\" target=\"_blank\">Treasury Secretary Janet Yellen: Covid stimulus may have contributed 'a little bit' to inflation</a></li><li><a href=\"https://www.youtube.com/watch?v=uaTT2Nyr_OY\" target=\"_blank\">Treasury Secretary Janet Yellen: It's 'hard to see how the math' on DOGE works</a></li><li><a href=\"https://www.youtube.com/watch?v=ChW87UFBhNU\" target=\"_blank\">El-Erian on U.S. deficits: We are lucky we are the cleanest dirty shirt</a></li><li><a href=\"https://www.youtube.com/watch?v=53tTqKw11HM\" target=\"_blank\">Cantor Fitzgerald: Here's why investment in China is attractive</a></li><li><a href=\"https://www.youtube.com/watch?v=T5Aqko4T8HM\" target=\"_blank\">Commercial real estate won't be as distressed as last year, says RXR CEO Scott Rechler</a></li><li><a href=\"https://www.youtube.com/watch?v=WgPWp1WcZZY\" target=\"_blank\">Palantir share slide coincides with pre-planned insider selling</a></li><li><a href=\"https://www.youtube.com/watch?v=ShBsEkLH2lM\" target=\"_blank\">Treasury yields are creating headwinds for equities, says Truist's Keith Lerner</a></li><li><a href=\"https://www.youtube.com/watch?v=JsSLz7uxCTo\" target=\"_blank\">Nearly 50,000 ordered to evacuate Palisades as strong winds fuel blaze</a></li><li><a href=\"https://www.youtube.com/watch?v=qV2lqhSov1g\" target=\"_blank\">Fully expect investment in semiconductors to remain robust, says Wedbush analyst Matt Bryson</a></li><li><a href=\"https://www.youtube.com/watch?v=yUYL2pAmCHQ\" target=\"_blank\">Final November wholesale inventories read remains negative</a></li><li><a href=\"https://www.youtube.com/watch?v=_V-ycqIdjmc\" target=\"_blank\">Former FDA commissioner: Farmers shouldn't bear economic brunt of bird flu testing</a></li><li><a href=\"https://www.youtube.com/watch?v=liN2ijR0vtI\" target=\"_blank\">Cramer's Stop Trading: JM Smucker</a></li><li><a href=\"https://www.youtube.com/watch?v=GtkvyM6VGv4\" target=\"_blank\">Cramer's Mad Dash: Advanced Micro</a></li><li><a href=\"https://www.youtube.com/watch?v=iWkYGd2znik\" target=\"_blank\">Opening Bell: January 8, 2025</a></li><li><a href=\"https://www.youtube.com/watch?v=8E6uokuDbi0\" target=\"_blank\">Meta is returning to free speech tradition, says Facebook's former chief privacy officer Chris Kelly</a></li><li><a href=\"https://www.youtube.com/watch?v=-5XBDGVS9EY\" target=\"_blank\">Tens of thousand evacuate California wildfires</a></li><li><a href=\"https://www.youtube.com/watch?v=L59wnuI7od4\" target=\"_blank\">Michael Barr stepped down to protect the Fed, says Mohamed El-Erian</a></li><li><a href=\"https://www.youtube.com/watch?v=FkOPDvAFm68\" target=\"_blank\">Supreme Court likely to uphold TikTok ban, says Christoff & Co. CEO Niki Christoff</a></li><li><a href=\"https://www.youtube.com/watch?v=eqHN8Gg5MC0\" target=\"_blank\">We like midcaps over small and megacaps, says BofA's Jill Carey Hall</a></li><li><a href=\"https://www.youtube.com/watch?v=OU9Ip4u1-jQ\" target=\"_blank\">December ADP report shows downshift from earlier quarter but still solid, says ADP's Nela Richardson</a></li><li><a href=\"https://www.youtube.com/watch?v=kpASW_sanME\" target=\"_blank\">GOP policy chair Rep. Kevin Hearn on Trump's agenda</a></li><li><a href=\"https://www.youtube.com/watch?v=S-cNX8GAGMQ\" target=\"_blank\">More needs to be done to prevent bird flu outbreak, says Dr. Scott Gottlieb</a></li><li><a href=\"https://www.youtube.com/watch?v=ceh7p55sRoM\" target=\"_blank\">No one knows if Trump is serious about acquiring Greenland, says Axios' Marc Caputo</a></li><li><a href=\"https://www.youtube.com/watch?v=B8vLnohyxps\" target=\"_blank\">Reed: Is Facebook a news platform or a vehicle for information?</a></li><li><a href=\"https://www.youtube.com/watch?v=ym5GrPo5aCA\" target=\"_blank\">Shue: Focus on companies not reliant on rates.</a></li><li><a href=\"https://www.youtube.com/watch?v=oKzlnKNGS9o\" target=\"_blank\">Analysts Split on Palantir's Future, With Concerns Over Valuation vs. AI Potential</a></li><li><a href=\"https://www.youtube.com/watch?v=iLcKlClnfrg\" target=\"_blank\">Mehrotra: Small business optimism hints at a manufacturing rebound.</a></li><li><a href=\"https://www.youtube.com/watch?v=xSM2CgWe1Tk\" target=\"_blank\">This year will be about AI software and power, says iCapital's Anastasia Amoroso</a></li><li><a href=\"https://www.youtube.com/watch?v=X5Xm07URcm0\" target=\"_blank\">Branch: Most of us declared a premature end to inflation, but the data shows a resurgence.</a></li><li><a href=\"https://www.youtube.com/watch?v=cF9sD4BRi3A\" target=\"_blank\">Nvidia pullback due to CES expectations & 'market issues,' says Morgan Stanley's Joseph Moore</a></li><li><a href=\"https://www.youtube.com/watch?v=DHSQzG4QMCc\" target=\"_blank\">Anthropic in talks to raise $2B</a></li></ol>"
      ],
      "text/plain": [
       "<IPython.core.display.HTML object>"
      ]
     },
     "metadata": {},
     "output_type": "display_data"
    },
    {
     "name": "stderr",
     "output_type": "stream",
     "text": [
      "2025-01-15 13:44:00,704 - YouTubeChannel - INFO - Serialized channel data with 147 videos to JSON: channel_data/CNBCtelevision_20250108_20250115.json\n"
     ]
    },
    {
     "data": {
      "text/plain": [
       "'channel_data/CNBCtelevision_20250108_20250115.json'"
      ]
     },
     "execution_count": 1,
     "metadata": {},
     "output_type": "execute_result"
    }
   ],
   "source": [
    "import os\n",
    "import logging\n",
    "from channel import ChannelFactory\n",
    "from IPython.display import display\n",
    "import utils\n",
    "\n",
    "logging.basicConfig(level=logging.INFO, format='%(asctime)s - %(name)s - %(levelname)s - %(message)s')\n",
    "\n",
    "channel_name = \"CNBCtelevision\"\n",
    "root_dir = \"channel_data\"\n",
    "json_file = \"CNBCtelevision_20250108_20250113.json\"  # Specify the JSON file to load from\n",
    "json_path = os.path.join(root_dir, json_file)\n",
    "\n",
    "yt_channel = ChannelFactory.create_channel(\n",
    "    \"youtube\",\n",
    "    channel_name,\n",
    "    transcript_language='en'\n",
    ")\n",
    "yt_channel.initialize(json_path)\n",
    "start_date, end_date = utils.get_start_end_dates_for_period('today')\n",
    "yt_channel.fetch_videos(start_date, end_date)\n",
    "display(yt_channel.get_channel_info_for_display())\n",
    "yt_channel.serialize_channel_to_json(root_dir=root_dir)"
   ]
  },
  {
   "cell_type": "code",
   "execution_count": null,
   "metadata": {},
   "outputs": [],
   "source": []
  }
 ],
 "metadata": {
  "kernelspec": {
   "display_name": "ml4t",
   "language": "python",
   "name": "python3"
  },
  "language_info": {
   "codemirror_mode": {
    "name": "ipython",
    "version": 3
   },
   "file_extension": ".py",
   "mimetype": "text/x-python",
   "name": "python",
   "nbconvert_exporter": "python",
   "pygments_lexer": "ipython3",
   "version": "3.12.4"
  }
 },
 "nbformat": 4,
 "nbformat_minor": 2
}
