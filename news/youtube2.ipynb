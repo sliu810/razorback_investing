{
 "cells": [
  {
   "cell_type": "markdown",
   "metadata": {},
   "source": [
    "# Youtube Study"
   ]
  },
  {
   "cell_type": "code",
   "execution_count": null,
   "metadata": {},
   "outputs": [],
   "source": [
    "# !pip install google-api-python-client google-auth google-auth-oauthlib google-auth-httplib2 \n",
    "# !pip install --upgrade google-auth-oauthlib\n",
    "# !pip install openai"
   ]
  },
  {
   "cell_type": "code",
   "execution_count": 3,
   "metadata": {},
   "outputs": [
    {
     "name": "stdout",
     "output_type": "stream",
     "text": [
      "Module loaded. Use YouTubeSummary(CONFIG).run(channel_name) to run the script or call individual functions.\n"
     ]
    }
   ],
   "source": [
    "# Imports and APIs\n",
    "import fetch_videos\n",
    "from YouTubeSummary import YouTubeSummary, CONFIG\n",
    "import openai\n",
    "import os\n",
    "import pandas as pd\n",
    "\n",
    "# Ensure you have set your OpenAI API key\n",
    "openai.api_key = os.getenv('OPENAI_API_KEY')\n",
    "client = openai.OpenAI()"
   ]
  },
  {
   "cell_type": "code",
   "execution_count": 4,
   "metadata": {},
   "outputs": [],
   "source": [
    "## Define Channels\n",
    "# @BobUnlimited\n",
    "channel_BobUnlimited = fetch_videos.channels[\"BobUnlimited\"]\n",
    "channel_BobUnlimited_name = fetch_videos.get_channel_name_by_id(channel_BobUnlimited, fetch_videos.channels)\n",
    "# @LukeGromenFFTTLLC\n",
    "channel_LukeGromenFFTTLLC = fetch_videos.channels[\"LukeGromenFFTTLLC\"]\n",
    "channel_LukeGromenFFTTLLC_name = fetch_videos.get_channel_name_by_id(channel_LukeGromenFFTTLLC, fetch_videos.channels)\n",
    "\n",
    "# @LukeGromenFFTTLLC\n",
    "channel_TheDavidLinReport = fetch_videos.channels[\"TheDavidLinReport\"]\n",
    "channel_TheDavidLinReport_name = fetch_videos.get_channel_name_by_id(channel_TheDavidLinReport, fetch_videos.channels)\n",
    "\n",
    "# @DeepWater\n",
    "channel_DeepWater = fetch_videos.channels[\"DeepWater\"]\n",
    "channel_DeepWater_name = fetch_videos.get_channel_name_by_id(channel_DeepWater, fetch_videos.channels)\n",
    "\n",
    "# @TheLeadLagReport\n",
    "channel_LeadLag = fetch_videos.channels[\"TheLeadLagReport\"]\n",
    "channel_LeadLag_name = fetch_videos.get_channel_name_by_id(channel_LeadLag, fetch_videos.channels)\n"
   ]
  },
  {
   "cell_type": "markdown",
   "metadata": {},
   "source": [
    "## Channel Definitions and Setups"
   ]
  },
  {
   "cell_type": "markdown",
   "metadata": {},
   "source": [
    "# One Off Study"
   ]
  },
  {
   "cell_type": "code",
   "execution_count": 13,
   "metadata": {},
   "outputs": [
    {
     "name": "stdout",
     "output_type": "stream",
     "text": [
      "flip cities family what is up it is art and bobby back in the grocery store once again to do a video all about the best alternative sweeteners and once we identify what the best ones are i want to walk around the grocery store and tell you some products you can find those sweeteners in because nowadays they're starting to put it in prepackaged products and drinks and it really makes a difference because we're all about eliminating or limiting the amount of real sugar you eat we all know sugar like over there is bad for you for many reasons but i want to talk about zero calorie zero carb sweeteners before we get started you know the drill like subscribe share all those good things but guys we have so much content going live every single week you're gonna want to enable the bell notification right below the video that way you get a push as soon as we go live all right let's talk about my favorite uh non-sweetener and it's this right here it's monk fruit sweetener now this is a great brand here called la canto now here's something that's very interesting and i get a lot of questions about you're gonna see it's a combination of monk fruit and erythritol and a lot of people ask me if that's okay and it is okay because number one the erythritol is non-gmo and that's important because erythritol can come from corn but monk fruit sweetener on its own is very sweet i believe it's 300 times sweeter than sugar so if you're gonna have it on its own you could only sweeten maybe a cup of tea or coffee you can't bake with it when you blend it with erythritol like it says right here it's a one to one sugar replacement so any recipe you're cooking with baking with you can sub this out and make it a sugar-free zero carb zero calorie sweetener and i love this stuff now something i'm going to mention come over here no matter if you're talking about erythritol stevia any of these sugar-free sweeteners you still want to eat them in moderation because even though this is way better than refined sugar sugar in the raw any kind of other sugar it still is not great for your tummy and your tummy bacteria we talk about this all the time your tummy bacteria are the backbone of your immune system right well if you eat too much of this stuff it can disturb the bacteria and your tummy so i would limit it but that being said it's still miles miles better than any other kind of sugar so this is a great one if you're a costco shopper get it there they have a monster bag for the same price as this small one here but this stuff is so good this summer i made homemade lemonade and i made a simple syrup with this it was phenomenal no one knew the difference and it was completely sugar and keto free so come over here for a second art we have other options right my second favorite sweetener that's sugar free would be stevia stevia is fantastic but look at all these options here we have liquid stevia we have flavored liquid stevia we have stevia powder we have truvia now something about reading labels is what we always talk about so come in here this is truvia i get a lot of questions about this you're going to be like oh it's stevia it's non-gmo i'm going to buy it and i'm going to say you might want to look at the ingredients because yeah sure we have stevia we have erythritol i'm fine with that too but we have natural flavors right so we talked about this before you don't want natural flavors in there and once again in the monk fruit in the raw you're gonna think maybe it's pure monk fruit and you see it's monk fruit and dextrose dextrose is another word for sugar so it's very misleading and if you don't know what natural flavors are watch my natural flavors video on youtube after this one basically when you see natural flavors it's another word for artificial flavors so take something like a vanilla bean they'll extract the flavor molecules from the vanilla bean they can add up to 100 synthetic flavor chemical compounds to it and still call it natural and it's not you want to see something like a real vanilla extract when they're adding natural flavors to this it's just pure artificial flavors doctoring up everything you don't want that so instead i would come here i would get pure stevia liquid extract you look at this one number one it's organic you see the ingredients here you see it's stevia and it's based on a little bit of alcohol just like a vanilla extract would be and that's clean sometimes you'll see stevia powder like this this is cool but you gotta read the ingredients you guys because sometimes we'll use maltodextrin this one just is pure stevia that's it the one from trader joe's has a little bit actually of milk powder in there but sometimes people see those big bags at aldi or stevia read the ingredients it's it's stevia mixed with maltodextrin maltodextrin is a gmo food preservative that actually spikes your blood sugar you don't want that so stay away from that it's got to be pure or have something that's clean mixed in there let's take a quick break from the video and thank today's sponsor audible who's a long time supporter of the channel because here's the deal i just don't have time anymore to sit down and read a book but i do have time to listen to an audiobook while i'm in the kitchen cooking at the gym working out and right now i'm listening to an audiobook called the subtle art of not giving uh and pretty much the title gives away what the audiobook is about it's fantastic but here's the deal you guys check them out they have a great promo code going on right now you can get a 30 day free trial and that includes one free audio book and two free audible originals if you go to audible.com slave city or tex play city to 500 500 audible has a lot of cool things going on but some of my favorite features are every single month with your membership you get a free audio book and two free audible original if you don't use those credits they roll over to the next month if you buy an audio book and listen to it and don't like it get this you can return it and get your money back that's unheard of and if you cancel your membership you get to keep all of the audio books you already bought to listen to in the future it's a great service i really think you guys should check it out once again go to audible.com flavcity or text filet city to 500 500 get that 30 day free trial get that free audio book the two free audible originals i think you're really going to love it and mad love to them for sponsoring the video now this is where things get very interesting some people i noticed who sent me emails and contacted me on dm like these flavored here now let me ask you a question when you're having a chocolate or a root beer flavored stevia leaf how do you think they're getting that this is insane i need a micro look at this down here i need a freaking microscope it's natural flavors can you see that natural flavors and then on the root beer what do you think they're doing putting a real root beer no natural flavor so stay away from these flavored ones they make it so small even my iphone can't read it but even on the plain sweet leaf sweet drops here it says natural flavor so be very careful when you're having stuff like that you gotta be care be careful that it's clean this is a pretty good brand it's called wholesome oh man down man down it's called wholesome and it's stevia but once again it's combined with natural flavors so this is why we make these videos because not only we educate you to the best items like this but to read the ingredients because we never take what's on the front of the box for the truth you got to read the ingredients because in the ingredients and the devil and the details you can't lie okay now there's a couple other sweeteners here like erythritol and even though i'm okay with erythritol blended in with the uh with the monk fruit i find that straight up erythritol can have a cooling effect on my tongue and i'm not a huge fan of it if you don't mind it i have no problem just make sure it's non-gmo because it can be from corn and then swerve is interesting swerve is erythritol based and it clearly says non-gmo here but every single one of these varieties has natural flavors here from swerve so there's a lot of options here including xylitol this is not anything i would eat this is very common for gum but this is the kind of sweetener that actually really disturb your tummy and your tummy bacteria and your intestines you don't want to use alatol also if you eat too much xylitol it can cause you to have like diarrhea cha cha cha and you don't want that so now that we know the basics of the sugar-free keto sweeteners and really what you want to look for let's go around the grocery store and see some of my favorite products that are using it and therefore making a product that used to have sugar now be sugar-free and bobby approved and safe to eat and drink all right take a look at this huge wall of energy bars and protein bars and it blows my mind there's only one counting one brand here that actually is sugar-free using one of those sugar-free sweeteners we talked about and once again it's the uh bulletproof guys and this is so interesting i'm gonna reach for something look at this flavor art this says apple pie here normally that would freak the heck out of me because i think it's natural flavor city but let's take a look here at the ingredients so this is super interesting because it's cashew butter and once again they're using grass-fed collagen protein here they're using the mct oil powder so the mcts they come from either coconut oil or palm oil i don't love the fact that it could come from palm oil but we're talking about the mct oil so i'm not as concerned the rest of the ingredients you guys apples cashews coconut oil real vanilla extract not uh natural flavors and stevia leaf wow wow are you kidding me because any of these flavors here mint chocolate chip chocolate chip cookie dough lemon cookie do not use natural flavors use clean ingredients and they're relying purely around the stevia so we look at the sweetness for the whole bar number one zero added sugars and four this is only four grams of natural sugar in a whole bar four grams is one teaspoon compare that to anyone else here unbelievable some bars do rely on dates which have high natural sugar but this is what you want to get i don't understand why more people are not doing it but that's really impressive when you talk about the sweetener they're doing in there combined with the mcts and the grass-fed ghee really really cool and you can get that at trader joe's too i think it's a better price than here all right let's talk about ice cream something we touched about in the frozen food video the other week we all know about halo top right it's one of the better known low sugar low fat low calorie ice cream and you got to stick with chocolate or vanilla otherwise there's natural flavors but the ingredients are pretty clean right and they're using see a touch of cane sugar they also use stevia the thing is there's still six grams of sugar in here for a half cup serving so i would actually rather you trade out and there's a couple things to trade out for number one trader joe's has their version of halo top in the trader jojo's light peanut butter that one's amazing aldi has their own sundae shop version that is cleaner than halo top has amazing uh ingredients and it's really really cheap or this brand which we've talked about before slim twin the reason why i like this one it's like halo top but i think it's even better because look it's a two-thirds serving per cup and it's only two grams of added sugar here to sugar alcohol and yes they use a touch of cane sugar but they also use the monk fruit extract and because monk fruit is so strong you only need a little bit of it so to have two thirds of a cup and only have two grams of sugar alcohols and total sugars of seven we're talking about seven grams of sugar a two-thirds serving two-third cup serving of regular uh ice cream could have like 25 grams of sugar so there are some really cool options on when it comes to ice cream we talked about this one in the drinks video but this rebel they make plant-based smoothies and drinks and look at the amount of sugars in here this one only has four grams of sugar for the entire 12 ounce bottle and that's because the sweetener is stevia they do have a touch of coconut sugar which is a great paleo sweetener but this has plant-based protein coffee and it's low to no sugar that's the kind of stuff you want to drink here's a great one come in here a lot of these coffee drinks will be loaded with sugar i've seen one from starbucks and one from nakano's that had 41 grams of total sugar which is crazy this is one of the best ones it's the bulletproof coffee and it's zero sugar how do they do that look at the ingredients here it's a combination of stevia and erythritol what's so cool about this is is that it has the mcts it has grass-fed butter so this is the og original bulletproof coffee so when you drink a coffee that has the mct oil and the butter blended into it it has a slower release of caffeine but if you drink this with your breakfast it actually keeps you fuller longer and you don't get hungry around 11 o'clock i mean i would make my own at home and put a couple drops of stevia in there but this is great for on the road because these other ones a lot of them are loaded with sugar and natural flavors and you don't want that but the original one is really really clean so that's it you guys i just wanted to give you an idea of the best sugar-free sweeteners because there are some great options over there but you got to read the ingredients and then i wanted to give you an idea of what you can get at the grocery store now that is sugar-free that heck five years ago did not exist so guys that is it please let me know what other kind of videos you want to see i have a list art has a list but we want to know what you make because we make these videos all for you like subscribe share the only way our channel keeps growing the way it has the month of january is by spreading the love but art and i will see you very soon until then we say unto you like we always do hashtag keep on cooking mad love and peace\n"
     ]
    }
   ],
   "source": [
    "transcript = fetch_videos.get_transcript('7GYLjlfbIIQ')\n",
    "print(transcript)"
   ]
  },
  {
   "cell_type": "code",
   "execution_count": 14,
   "metadata": {},
   "outputs": [
    {
     "name": "stdout",
     "output_type": "stream",
     "text": [
      "The key takeaways of the video are the importance of choosing sugar-free sweeteners like monk fruit and stevia, the need to carefully read ingredient labels to avoid hidden sugars and artificial flavors, and the availability of sugar-free options in products like energy bars, ice cream, and coffee drinks.\n"
     ]
    }
   ],
   "source": [
    "task2 = \"\"\"I would like you to summarize the text which describes Tesla FSD.\n",
    "Please say in what senario FSD performed well and waht senario it didn't perform well.\n",
    "Format like this:\n",
    "Title: \n",
    "Key takeaways:\n",
    "* FSD performed well in ...\n",
    "* FSD had some challenges in ....\n",
    "Improvement over pervious version if any.\n",
    "\"\"\"\n",
    "task3 = \"\"\"\n",
    "One sentence summary of the key takeaways of the video.\n",
    "\"\"\"\n",
    "\n",
    "summary = fetch_videos.apply_task(transcript, client, task3)\n",
    "print(summary)"
   ]
  },
  {
   "cell_type": "markdown",
   "metadata": {},
   "source": [
    "# Channel Study"
   ]
  },
  {
   "cell_type": "markdown",
   "metadata": {},
   "source": [
    "### Aquire Transcript Database"
   ]
  },
  {
   "cell_type": "code",
   "execution_count": 6,
   "metadata": {},
   "outputs": [
    {
     "name": "stdout",
     "output_type": "stream",
     "text": [
      "CSV will be saved to: youtube_summary_data/BobUnlimited/youtube_summary_BobUnlimited_2024-09-25.csv\n"
     ]
    }
   ],
   "source": [
    "# Select a channel to study\n",
    "channel_name = \"BobUnlimited\"\n",
    "channel_id = channel_BobUnlimited  # Use the variable you've already defined\n",
    "\n",
    "# Define the directory path to save CSV\n",
    "file_dir = os.path.join('youtube_summary_data', channel_name)\n",
    "os.makedirs(file_dir, exist_ok=True)\n",
    "\n",
    "# Define the CSV file name with current date\n",
    "from datetime import datetime\n",
    "current_date = datetime.now().strftime('%Y-%m-%d')\n",
    "file_name_csv = os.path.join(file_dir, f'youtube_summary_{channel_name}_{current_date}.csv')\n",
    "\n",
    "print(f\"CSV will be saved to: {file_name_csv}\")"
   ]
  },
  {
   "cell_type": "code",
   "execution_count": 15,
   "metadata": {},
   "outputs": [
    {
     "name": "stdout",
     "output_type": "stream",
     "text": [
      "Appended 310 new videos to youtube_summary_data/BobUnlimited/youtube_summary_BobUnlimited_2024-09-25.csv.\n"
     ]
    },
    {
     "name": "stderr",
     "output_type": "stream",
     "text": [
      "/Users/sliu/src/mysrc/investing/razorback_investing/news/fetch_videos.py:163: FutureWarning: The behavior of DataFrame concatenation with empty or all-NA entries is deprecated. In a future version, this will no longer exclude empty or all-NA columns when determining the result dtypes. To retain the old behavior, exclude the relevant entries before the concat operation.\n",
      "  combined_df = pd.concat([existing_df, new_videos_df], ignore_index=True).sort_values(by=['Published At'], ascending=False)\n"
     ]
    }
   ],
   "source": [
    "## Fetch videos and save to csv\n",
    "period_type = 'months'  # 'today', 'days', 'weeks', 'months'\n",
    "number = 12  # The 'today' setting does not use 'number', adjust if using other settings\n",
    "start_date, end_date = fetch_videos.get_date_range(period_type, number)\n",
    "df_videos = fetch_videos.fetch_videos(start_date, end_date, channel_id,file_name_csv)"
   ]
  },
  {
   "cell_type": "code",
   "execution_count": 16,
   "metadata": {},
   "outputs": [
    {
     "name": "stdout",
     "output_type": "stream",
     "text": [
      "An error occurred for video ID eI69kHuVXqI: no element found: line 1, column 0\n",
      "An error occurred for video ID zh2bnPRpUoA: no element found: line 1, column 0\n"
     ]
    }
   ],
   "source": [
    "## Get transcripts and save the appended df to csv\n",
    "df_videos = fetch_videos.add_transcripts_to_df(df_videos)\n",
    "# save df_videos to csv\n",
    "df_videos.to_csv(file_name_csv, index=False)"
   ]
  },
  {
   "cell_type": "markdown",
   "metadata": {},
   "source": [
    "### Work on Video Transcripts"
   ]
  },
  {
   "cell_type": "code",
   "execution_count": null,
   "metadata": {},
   "outputs": [],
   "source": [
    "channel_id = channel_LeadLag\n",
    "file_name_csv = f'{channel_LeadLag_name}.csv'"
   ]
  },
  {
   "cell_type": "code",
   "execution_count": null,
   "metadata": {},
   "outputs": [],
   "source": [
    "# read csv\n",
    "df_videos = pd.read_csv(file_name_csv)"
   ]
  },
  {
   "cell_type": "code",
   "execution_count": null,
   "metadata": {},
   "outputs": [],
   "source": [
    "fetch_videos.display_df(df_videos.head(5),include_transcript=True)\n"
   ]
  },
  {
   "cell_type": "code",
   "execution_count": null,
   "metadata": {},
   "outputs": [],
   "source": []
  },
  {
   "cell_type": "markdown",
   "metadata": {},
   "source": [
    "## Channel Study"
   ]
  },
  {
   "cell_type": "code",
   "execution_count": 25,
   "metadata": {},
   "outputs": [
    {
     "name": "stdout",
     "output_type": "stream",
     "text": [
      "2024-09-25 15:59:03,647 - INFO - Setting channel to CNBC_TV\n",
      "2024-09-25 15:59:03,654 - INFO - Channel set to CNBC_TV (ID: UCrp_UI8XtuYfpiqluWLD7Lw)\n",
      "2024-09-25 15:59:03,659 - INFO - Summaries will be saved in: /Users/sliu/src/mysrc/investing/razorback_investing/news/youtube_summary_data/CNBC_TV\n",
      "2024-09-25 15:59:03,664 - INFO - Setting channel to DeepWater\n",
      "2024-09-25 15:59:03,675 - INFO - Channel set to DeepWater (ID: UCQCNLsdpDV1XSHH4V8WQuPA)\n",
      "2024-09-25 15:59:03,682 - INFO - Summaries will be saved in: /Users/sliu/src/mysrc/investing/razorback_investing/news/youtube_summary_data/DeepWater\n",
      "2024-09-25 15:59:03,687 - INFO - Fetching videos for channel ID: UCQCNLsdpDV1XSHH4V8WQuPA\n",
      "Appended 5 new videos to /Users/sliu/src/mysrc/investing/razorback_investing/news/youtube_summary_data/DeepWater/youtube_summary_DeepWater_2024-09-25.csv.\n",
      "2024-09-25 15:59:06,235 - INFO - Saved 116 videos to /Users/sliu/src/mysrc/investing/razorback_investing/news/youtube_summary_data/DeepWater/youtube_summary_DeepWater_2024-09-25.csv\n",
      "2024-09-25 15:59:06,237 - INFO - Working with 116 videos.\n"
     ]
    },
    {
     "ename": "KeyError",
     "evalue": "'Summary'",
     "output_type": "error",
     "traceback": [
      "\u001b[0;31m---------------------------------------------------------------------------\u001b[0m",
      "\u001b[0;31mKeyError\u001b[0m                                  Traceback (most recent call last)",
      "File \u001b[0;32m~/miniconda3/envs/ml4t/lib/python3.12/site-packages/pandas/core/indexes/base.py:3805\u001b[0m, in \u001b[0;36mIndex.get_loc\u001b[0;34m(self, key)\u001b[0m\n\u001b[1;32m   3804\u001b[0m \u001b[38;5;28;01mtry\u001b[39;00m:\n\u001b[0;32m-> 3805\u001b[0m     \u001b[38;5;28;01mreturn\u001b[39;00m \u001b[38;5;28;43mself\u001b[39;49m\u001b[38;5;241;43m.\u001b[39;49m\u001b[43m_engine\u001b[49m\u001b[38;5;241;43m.\u001b[39;49m\u001b[43mget_loc\u001b[49m\u001b[43m(\u001b[49m\u001b[43mcasted_key\u001b[49m\u001b[43m)\u001b[49m\n\u001b[1;32m   3806\u001b[0m \u001b[38;5;28;01mexcept\u001b[39;00m \u001b[38;5;167;01mKeyError\u001b[39;00m \u001b[38;5;28;01mas\u001b[39;00m err:\n",
      "File \u001b[0;32mindex.pyx:167\u001b[0m, in \u001b[0;36mpandas._libs.index.IndexEngine.get_loc\u001b[0;34m()\u001b[0m\n",
      "File \u001b[0;32mindex.pyx:196\u001b[0m, in \u001b[0;36mpandas._libs.index.IndexEngine.get_loc\u001b[0;34m()\u001b[0m\n",
      "File \u001b[0;32mpandas/_libs/hashtable_class_helper.pxi:7081\u001b[0m, in \u001b[0;36mpandas._libs.hashtable.PyObjectHashTable.get_item\u001b[0;34m()\u001b[0m\n",
      "File \u001b[0;32mpandas/_libs/hashtable_class_helper.pxi:7089\u001b[0m, in \u001b[0;36mpandas._libs.hashtable.PyObjectHashTable.get_item\u001b[0;34m()\u001b[0m\n",
      "\u001b[0;31mKeyError\u001b[0m: 'Summary'",
      "\nThe above exception was the direct cause of the following exception:\n",
      "\u001b[0;31mKeyError\u001b[0m                                  Traceback (most recent call last)",
      "Cell \u001b[0;32mIn[25], line 20\u001b[0m\n\u001b[1;32m     17\u001b[0m \u001b[38;5;66;03m# Fetch videos\u001b[39;00m\n\u001b[1;32m     19\u001b[0m df_videos \u001b[38;5;241m=\u001b[39m yt_summary\u001b[38;5;241m.\u001b[39m_fetch_videos()\n\u001b[0;32m---> 20\u001b[0m \u001b[43myt_summary\u001b[49m\u001b[38;5;241;43m.\u001b[39;49m\u001b[43m_save_results\u001b[49m\u001b[43m(\u001b[49m\u001b[43m)\u001b[49m\n",
      "File \u001b[0;32m~/src/mysrc/investing/razorback_investing/news/YouTubeSummary.py:192\u001b[0m, in \u001b[0;36m_save_results\u001b[0;34m(self)\u001b[0m\n\u001b[1;32m    190\u001b[0m file_name \u001b[38;5;241m=\u001b[39m \u001b[38;5;124mf\u001b[39m\u001b[38;5;124m'\u001b[39m\u001b[38;5;132;01m{\u001b[39;00m\u001b[38;5;28mself\u001b[39m\u001b[38;5;241m.\u001b[39m_file_prefix\u001b[38;5;132;01m}\u001b[39;00m\u001b[38;5;124m.\u001b[39m\u001b[38;5;132;01m{\u001b[39;00mfile_type\u001b[38;5;132;01m}\u001b[39;00m\u001b[38;5;124m'\u001b[39m\n\u001b[1;32m    191\u001b[0m \u001b[38;5;28;01mif\u001b[39;00m file_type \u001b[38;5;241m==\u001b[39m \u001b[38;5;124m'\u001b[39m\u001b[38;5;124mcsv\u001b[39m\u001b[38;5;124m'\u001b[39m:\n\u001b[0;32m--> 192\u001b[0m     \u001b[38;5;28mself\u001b[39m\u001b[38;5;241m.\u001b[39m_videos_df\u001b[38;5;241m.\u001b[39mto_csv(file_name, index\u001b[38;5;241m=\u001b[39m\u001b[38;5;28;01mFalse\u001b[39;00m)\n\u001b[1;32m    193\u001b[0m \u001b[38;5;28;01melif\u001b[39;00m file_type \u001b[38;5;241m==\u001b[39m \u001b[38;5;124m'\u001b[39m\u001b[38;5;124mhtml\u001b[39m\u001b[38;5;124m'\u001b[39m:\n\u001b[1;32m    194\u001b[0m     \u001b[38;5;28mself\u001b[39m\u001b[38;5;241m.\u001b[39m_html_content \u001b[38;5;241m=\u001b[39m fetch_videos\u001b[38;5;241m.\u001b[39mget_html_content_summary_only(\u001b[38;5;28mself\u001b[39m\u001b[38;5;241m.\u001b[39m_videos_df)\n",
      "File \u001b[0;32m~/src/mysrc/investing/razorback_investing/news/fetch_videos.py:332\u001b[0m, in \u001b[0;36mget_html_content_summary_only\u001b[0;34m(df)\u001b[0m\n\u001b[1;32m    322\u001b[0m \u001b[38;5;28;01mdef\u001b[39;00m \u001b[38;5;21mget_html_content_summary_only\u001b[39m(df):\n\u001b[1;32m    323\u001b[0m \u001b[38;5;250m    \u001b[39m\u001b[38;5;124;03m\"\"\"\u001b[39;00m\n\u001b[1;32m    324\u001b[0m \u001b[38;5;124;03m    Generates and returns the HTML content of the DataFrame with clickable titles and the video summary.\u001b[39;00m\n\u001b[1;32m    325\u001b[0m \n\u001b[0;32m   (...)\u001b[0m\n\u001b[1;32m    330\u001b[0m \u001b[38;5;124;03m    - str: HTML representation of the DataFrame.\u001b[39;00m\n\u001b[1;32m    331\u001b[0m \u001b[38;5;124;03m    \"\"\"\u001b[39;00m\n\u001b[0;32m--> 332\u001b[0m     df[\u001b[38;5;124m'\u001b[39m\u001b[38;5;124mSummary\u001b[39m\u001b[38;5;124m'\u001b[39m] \u001b[38;5;241m=\u001b[39m \u001b[43mdf\u001b[49m\u001b[43m[\u001b[49m\u001b[38;5;124;43m'\u001b[39;49m\u001b[38;5;124;43mSummary\u001b[39;49m\u001b[38;5;124;43m'\u001b[39;49m\u001b[43m]\u001b[49m\u001b[38;5;241m.\u001b[39mfillna(\u001b[38;5;124m'\u001b[39m\u001b[38;5;124m'\u001b[39m)  \u001b[38;5;66;03m# Fill NaN values with an empty string\u001b[39;00m\n\u001b[1;32m    333\u001b[0m     html_content \u001b[38;5;241m=\u001b[39m \u001b[38;5;124m\"\u001b[39m\u001b[38;5;124m\"\u001b[39m\n\u001b[1;32m    334\u001b[0m     \u001b[38;5;28;01mfor\u001b[39;00m _, row \u001b[38;5;129;01min\u001b[39;00m df\u001b[38;5;241m.\u001b[39miterrows():\n",
      "File \u001b[0;32m~/miniconda3/envs/ml4t/lib/python3.12/site-packages/pandas/core/frame.py:4102\u001b[0m, in \u001b[0;36mDataFrame.__getitem__\u001b[0;34m(self, key)\u001b[0m\n\u001b[1;32m   4100\u001b[0m \u001b[38;5;28;01mif\u001b[39;00m \u001b[38;5;28mself\u001b[39m\u001b[38;5;241m.\u001b[39mcolumns\u001b[38;5;241m.\u001b[39mnlevels \u001b[38;5;241m>\u001b[39m \u001b[38;5;241m1\u001b[39m:\n\u001b[1;32m   4101\u001b[0m     \u001b[38;5;28;01mreturn\u001b[39;00m \u001b[38;5;28mself\u001b[39m\u001b[38;5;241m.\u001b[39m_getitem_multilevel(key)\n\u001b[0;32m-> 4102\u001b[0m indexer \u001b[38;5;241m=\u001b[39m \u001b[38;5;28;43mself\u001b[39;49m\u001b[38;5;241;43m.\u001b[39;49m\u001b[43mcolumns\u001b[49m\u001b[38;5;241;43m.\u001b[39;49m\u001b[43mget_loc\u001b[49m\u001b[43m(\u001b[49m\u001b[43mkey\u001b[49m\u001b[43m)\u001b[49m\n\u001b[1;32m   4103\u001b[0m \u001b[38;5;28;01mif\u001b[39;00m is_integer(indexer):\n\u001b[1;32m   4104\u001b[0m     indexer \u001b[38;5;241m=\u001b[39m [indexer]\n",
      "File \u001b[0;32m~/miniconda3/envs/ml4t/lib/python3.12/site-packages/pandas/core/indexes/base.py:3812\u001b[0m, in \u001b[0;36mIndex.get_loc\u001b[0;34m(self, key)\u001b[0m\n\u001b[1;32m   3807\u001b[0m     \u001b[38;5;28;01mif\u001b[39;00m \u001b[38;5;28misinstance\u001b[39m(casted_key, \u001b[38;5;28mslice\u001b[39m) \u001b[38;5;129;01mor\u001b[39;00m (\n\u001b[1;32m   3808\u001b[0m         \u001b[38;5;28misinstance\u001b[39m(casted_key, abc\u001b[38;5;241m.\u001b[39mIterable)\n\u001b[1;32m   3809\u001b[0m         \u001b[38;5;129;01mand\u001b[39;00m \u001b[38;5;28many\u001b[39m(\u001b[38;5;28misinstance\u001b[39m(x, \u001b[38;5;28mslice\u001b[39m) \u001b[38;5;28;01mfor\u001b[39;00m x \u001b[38;5;129;01min\u001b[39;00m casted_key)\n\u001b[1;32m   3810\u001b[0m     ):\n\u001b[1;32m   3811\u001b[0m         \u001b[38;5;28;01mraise\u001b[39;00m InvalidIndexError(key)\n\u001b[0;32m-> 3812\u001b[0m     \u001b[38;5;28;01mraise\u001b[39;00m \u001b[38;5;167;01mKeyError\u001b[39;00m(key) \u001b[38;5;28;01mfrom\u001b[39;00m \u001b[38;5;21;01merr\u001b[39;00m\n\u001b[1;32m   3813\u001b[0m \u001b[38;5;28;01mexcept\u001b[39;00m \u001b[38;5;167;01mTypeError\u001b[39;00m:\n\u001b[1;32m   3814\u001b[0m     \u001b[38;5;66;03m# If we have a listlike key, _check_indexing_error will raise\u001b[39;00m\n\u001b[1;32m   3815\u001b[0m     \u001b[38;5;66;03m#  InvalidIndexError. Otherwise we fall through and re-raise\u001b[39;00m\n\u001b[1;32m   3816\u001b[0m     \u001b[38;5;66;03m#  the TypeError.\u001b[39;00m\n\u001b[1;32m   3817\u001b[0m     \u001b[38;5;28mself\u001b[39m\u001b[38;5;241m.\u001b[39m_check_indexing_error(key)\n",
      "\u001b[0;31mKeyError\u001b[0m: 'Summary'"
     ]
    }
   ],
   "source": [
    "from YouTubeSummary import YouTubeSummary, CONFIG\n",
    "import pandas as pd\n",
    "from datetime import datetime, timedelta\n",
    "\n",
    "yt_summary = YouTubeSummary(CONFIG)\n",
    "\n",
    "# Update the config with custom date range\n",
    "yt_summary.config['fetch']['period_type'] = 'months'\n",
    "yt_summary.config['fetch']['number'] = 12\n",
    "\n",
    "yt_summary._channel_name = \"DeepWater\"\n",
    "yt_summary._channel_id = fetch_videos.channels[channel_name]\n",
    "yt_summary._set_channel()\n",
    "\n",
    "# Fetch videos\n",
    "df_videos = yt_summary._fetch_videos()\n",
    "yt_summary._save_results()\n"
   ]
  },
  {
   "cell_type": "code",
   "execution_count": null,
   "metadata": {},
   "outputs": [],
   "source": []
  }
 ],
 "metadata": {
  "kernelspec": {
   "display_name": "ml4t",
   "language": "python",
   "name": "python3"
  },
  "language_info": {
   "codemirror_mode": {
    "name": "ipython",
    "version": 3
   },
   "file_extension": ".py",
   "mimetype": "text/x-python",
   "name": "python",
   "nbconvert_exporter": "python",
   "pygments_lexer": "ipython3",
   "version": "3.12.4"
  }
 },
 "nbformat": 4,
 "nbformat_minor": 2
}
