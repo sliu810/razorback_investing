{
 "cells": [
  {
   "cell_type": "markdown",
   "metadata": {},
   "source": [
    "# Study Newsletters"
   ]
  },
  {
   "cell_type": "code",
   "execution_count": 3,
   "metadata": {},
   "outputs": [
    {
     "name": "stdout",
     "output_type": "stream",
     "text": [
      "Requirement already satisfied: requests in /Users/sliu/miniconda3/envs/ml4t/lib/python3.12/site-packages (2.32.3)\n",
      "Requirement already satisfied: beautifulsoup4 in /Users/sliu/miniconda3/envs/ml4t/lib/python3.12/site-packages (4.12.3)\n",
      "Requirement already satisfied: pandas in /Users/sliu/miniconda3/envs/ml4t/lib/python3.12/site-packages (2.2.2)\n",
      "Requirement already satisfied: selenium in /Users/sliu/miniconda3/envs/ml4t/lib/python3.12/site-packages (4.22.0)\n",
      "Requirement already satisfied: charset-normalizer<4,>=2 in /Users/sliu/miniconda3/envs/ml4t/lib/python3.12/site-packages (from requests) (3.3.2)\n",
      "Requirement already satisfied: idna<4,>=2.5 in /Users/sliu/miniconda3/envs/ml4t/lib/python3.12/site-packages (from requests) (3.7)\n",
      "Requirement already satisfied: urllib3<3,>=1.21.1 in /Users/sliu/miniconda3/envs/ml4t/lib/python3.12/site-packages (from requests) (2.2.2)\n",
      "Requirement already satisfied: certifi>=2017.4.17 in /Users/sliu/miniconda3/envs/ml4t/lib/python3.12/site-packages (from requests) (2024.6.2)\n",
      "Requirement already satisfied: soupsieve>1.2 in /Users/sliu/miniconda3/envs/ml4t/lib/python3.12/site-packages (from beautifulsoup4) (2.5)\n",
      "Requirement already satisfied: numpy>=1.26.0 in /Users/sliu/miniconda3/envs/ml4t/lib/python3.12/site-packages (from pandas) (2.0.0)\n",
      "Requirement already satisfied: python-dateutil>=2.8.2 in /Users/sliu/miniconda3/envs/ml4t/lib/python3.12/site-packages (from pandas) (2.9.0)\n",
      "Requirement already satisfied: pytz>=2020.1 in /Users/sliu/miniconda3/envs/ml4t/lib/python3.12/site-packages (from pandas) (2024.1)\n",
      "Requirement already satisfied: tzdata>=2022.7 in /Users/sliu/miniconda3/envs/ml4t/lib/python3.12/site-packages (from pandas) (2024.1)\n",
      "Requirement already satisfied: trio~=0.17 in /Users/sliu/miniconda3/envs/ml4t/lib/python3.12/site-packages (from selenium) (0.25.1)\n",
      "Requirement already satisfied: trio-websocket~=0.9 in /Users/sliu/miniconda3/envs/ml4t/lib/python3.12/site-packages (from selenium) (0.11.1)\n",
      "Requirement already satisfied: typing_extensions>=4.9.0 in /Users/sliu/miniconda3/envs/ml4t/lib/python3.12/site-packages (from selenium) (4.12.2)\n",
      "Requirement already satisfied: websocket-client>=1.8.0 in /Users/sliu/miniconda3/envs/ml4t/lib/python3.12/site-packages (from selenium) (1.8.0)\n",
      "Requirement already satisfied: six>=1.5 in /Users/sliu/miniconda3/envs/ml4t/lib/python3.12/site-packages (from python-dateutil>=2.8.2->pandas) (1.16.0)\n",
      "Requirement already satisfied: attrs>=23.2.0 in /Users/sliu/miniconda3/envs/ml4t/lib/python3.12/site-packages (from trio~=0.17->selenium) (23.2.0)\n",
      "Requirement already satisfied: sortedcontainers in /Users/sliu/miniconda3/envs/ml4t/lib/python3.12/site-packages (from trio~=0.17->selenium) (2.4.0)\n",
      "Requirement already satisfied: outcome in /Users/sliu/miniconda3/envs/ml4t/lib/python3.12/site-packages (from trio~=0.17->selenium) (1.3.0.post0)\n",
      "Requirement already satisfied: sniffio>=1.3.0 in /Users/sliu/miniconda3/envs/ml4t/lib/python3.12/site-packages (from trio~=0.17->selenium) (1.3.1)\n",
      "Requirement already satisfied: wsproto>=0.14 in /Users/sliu/miniconda3/envs/ml4t/lib/python3.12/site-packages (from trio-websocket~=0.9->selenium) (1.2.0)\n",
      "Requirement already satisfied: pysocks!=1.5.7,<2.0,>=1.5.6 in /Users/sliu/miniconda3/envs/ml4t/lib/python3.12/site-packages (from urllib3[socks]<3,>=1.26->selenium) (1.7.1)\n",
      "Requirement already satisfied: h11<1,>=0.9.0 in /Users/sliu/miniconda3/envs/ml4t/lib/python3.12/site-packages (from wsproto>=0.14->trio-websocket~=0.9->selenium) (0.14.0)\n"
     ]
    }
   ],
   "source": [
    "# Install required packages\n",
    "!pip install requests beautifulsoup4 pandas selenium"
   ]
  },
  {
   "cell_type": "code",
   "execution_count": 4,
   "metadata": {},
   "outputs": [],
   "source": [
    "# Import necessary libraries\n",
    "import requests\n",
    "from bs4 import BeautifulSoup\n",
    "import pandas as pd\n",
    "import os\n",
    "import datetime\n",
    "import logging\n",
    "from selenium import webdriver\n",
    "from selenium.webdriver.common.by import By\n",
    "from selenium.webdriver.common.keys import Keys\n",
    "from selenium.webdriver.chrome.service import Service\n",
    "from webdriver_manager.chrome import ChromeDriverManager"
   ]
  },
  {
   "cell_type": "code",
   "execution_count": 6,
   "metadata": {},
   "outputs": [
    {
     "name": "stdout",
     "output_type": "stream",
     "text": [
      "Login failed!\n"
     ]
    }
   ],
   "source": [
    "def login_to_website(url, username, password):\n",
    "    session = requests.Session()\n",
    "    login_page = session.get(url)\n",
    "    soup = BeautifulSoup(login_page.text, 'html.parser')\n",
    "    \n",
    "    # Extract hidden form fields if necessary\n",
    "    hidden_inputs = soup.find_all(\"input\", type=\"hidden\")\n",
    "    form_data = {input.get('name'): input.get('value') for input in hidden_inputs}\n",
    "    \n",
    "    # Add username and password to form data\n",
    "    form_data['username'] = username\n",
    "    form_data['password'] = password\n",
    "    \n",
    "    # Submit login form\n",
    "    response = session.post(url, data=form_data)\n",
    "    \n",
    "    if response.ok:\n",
    "        print(\"Login successful!\")\n",
    "        return session\n",
    "    else:\n",
    "        print(\"Login failed!\")\n",
    "        return None\n",
    "\n",
    "# Usage\n",
    "login_url = 'https://www.lynalden.com/login/'\n",
    "username = 'sliu810@icloud.com'\n",
    "password = 'Butters0210'\n",
    "session = login_to_website(login_url, username, password)"
   ]
  },
  {
   "cell_type": "code",
   "execution_count": null,
   "metadata": {},
   "outputs": [],
   "source": []
  }
 ],
 "metadata": {
  "kernelspec": {
   "display_name": "ml4t",
   "language": "python",
   "name": "python3"
  },
  "language_info": {
   "codemirror_mode": {
    "name": "ipython",
    "version": 3
   },
   "file_extension": ".py",
   "mimetype": "text/x-python",
   "name": "python",
   "nbconvert_exporter": "python",
   "pygments_lexer": "ipython3",
   "version": "3.12.4"
  }
 },
 "nbformat": 4,
 "nbformat_minor": 2
}
