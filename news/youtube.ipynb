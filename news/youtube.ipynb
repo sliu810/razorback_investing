{
 "cells": [
  {
   "cell_type": "markdown",
   "metadata": {},
   "source": [
    "# Daily News"
   ]
  },
  {
   "cell_type": "code",
   "execution_count": null,
   "metadata": {},
   "outputs": [],
   "source": [
    "# !pip install google-api-python-client google-auth google-auth-oauthlib google-auth-httplib2 \n",
    "# !pip install --upgrade google-auth-oauthlib\n",
    "# !pip install openai"
   ]
  },
  {
   "cell_type": "markdown",
   "metadata": {},
   "source": [
    "## Daily CNBC News"
   ]
  },
  {
   "cell_type": "code",
   "execution_count": 1,
   "metadata": {},
   "outputs": [
    {
     "name": "stdout",
     "output_type": "stream",
     "text": [
      "Module loaded. Use YouTubeSummary(CONFIG).run(channel_name) to run the script or call individual functions.\n",
      "2024-09-30 11:51:16,244 - INFO - Setting channel to CNBC_TV\n",
      "2024-09-30 11:51:16,276 - INFO - Channel set to CNBC_TV (ID: UCrp_UI8XtuYfpiqluWLD7Lw)\n",
      "2024-09-30 11:51:16,277 - INFO - Summaries will be saved in: /Users/sliu/src/mysrc/investing/razorback_investing/news/youtube_summary_data/CNBC_TV\n",
      "2024-09-30 11:51:16,277 - INFO - Starting stage: _set_channel\n",
      "2024-09-30 11:51:16,277 - INFO - Setting channel to CNBC_TV\n",
      "2024-09-30 11:51:16,278 - INFO - Channel set to CNBC_TV (ID: UCrp_UI8XtuYfpiqluWLD7Lw)\n",
      "2024-09-30 11:51:16,279 - INFO - Summaries will be saved in: /Users/sliu/src/mysrc/investing/razorback_investing/news/youtube_summary_data/CNBC_TV\n",
      "2024-09-30 11:51:16,279 - INFO - Completed stage: _set_channel\n",
      "2024-09-30 11:51:16,279 - INFO - Starting stage: _load_existing_data\n",
      "2024-09-30 11:51:16,280 - INFO - No existing data found. Will start with an empty DataFrame.\n",
      "2024-09-30 11:51:16,283 - INFO - Completed stage: _load_existing_data\n",
      "2024-09-30 11:51:16,283 - INFO - Starting stage: _fetch_videos\n",
      "2024-09-30 11:51:16,284 - INFO - Fetching videos for channel ID: UCrp_UI8XtuYfpiqluWLD7Lw\n",
      "2024-09-30 11:51:16,285 - INFO - Date range: 2024-09-30 00:00:00-05:00 to 2024-09-30 23:59:59.999999-05:00\n",
      "2024-09-30 11:51:16,286 - INFO - No existing data found. Starting fresh.\n",
      "2024-09-30 11:51:16,286 - INFO - Fetching videos with args: start_date=2024-09-30 00:00:00-05:00, end_date=2024-09-30 23:59:59.999999-05:00, channel_id=UCrp_UI8XtuYfpiqluWLD7Lw\n",
      "2024-09-30 11:51:16,286 - INFO - Existing DataFrame shape: (0, 0)\n",
      "2024-09-30 11:51:17,027 - INFO - Fetched videos DataFrame shape: (34, 5)\n",
      "2024-09-30 11:51:17,034 - INFO - Added 34 new videos. Total videos: 34\n",
      "2024-09-30 11:51:17,034 - INFO - Working with 34 videos.\n",
      "2024-09-30 11:51:17,035 - INFO - Completed stage: _fetch_videos\n",
      "2024-09-30 11:51:17,035 - INFO - Starting stage: _add_transcripts\n",
      "2024-09-30 11:51:17,035 - INFO - Adding transcripts to videos\n"
     ]
    },
    {
     "name": "stderr",
     "output_type": "stream",
     "text": [
      "/Users/sliu/src/mysrc/investing/razorback_investing/news/fetch_videos.py:173: FutureWarning: The behavior of DataFrame concatenation with empty or all-NA entries is deprecated. In a future version, this will no longer exclude empty or all-NA columns when determining the result dtypes. To retain the old behavior, exclude the relevant entries before the concat operation.\n",
      "  combined_df = pd.concat([existing_df, new_videos_df], ignore_index=True).sort_values(by=['Published At'], ascending=False)\n"
     ]
    },
    {
     "name": "stdout",
     "output_type": "stream",
     "text": [
      "An error occurred for video ID ZjXdpgGyhBY: \n",
      "Could not retrieve a transcript for the video https://www.youtube.com/watch?v=ZjXdpgGyhBY! This is most likely caused by:\n",
      "\n",
      "Subtitles are disabled for this video\n",
      "\n",
      "If you are sure that the described cause is not responsible for this error and that a transcript should be retrievable, please create an issue at https://github.com/jdepoix/youtube-transcript-api/issues. Please add which version of youtube_transcript_api you are using and provide the information needed to replicate the error. Also make sure that there are no open issues which already describe your problem!\n",
      "2024-09-30 11:51:48,246 - INFO - Saved videos with transcripts to /Users/sliu/src/mysrc/investing/razorback_investing/news/youtube_summary_data/CNBC_TV/youtube_summary_CNBC_TV_2024-09-30.csv\n",
      "2024-09-30 11:51:48,247 - INFO - Completed stage: _add_transcripts\n",
      "2024-09-30 11:51:48,248 - INFO - Starting stage: _generate_summaries\n",
      "2024-09-30 11:51:48,248 - INFO - Generating summaries for videos\n",
      "2024-09-30 11:51:51,731 - INFO - HTTP Request: POST https://api.openai.com/v1/chat/completions \"HTTP/1.1 200 OK\"\n",
      "2024-09-30 11:51:53,797 - INFO - HTTP Request: POST https://api.openai.com/v1/chat/completions \"HTTP/1.1 200 OK\"\n",
      "2024-09-30 11:51:55,016 - INFO - HTTP Request: POST https://api.openai.com/v1/chat/completions \"HTTP/1.1 200 OK\"\n",
      "2024-09-30 11:51:58,194 - INFO - HTTP Request: POST https://api.openai.com/v1/chat/completions \"HTTP/1.1 200 OK\"\n",
      "2024-09-30 11:52:00,542 - INFO - HTTP Request: POST https://api.openai.com/v1/chat/completions \"HTTP/1.1 200 OK\"\n",
      "2024-09-30 11:52:02,616 - INFO - HTTP Request: POST https://api.openai.com/v1/chat/completions \"HTTP/1.1 200 OK\"\n",
      "2024-09-30 11:52:05,535 - INFO - HTTP Request: POST https://api.openai.com/v1/chat/completions \"HTTP/1.1 200 OK\"\n",
      "2024-09-30 11:52:07,642 - INFO - HTTP Request: POST https://api.openai.com/v1/chat/completions \"HTTP/1.1 200 OK\"\n",
      "2024-09-30 11:52:10,356 - INFO - HTTP Request: POST https://api.openai.com/v1/chat/completions \"HTTP/1.1 200 OK\"\n",
      "2024-09-30 11:52:12,804 - INFO - HTTP Request: POST https://api.openai.com/v1/chat/completions \"HTTP/1.1 200 OK\"\n",
      "2024-09-30 11:52:15,739 - INFO - HTTP Request: POST https://api.openai.com/v1/chat/completions \"HTTP/1.1 200 OK\"\n",
      "2024-09-30 11:52:17,382 - INFO - HTTP Request: POST https://api.openai.com/v1/chat/completions \"HTTP/1.1 200 OK\"\n",
      "2024-09-30 11:52:18,941 - INFO - HTTP Request: POST https://api.openai.com/v1/chat/completions \"HTTP/1.1 200 OK\"\n",
      "2024-09-30 11:52:21,916 - INFO - HTTP Request: POST https://api.openai.com/v1/chat/completions \"HTTP/1.1 200 OK\"\n",
      "2024-09-30 11:52:23,644 - INFO - HTTP Request: POST https://api.openai.com/v1/chat/completions \"HTTP/1.1 200 OK\"\n",
      "2024-09-30 11:52:25,299 - INFO - HTTP Request: POST https://api.openai.com/v1/chat/completions \"HTTP/1.1 200 OK\"\n",
      "2024-09-30 11:52:28,251 - INFO - HTTP Request: POST https://api.openai.com/v1/chat/completions \"HTTP/1.1 200 OK\"\n",
      "2024-09-30 11:52:30,736 - INFO - HTTP Request: POST https://api.openai.com/v1/chat/completions \"HTTP/1.1 200 OK\"\n",
      "2024-09-30 11:52:33,239 - INFO - HTTP Request: POST https://api.openai.com/v1/chat/completions \"HTTP/1.1 200 OK\"\n",
      "2024-09-30 11:52:35,134 - INFO - HTTP Request: POST https://api.openai.com/v1/chat/completions \"HTTP/1.1 200 OK\"\n",
      "2024-09-30 11:52:37,177 - INFO - HTTP Request: POST https://api.openai.com/v1/chat/completions \"HTTP/1.1 200 OK\"\n",
      "2024-09-30 11:52:39,281 - INFO - HTTP Request: POST https://api.openai.com/v1/chat/completions \"HTTP/1.1 200 OK\"\n",
      "2024-09-30 11:52:41,104 - INFO - HTTP Request: POST https://api.openai.com/v1/chat/completions \"HTTP/1.1 200 OK\"\n",
      "2024-09-30 11:52:42,932 - INFO - HTTP Request: POST https://api.openai.com/v1/chat/completions \"HTTP/1.1 200 OK\"\n",
      "2024-09-30 11:52:44,651 - INFO - HTTP Request: POST https://api.openai.com/v1/chat/completions \"HTTP/1.1 200 OK\"\n",
      "2024-09-30 11:52:47,933 - INFO - HTTP Request: POST https://api.openai.com/v1/chat/completions \"HTTP/1.1 200 OK\"\n",
      "2024-09-30 11:52:49,658 - INFO - HTTP Request: POST https://api.openai.com/v1/chat/completions \"HTTP/1.1 200 OK\"\n",
      "2024-09-30 11:52:51,189 - INFO - HTTP Request: POST https://api.openai.com/v1/chat/completions \"HTTP/1.1 200 OK\"\n",
      "2024-09-30 11:52:53,788 - INFO - HTTP Request: POST https://api.openai.com/v1/chat/completions \"HTTP/1.1 200 OK\"\n",
      "2024-09-30 11:52:56,698 - INFO - HTTP Request: POST https://api.openai.com/v1/chat/completions \"HTTP/1.1 200 OK\"\n",
      "2024-09-30 11:52:58,110 - INFO - HTTP Request: POST https://api.openai.com/v1/chat/completions \"HTTP/1.1 200 OK\"\n",
      "2024-09-30 11:52:59,575 - INFO - HTTP Request: POST https://api.openai.com/v1/chat/completions \"HTTP/1.1 200 OK\"\n",
      "2024-09-30 11:53:01,212 - INFO - HTTP Request: POST https://api.openai.com/v1/chat/completions \"HTTP/1.1 200 OK\"\n",
      "2024-09-30 11:53:01,224 - INFO - Saved summaries to /Users/sliu/src/mysrc/investing/razorback_investing/news/youtube_summary_data/CNBC_TV/youtube_summary_CNBC_TV_2024-09-30.csv\n",
      "2024-09-30 11:53:01,226 - INFO - Completed stage: _generate_summaries\n",
      "2024-09-30 11:53:01,226 - INFO - Starting stage: _save_results\n",
      "2024-09-30 11:53:01,228 - INFO - Starting _save_results method\n",
      "2024-09-30 11:53:01,229 - INFO - DataFrame columns: ['Video ID', 'Title', 'Published At', 'Duration (Min)', 'URL', 'Transcript', 'Summary']\n",
      "2024-09-30 11:53:01,230 - INFO - Number of rows in DataFrame: 34\n",
      "2024-09-30 11:53:01,233 - INFO - Attempting to save csv file: /Users/sliu/src/mysrc/investing/razorback_investing/news/youtube_summary_data/CNBC_TV/youtube_summary_CNBC_TV_2024-09-30.csv\n",
      "2024-09-30 11:53:01,242 - INFO - Saved CSV to /Users/sliu/src/mysrc/investing/razorback_investing/news/youtube_summary_data/CNBC_TV/youtube_summary_CNBC_TV_2024-09-30.csv\n",
      "2024-09-30 11:53:01,243 - INFO - Attempting to save html file: /Users/sliu/src/mysrc/investing/razorback_investing/news/youtube_summary_data/CNBC_TV/youtube_summary_CNBC_TV_2024-09-30.html\n",
      "2024-09-30 11:53:01,252 - INFO - Saved HTML to /Users/sliu/src/mysrc/investing/razorback_investing/news/youtube_summary_data/CNBC_TV/youtube_summary_CNBC_TV_2024-09-30.html\n",
      "2024-09-30 11:53:01,252 - INFO - Attempting to save txt file: /Users/sliu/src/mysrc/investing/razorback_investing/news/youtube_summary_data/CNBC_TV/youtube_summary_CNBC_TV_2024-09-30.txt\n",
      "2024-09-30 11:53:01,258 - INFO - Saved TXT to /Users/sliu/src/mysrc/investing/razorback_investing/news/youtube_summary_data/CNBC_TV/youtube_summary_CNBC_TV_2024-09-30.txt\n",
      "2024-09-30 11:53:01,258 - INFO - Finished saving results in /Users/sliu/src/mysrc/investing/razorback_investing/news/youtube_summary_data/CNBC_TV\n",
      "2024-09-30 11:53:01,259 - INFO - Completed stage: _save_results\n",
      "2024-09-30 11:53:01,260 - INFO - Starting stage: _send_email\n",
      "2024-09-30 11:53:02,212 - ERROR - Failed to send email: (535, b'5.7.8 Username and Password not accepted. For more information, go to\\n5.7.8  https://support.google.com/mail/?p=BadCredentials 586e51a60fabf-2870f81d146sm2838257fac.34 - gsmtp')\n",
      "2024-09-30 11:53:02,213 - INFO - Completed stage: _send_email\n",
      "2024-09-30 11:53:02,217 - INFO - Pipeline execution completed\n",
      "2024-09-30 11:53:02,219 - INFO - Pipeline completed successfully\n"
     ]
    }
   ],
   "source": [
    "from YouTubeSummary import YouTubeSummary, CONFIG\n",
    "\n",
    "# Use the default configuration\n",
    "yt_summary = YouTubeSummary(CONFIG)\n",
    "yt_summary.run()"
   ]
  },
  {
   "cell_type": "markdown",
   "metadata": {},
   "source": [
    "## Youtube Channel Studies"
   ]
  },
  {
   "cell_type": "code",
   "execution_count": null,
   "metadata": {},
   "outputs": [],
   "source": [
    "# Set custom channel and get all videos from that chanenl"
   ]
  },
  {
   "cell_type": "markdown",
   "metadata": {},
   "source": [
    "# One-off study"
   ]
  },
  {
   "cell_type": "code",
   "execution_count": null,
   "metadata": {},
   "outputs": [],
   "source": [
    "import fetch_videos\n",
    "from YouTubeSummary import YouTubeSummary, CONFIG\n",
    "import pandas as pd\n",
    "\n",
    "# Specify the video IDs you want to study\n",
    "video_ids = [\n",
    "    \"7GYLjlfbIIQ\",\n",
    "    # Add more video IDs as needed\n",
    "    # \"ANOTHER_VIDEO_ID\",\n",
    "    # \"YET_ANOTHER_VIDEO_ID\",\n",
    "]\n",
    "\n",
    "# Specify a single task to apply to all videos\n",
    "task = \"\"\"Provide a one-sentence summary of the video. Tell me the best products recomended by the videos\"\"\"\n",
    "\n",
    "# Create a YouTubeSummary instance (for using its configuration)\n",
    "yt_summary = YouTubeSummary(CONFIG)\n",
    "\n",
    "# Function to process a single video with the task\n",
    "def process_video(video_id, task):\n",
    "    # Get transcript\n",
    "    transcript = fetch_videos.get_transcript(video_id)\n",
    "    \n",
    "    # Apply the task\n",
    "    result = fetch_videos.apply_task(transcript, yt_summary._client, task)\n",
    "    \n",
    "    return {\n",
    "        \"Video ID\": video_id,\n",
    "        \"Transcript\": transcript,\n",
    "        \"Task Result\": result\n",
    "    }\n",
    "\n",
    "# Process each video\n",
    "results = []\n",
    "for video_id in video_ids:\n",
    "    try:\n",
    "        result = process_video(video_id, task)\n",
    "        results.append(result)\n",
    "        print(f\"Processed video: {video_id}\")\n",
    "    except Exception as e:\n",
    "        print(f\"Error processing video {video_id}: {str(e)}\")\n",
    "\n",
    "# Create a DataFrame with the results\n",
    "result_df = pd.DataFrame(results)\n",
    "\n",
    "# Display results\n",
    "for _, row in result_df.iterrows():\n",
    "    print(f\"Video ID: {row['Video ID']}\")\n",
    "    print(f\"Transcript (first 500 characters): {row['Transcript'][:500]}...\")\n",
    "    print(f\"Task Result: {row['Task Result']}\")\n",
    "    print(\"\\n\" + \"=\"*50 + \"\\n\")\n",
    "\n",
    "# Optionally, save the results to a CSV file\n",
    "# result_df.to_csv(\"one_off_study_results.csv\", index=False)"
   ]
  },
  {
   "cell_type": "code",
   "execution_count": null,
   "metadata": {},
   "outputs": [],
   "source": []
  }
 ],
 "metadata": {
  "kernelspec": {
   "display_name": "ml4t",
   "language": "python",
   "name": "python3"
  },
  "language_info": {
   "codemirror_mode": {
    "name": "ipython",
    "version": 3
   },
   "file_extension": ".py",
   "mimetype": "text/x-python",
   "name": "python",
   "nbconvert_exporter": "python",
   "pygments_lexer": "ipython3",
   "version": "3.12.4"
  }
 },
 "nbformat": 4,
 "nbformat_minor": 2
}
