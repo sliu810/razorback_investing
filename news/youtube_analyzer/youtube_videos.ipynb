{
 "cells": [
  {
   "cell_type": "markdown",
   "metadata": {},
   "source": [
    "# Youtube Video Analyzer"
   ]
  },
  {
   "cell_type": "markdown",
   "metadata": {},
   "source": []
  },
  {
   "cell_type": "code",
   "execution_count": 5,
   "metadata": {},
   "outputs": [],
   "source": [
    "# # Reconstruct video object from the saved JSON file\n",
    "# file_path = \"video_data/Market_Predictions_Rates_Inflation_DOGE_CES_AI_Compute_BG2_w_Bill_Gurley_Brad_Gerstner_en.json\"\n",
    "# reconstructed_video = Video.from_json_file(file_path)\n",
    "# print(\"\\nReconstructed Video Information:\")\n",
    "# print(json.dumps(reconstructed_video.to_dict(), indent=2, ensure_ascii=False))"
   ]
  },
  {
   "cell_type": "markdown",
   "metadata": {},
   "source": [
    "## Summarize the video transcript with LLMs"
   ]
  },
  {
   "cell_type": "code",
   "execution_count": 15,
   "metadata": {},
   "outputs": [
    {
     "name": "stderr",
     "output_type": "stream",
     "text": [
      "Registered role: content_summarizer\n",
      "Registered role: financial_analyst\n",
      "Registered task: summarize_transcript\n",
      "Registered task: market_analysis\n"
     ]
    },
    {
     "name": "stdout",
     "output_type": "stream",
     "text": [
      "Created 2 analyses\n",
      "Video info saved to: video_data/LAs_Wildfire_Disaster_Zuck_Flips_on_Free_Speech_Why_Trump_Wants_Greenland_en.json\n"
     ]
    },
    {
     "name": "stderr",
     "output_type": "stream",
     "text": [
      "Registered role: content_summarizer\n",
      "Registered role: financial_analyst\n",
      "Registered task: summarize_transcript\n",
      "Registered task: market_analysis\n",
      "HTTP Request: POST https://api.anthropic.com/v1/messages \"HTTP/1.1 200 OK\"\n",
      "Text processed successfully\n",
      "Created analysis using anthropic/claude-3-sonnet-20240229\n",
      "Analysis saved to: video_data/LAs_Wildfire_Disaster_Zuck_Flips_on_Free_Speech_Why_Trump_Wants_Greenland_en_anthropic_analysis.html\n"
     ]
    },
    {
     "name": "stdout",
     "output_type": "stream",
     "text": [
      "Analysis saved to: video_data/LAs_Wildfire_Disaster_Zuck_Flips_on_Free_Speech_Why_Trump_Wants_Greenland_en_anthropic_analysis.html\n"
     ]
    },
    {
     "name": "stderr",
     "output_type": "stream",
     "text": [
      "HTTP Request: POST https://api.openai.com/v1/chat/completions \"HTTP/1.1 200 OK\"\n",
      "Text processed successfully\n",
      "Created analysis using openai/gpt-4-turbo-preview\n",
      "Analysis saved to: video_data/LAs_Wildfire_Disaster_Zuck_Flips_on_Free_Speech_Why_Trump_Wants_Greenland_en_openai_analysis.html\n"
     ]
    },
    {
     "name": "stdout",
     "output_type": "stream",
     "text": [
      "Analysis saved to: video_data/LAs_Wildfire_Disaster_Zuck_Flips_on_Free_Speech_Why_Trump_Wants_Greenland_en_openai_analysis.html\n",
      "\n",
      "Created 2 analyses:\n",
      "- Using anthropic/claude-3-sonnet-20240229\n",
      "- Using openai/gpt-4-turbo-preview\n"
     ]
    }
   ],
   "source": [
    "\n",
    "### Summarize the video transcript\n",
    "# Initialize necessary imports and processors\n",
    "import sys,os\n",
    "from pathlib import Path\n",
    "from video import Video\n",
    "from video_analyzer import VideoAnalyzer, AnalysisConfig\n",
    "from llm_processor import LLMConfig,LLMProcessor\n",
    "import logging\n",
    "# Configure minimal logging\n",
    "logging.basicConfig(level=logging.INFO, format='%(message)s')\n",
    "\n",
    "root_dir = \"video_data\"\n",
    "\n",
    "# Fetch video info and save to file\n",
    "video_id = \"is1QAZ7ShRU\"\n",
    "video = Video(video_id)\n",
    "if video.fetch_video_info():\n",
    "    print(f\"Created {len(analyses)} analyses\")\n",
    "    os.makedirs(root_dir, exist_ok=True)\n",
    "    file_path = video.serialize_video_to_file(root_dir)    \n",
    "    print(f\"Video info saved to: {file_path}\")\n",
    "\n",
    "\n",
    "# Analyze the video with LLMs\n",
    "claude = LLMProcessor(LLMConfig(\n",
    "    provider=\"anthropic\",\n",
    "    model_name=\"claude-3-sonnet-20240229\",\n",
    "    temperature=0.7,\n",
    "    max_tokens=4000\n",
    "))\n",
    "\n",
    "openai = LLMProcessor(LLMConfig(\n",
    "    provider=\"openai\",\n",
    "    model_name=\"gpt-4-turbo-preview\",\n",
    "    temperature=0.7,\n",
    "    max_tokens=4000\n",
    "))\n",
    "\n",
    "config = AnalysisConfig(\n",
    "    output_dir=root_dir,  # Directory for saving analyses\n",
    ")\n",
    "analyzer = VideoAnalyzer(config)\n",
    "analyzer.add_processor(claude)\n",
    "analyzer.add_processor(openai)\n",
    "analyses = analyzer.analyze_video(video)\n"
   ]
  },
  {
   "cell_type": "markdown",
   "metadata": {},
   "source": [
    "## Chat about the transcript"
   ]
  },
  {
   "cell_type": "code",
   "execution_count": 18,
   "metadata": {},
   "outputs": [
    {
     "name": "stderr",
     "output_type": "stream",
     "text": [
      "HTTP Request: POST https://api.anthropic.com/v1/messages \"HTTP/1.1 200 OK\"\n",
      "Text processed successfully\n"
     ]
    },
    {
     "name": "stdout",
     "output_type": "stream",
     "text": [
      "\n",
      "Response:\n",
      " According to the content, Cyan Banister is:\n",
      "\n",
      "- A prolific angel investor who runs a seed fund called Long Journey Ventures\n",
      "- Some of her notable investments include SpaceX, Density, Postmates, Niantic (makers of Pokemon Go), and Uber\n",
      "- She is described as a technologist and self-made individual who started angel investing around 14 years ago, around the same time as Jason Calacanis\n",
      "- She invested in some companies together with Jason Calacanis after meeting startup companies at events they hosted\n",
      "- She is portrayed as a wonderful human being that the other panelists speak highly of\n",
      "\n",
      "So in summary, she is presented as an accomplished and respected angel investor, especially in technology startups, who has been investing for around 14 years.\n"
     ]
    }
   ],
   "source": [
    "if video.transcript:\n",
    "    response = claude.chat(\n",
    "        question=\"who is Cyan Banister?\",\n",
    "        context=video.transcript\n",
    "    )\n",
    "    print(\"\\nResponse:\\n\", response)"
   ]
  },
  {
   "cell_type": "code",
   "execution_count": 4,
   "metadata": {},
   "outputs": [
    {
     "ename": "ModuleNotFoundError",
     "evalue": "No module named 'news'",
     "output_type": "error",
     "traceback": [
      "\u001b[0;31m---------------------------------------------------------------------------\u001b[0m",
      "\u001b[0;31mModuleNotFoundError\u001b[0m                       Traceback (most recent call last)",
      "Cell \u001b[0;32mIn[4], line 1\u001b[0m\n\u001b[0;32m----> 1\u001b[0m \u001b[38;5;28;01mfrom\u001b[39;00m \u001b[38;5;21;01mnews\u001b[39;00m\u001b[38;5;21;01m.\u001b[39;00m\u001b[38;5;21;01myoutube_analyzer\u001b[39;00m\u001b[38;5;21;01m.\u001b[39;00m\u001b[38;5;21;01mmain\u001b[39;00m \u001b[38;5;28;01mimport\u001b[39;00m setup_processors, process_video\n\u001b[1;32m      3\u001b[0m claude \u001b[38;5;241m=\u001b[39m setup_processors()\n\u001b[1;32m      4\u001b[0m video \u001b[38;5;241m=\u001b[39m process_video(\u001b[38;5;124m\"\u001b[39m\u001b[38;5;124mTZ3OT2mnsNA\u001b[39m\u001b[38;5;124m\"\u001b[39m, claude)\n",
      "\u001b[0;31mModuleNotFoundError\u001b[0m: No module named 'news'"
     ]
    }
   ],
   "source": [
    "from main import setup_processors, process_video\n",
    "\n",
    "claude = setup_processors()\n",
    "video = process_video(\"TZ3OT2mnsNA\", claude)\n",
    "\n",
    "if video:\n",
    "    response = claude.chat(\n",
    "        question=\"What did the speaker say about Bitcoin?\",\n",
    "        context=video.transcript\n",
    "    )\n",
    "    print(\"\\nResponse:\", response)"
   ]
  },
  {
   "cell_type": "code",
   "execution_count": null,
   "metadata": {},
   "outputs": [],
   "source": []
  }
 ],
 "metadata": {
  "kernelspec": {
   "display_name": "ml4t",
   "language": "python",
   "name": "python3"
  },
  "language_info": {
   "codemirror_mode": {
    "name": "ipython",
    "version": 3
   },
   "file_extension": ".py",
   "mimetype": "text/x-python",
   "name": "python",
   "nbconvert_exporter": "python",
   "pygments_lexer": "ipython3",
   "version": "3.12.4"
  }
 },
 "nbformat": 4,
 "nbformat_minor": 2
}
