{
 "cells": [
  {
   "cell_type": "markdown",
   "metadata": {},
   "source": [
    "# News"
   ]
  },
  {
   "cell_type": "code",
   "execution_count": null,
   "metadata": {},
   "outputs": [],
   "source": [
    "!pip install google-api-python-client google-auth google-auth-oauthlib google-auth-httplib2 \n",
    "!pip install --upgrade google-auth-oauthlib\n",
    "!pip install openai"
   ]
  },
  {
   "cell_type": "code",
   "execution_count": 4,
   "metadata": {},
   "outputs": [],
   "source": [
    "# Imports and APIs\n",
    "import fetch_videos\n",
    "import openai\n",
    "import os\n",
    "import pandas as pd\n",
    "\n",
    "# Ensure you have set your OpenAI API key\n",
    "openai.api_key = os.getenv('OPENAI_API_KEY')\n",
    "client = openai.OpenAI()"
   ]
  },
  {
   "cell_type": "markdown",
   "metadata": {},
   "source": [
    "## Channel Definitions and Setups"
   ]
  },
  {
   "cell_type": "code",
   "execution_count": 5,
   "metadata": {},
   "outputs": [
    {
     "name": "stdout",
     "output_type": "stream",
     "text": [
      "Channel ID: UCrM7B7SL_g1edFOnmj-SDKg\n",
      "Channel Name: BloombergTechnology\n"
     ]
    }
   ],
   "source": [
    "# Dictionary of channel IDs and their corresponding names\n",
    "channels = {\n",
    "    \"CNBC_TV\": \"UCrp_UI8XtuYfpiqluWLD7Lw\",\n",
    "    \"DeepWater\": 'UCQCNLsdpDV1XSHH4V8WQuPA',\n",
    "    \"BloombergTechnology\": 'UCrM7B7SL_g1edFOnmj-SDKg',\n",
    "    \"YahooFinance\": 'UCEAZeUIeJs0IjQiqTCdVSIg'\n",
    "}\n",
    "\n",
    "# Function to get channel name from ID\n",
    "def get_channel_name_by_id(channel_id, channels):\n",
    "    for name, id in channels.items():\n",
    "        if id == channel_id:\n",
    "            return name\n",
    "    return None\n",
    "\n",
    "# Example usage\n",
    "channel_id = channels[\"CNBC_TV\"]  # Change this to the desired channel ID\n",
    "channel_name = get_channel_name_by_id(channel_id, channels)\n",
    "print(f\"Channel ID: {channel_id}\")\n",
    "print(f\"Channel Name: {channel_name}\")"
   ]
  },
  {
   "cell_type": "markdown",
   "metadata": {},
   "source": [
    "## Get Today's CNBC Videos"
   ]
  },
  {
   "cell_type": "code",
   "execution_count": 6,
   "metadata": {},
   "outputs": [],
   "source": [
    "summary_file_name_today = f'summaries_{channel_name}_{fetch_videos.get_formated_date_today()}'\n",
    "summary_file_name_today_cvs = f'{summary_file_name_today}.csv'\n",
    "summary_file_name_today_html = f'{summary_file_name_today}.html'"
   ]
  },
  {
   "cell_type": "code",
   "execution_count": 7,
   "metadata": {},
   "outputs": [
    {
     "name": "stdout",
     "output_type": "stream",
     "text": [
      "Appended 4 new videos to summaries_BloombergTechnology_2024-08-06.csv.\n"
     ]
    },
    {
     "name": "stderr",
     "output_type": "stream",
     "text": [
      "/Users/sliu/src/mysrc/investing/razorback_investing/news/fetch_videos.py:133: FutureWarning: The behavior of DataFrame concatenation with empty or all-NA entries is deprecated. In a future version, this will no longer exclude empty or all-NA columns when determining the result dtypes. To retain the old behavior, exclude the relevant entries before the concat operation.\n",
      "  combined_df = pd.concat([existing_df, new_videos_df], ignore_index=True).sort_values(by=['Published At'])\n"
     ]
    }
   ],
   "source": [
    "## Fetch videos\n",
    "period_type = 'today'  # 'today', 'days', 'weeks', 'months'\n",
    "number = 4  # The 'today' setting does not use 'number', adjust if using other settings\n",
    "start_date, end_date = fetch_videos.get_date_range(period_type, number)\n",
    "df_videos_today = fetch_videos.fetch_videos(start_date, end_date, channel_id,summary_file_name_today_cvs)"
   ]
  },
  {
   "cell_type": "code",
   "execution_count": 8,
   "metadata": {},
   "outputs": [],
   "source": [
    "## Filter Vidoes by time\n",
    "# Assume df_videos is your initial DataFrame loaded with video data\n",
    "hour_range1 = '0-8'\n",
    "hour_range2 = '8-10'\n",
    "hour_range3 = '10-12'\n",
    "hour_range4 = '12-14'\n",
    "hour_range5 = '14-16'\n",
    "hour_range6 = '16-24'\n",
    "\n",
    "# Filter videos from the last 3 days\n",
    "filtered_df = fetch_videos.filter_videos_by_date_and_time(df_videos_today, 'today', 1)\n",
    "# fetch_videos.display_df(filtered_df)"
   ]
  },
  {
   "cell_type": "code",
   "execution_count": 9,
   "metadata": {},
   "outputs": [],
   "source": [
    "## Add transcripts\n",
    "df_videos_with_transcripts = fetch_videos.add_transcripts_to_df(filtered_df)\n",
    "# fetch_videos.display_df(df_videos_with_transcripts)"
   ]
  },
  {
   "cell_type": "markdown",
   "metadata": {},
   "source": [
    "### AI Summary "
   ]
  },
  {
   "cell_type": "code",
   "execution_count": 10,
   "metadata": {},
   "outputs": [],
   "source": [
    "## Assign Tasks: Get Summary\n",
    "task_summary = \"\"\"I would like you to summarize the transcript with the following instructions: \n",
    "First categorize the video content.The category should be one of the following: Crypto, Macro, Politics, Technology Stocks, or Other. \n",
    "Then summarize the stocks that are mentioned in this video.\n",
    "Then provide key takeaways in a bullet point format.\n",
    "Finally, use one sentence to summarize the overall sentiment of the stocks mentioned in the video.\n",
    "Please print the summary in a human-readable format like the following: \n",
    "Category: Technology Stocks\n",
    "Stock mentioned: Nvidia, Tesla, Apple\n",
    "Key takeaways:\n",
    "* Nvidia reported record revenue growth.\n",
    "* Tesla announced a new electric vehicle model.\n",
    "* Apple released a new software update which will make its products more secure.\n",
    "Sentiment: Cautiously Positive\n",
    "\"\"\"\n",
    "\n",
    "# Get summaries for all transcripts\n",
    "df_summaries = fetch_videos.apply_tasks_on_all_transcripts(df_videos_with_transcripts, client, task_summary)\n",
    "\n",
    "# Save summaries to a CSV file\n",
    "df_summaries.to_csv(summary_file_name_today_cvs, index=False)"
   ]
  },
  {
   "cell_type": "code",
   "execution_count": 11,
   "metadata": {},
   "outputs": [],
   "source": [
    "## Save summaries to an HTML file \n",
    "df_summaries = pd.read_csv(summary_file_name_today_cvs)\n",
    "html_content = fetch_videos.get_html_content_summary_only(df_summaries)\n",
    "# print(html_content)\n",
    "\n",
    "# Save the HTML content to an HTML file\n",
    "with open(summary_file_name_today_html, 'w') as file:\n",
    "    file.write(html_content)"
   ]
  },
  {
   "cell_type": "code",
   "execution_count": 12,
   "metadata": {},
   "outputs": [
    {
     "data": {
      "text/plain": [
       "\"Title: Stock Turnaround and Google's Monopoly Ruling | Bloomberg Technology\\nTranscript:\\nthe story monday was about some of the\\nmega-cap tech names, some of those that have fueled the gains in the first half\\nof the year. some of those names you were\\nparticularly concerned about. so you sat on the sidelines away from\\nthem. how do you react to the last 24 hours\\nthen? well, it's interesting that with that\\nsector, it wasn't really a monday story per se.\\nit had started july 10th. the nasdaq drawdown had reached 13 and a\\nhalf percent yesterday. so there was already quite a bit of\\nslide going on. and i think that does stem from the\\novervaluation. it's pretty stunning when you see a name\\nlike in video that had been down 25 to 30% and was still trading at about 59\\ntimes earnings, 30 times sales after such a violent correction.\\ni think even today when you look at apple still being negative with this\\nkind of bounce back rally today. it does feel to me like a rotation of\\nleadership is very well underway. you raise a point that we reiterated in\\nyesterday's show that friday marked four straight weekly declines on the nasdaq\\n100. right.\\nyou were already in correction territory.\\ni guess the question for someone like you, david, is what do you do now?\\nyou know, it's the draw down or so-called technical correction enough\\nthat you start to look at some of the names that for many they are tinos or\\nthey are there is no alternative to holding them.\\nwell, there are probably investor categories that might want to look at\\nsomething they are not. they certainly shouldn't be doing it\\nbecause they believe it's reached a value.\\nthese are still extremely expensive stocks for us as dividend growth\\ninvestors. the tiny little paltry dividend that the\\ninvidious measures in apple's pay is not enough to whet our beak.\\nand so they would have a long way to go to start returning cash to shareholders\\nfor us to be attracted. but even apart from our dividend growth\\norientation, the valuations are still very high.\\ni began professionally managing money in the 1990s, and so i will be forever\\nscarred by the reality of what happens when you overpay for very good\\ncompanies, very big and successful companies that have a generational\\nsuccess, and yet their stock goes nowhere for ten, 15, 20 years in cisco's\\ncase, still hasn't got back to 1999 levels.\\nthose stories are real and i believe very much they will be the case with\\nsome of these names, too. i think investors have to be careful.\\ni find names like cisco, maybe even adele interesting as sort of appendages\\nto the infrastructure build out this happening.\\ni wrote about it in today's tech daily. right.\\nif you think about the growth concern, investment or capital expenditures into\\ndatacenter seem to be plowing ahead regardless of short term jitters.\\nis there an opportunity for you in that space, david?\\nor do you think it's it's just overdone already at this point?\\nwell, that's a very interesting story because there you can get cash flow.\\nand so, for example, blackstone has become one of the largest investors\\ninstitutionally in the data center story.\\nand we're able to get a real yield and become a landlord, so to speak, to data\\ncenter, become a little bit less concerned with the with the underlying\\nbusiness fundamentals as to how much microsoft's going to buy from an vedere\\nor what the monetization of ai is going to be.\\na lot of those questions are not answered.\\nthey're not going to get answered anytime soon.\\nbut data center becomes a story that from a brick and mortar standpoint, you\\ncan make money in. i find that so interesting.\\nnever before did i think i'd be writing about rates in my technology newsletter,\\nand i use their forecasts or data to kind of look at the market pipeline as a\\nwhole earnings. you know, this morning we wake up\\npalantir's strength, uber's strength. and last week we learned from microsoft\\nin particular that if you miss estimates, you're in trouble.\\nbut there's still a long way to run in this earnings period.\\nhave you taken a sort of lesson on the whole from those that have already\\nreported? yeah, well, about 75% of the way\\nthrough. it does appear that overall earnings\\ngrowth is not going to be 8% as targeted on the quarter, but probably closer to\\n5% year over year. earnings growth still expected to be\\nabout 12%. but some base effects are going to make\\nthat a lot harder in the next quarters. and so i think the story of microsoft is\\nkind of a microcosm of the underlying reality that there's this sort of\\nfeedback loop at play that microsoft goes up because it's buying a lot from\\nin video and in video goes up because microsoft's buying a lot from it.\\nand of course, there's a lot of other customers.\\nbut this idea that i doesn't ever have to tell you how it's going to make money\\nfor real other than an infrastructure backbone story is problematic.\\nand if those revenues are going to be going down before they've converted to\\nprofits, then you have an unwind that has to take place of a feedback loop.\\ndavid, for the technology sector, then what happens in the second half of this\\nyear? i would be somewhat unconstructive in\\nthe space on a valuation basis, but we are hardly the the types of technology\\ninvestors that that you normally would be speaking to, just in the sense of our\\nboring insistence on free cash flow. you know, we own broadcom in the\\nportfolio. we don't believe it got to the valuation\\noverstretch that india has. and then we own old tech names like ibm\\nand cisco that have ongoing free cash flow from online businesses, but\\nobviously new growth opportunities. that's the way we would prefer to play\\nit, just simply because we think perfection was priced in to the more\\ncontemporary technology names.\\n\\nTitle: Big Tech Traders Are Not Buying the Dip\\nTranscript:\\nlet's just start with with the ticket.\\nyour reaction to vice president harris selecting governor wallaces as her\\nrunning mate. yeah.\\nwell, thanks for having me, ed. and i am excited that we finally have a\\nvice presidential choice on the ticket. i think governor wolf is an excellent\\nchoice for vice president harris. and i'm excited to see what the two of\\nthem are going to be able to do together.\\ni think as far as it as far as it relates to tack, we're still learning\\nmore about vice president or about governor walters policies with regard to\\ntack. but i think that he's done a lot in the\\nstate of minnesota. just minnesota has been declared a tech\\nhub by the biden-harris administration. and in addition to that,\\nhe's also done a lot to expand rural broadband access.\\ntreaty the week that followed the assassination\\nattempt on former president trump and then the selection of j.d.\\nvance as his running mate. we had many venture capitalists on this\\nprogram and those from, let's call it silicon valley more broadly who came out\\nin support. they basically said we see j.d.\\nvance as being a good voice for entrepreneurs and somebody with\\nexperience in our industry. are you able to make the same arguments\\nfor that for the harris waltz ticket at this stage?\\nhow do you think they will approach your world directly?\\nyeah, i think it's a great question. and i just want to start by saying that\\ni don't think many of the venture capitalists who came out in support of\\ntrump are representative of the entire industry.\\nas we know, kamala harris is from silicon valley.\\nshe grew up in oakland and she's been a longtime supporter of the tech industry.\\nand she shares a lot of values that many of us in the tech industry have,\\nparticularly with regard to immigration and ensuring that we are continuing to\\ndrive innovation in this country with policies that are favorable to tech.\\nso i really believe strongly that we should be thinking more broadly about\\nthe ways in which the tech industry has more diverse viewpoints than the ones\\nthat i think some very vocal members of the industry espouse.\\ntheresa, we're sharing some of the leading names, i suppose, who are\\nsignatories to the vc for camilla. what is the one biggest factor that\\nunites you in your support of harris, or i guess the opposite?\\nthe biggest factor that that makes you concerned about a trump presidency.\\ni mean, i think one of the biggest things that worries me about a trump\\npresidency is just trump's past history with immigration policy is if you look\\nat the number of unicorns in this country that have been started by\\nimmigrants, i believe it's around half of all of the unicorns in the united\\nstates have been started by immigrant founders.\\nabout 80% of them have immigrants in leadership roles.\\nthe h-1b visa policy is really critical for the tech industry, and trump does\\nnot have a positive track record there. so i think having a president who\\nunderstands the importance of immigration in this country is really\\ncritical.\\n\\nTitle: Harris Taps Minnesota’s Walz for Ticket\\nTranscript:\\n>> from the heart of\\ninnovation, money and power collide in silicon valley and\\nbeyond, this is bloomberg technology with caroline hyde\\nand ed ludlow. ed:\\nlive from san francisco this is bloomberg technology.\\nfull market coverage as stocks stage a tuesday turnaround\\nafter $6.5 trillion was white from markets monday.\\nwe sit down with the cto of palantir. the u.s.\\nrules google illegally monopolized the search market\\nthrough exclusive deals. it's a bit of a sigh of relief\\non tuesday. call it a turnaround, this is\\nwhat financial markets look like.\\nnotable gains on the nasdaq 100. chip stocks recovering after it\\nwas technology that led to the selling in equity markets on\\nmonday. volatility around growth concerns and economic data and\\nthen bitcoin is interesting as well. 56,000 dollars per token.\\nlet's move over to the single names.\\nearnings are a big part of the story at the moment.\\ntwo in particular we are looking at.\\nuber at almost 8%, strong on the bottom line.\\nwe get to that in just a moment. coming up the cto of palantir\\nupdated outlook for revenue and profit.\\nai demand from commercial and government customers.\\na really interesting conversation in the next\\nsegment. we will go back to markets.\\njoining us as the chief investment officer at the\\nbunsen group. the story monday was about some\\nof the mega-cap tech names. some of those that are fueled\\nthe gains in the first half of the year.\\nsome of those names you are particularly concerned about so\\nyou sat on the sidelines away from them.\\nhow do you react to the last one he four hours then? >> it wasn't really a monday --\\nthe last 24 hours then? david:\\nthere was already quite a bit of slide going on and i think\\nthat does stem from the overvaluation.\\nit's pretty stunning when you seem -- when you see a name\\nlike nvidia bedded been down and was still trading at about\\n59 times earnings, a 30 time sales after such a violent\\ncorrection. i think even today when you\\nlook at apple still being negative with this kind of\\nbounce back rally today, it does feel to me like a\\nrotational -- rotation of leadership is underway.\\ncaroline: we reiterated -- ed: we reiterated on yesterday show\\nthe friday march for straight weekly declines on the nasdaq\\n100. i guess the question for someone like you is what do you\\ndo now? is the drawdown or technical\\ncorrection enough that you start to look at the names that\\nfor many, they are -- there is no alternative to holding them?\\ndavid: there are probably investor\\ncategories that might want to look at something there, they\\ncertainly should not be doing it because they believe it's\\nreached a value, these are still extremely expensive\\nstocks. for us as dividend growth\\ninvestors the tiny little dividend the invidious and\\napples pay is not enough to wet our beak and so they would have\\na long way to go to start returning cash to shareholders\\nfor us to be attracted but even apart from our dividend growth\\norientation evaluations are still high, i began\\nprofessionally managing money in the 1990's so i will be\\nforever scarred by the reality of what happens when you\\noverpay for good companies. very big and successful\\ncompanies that have a generational success and yet\\ntheir stock goes nowhere for 10 or 15 years.\\nstill not getting back to 1999 levels.\\nthose stories are real and i believe they will be the case\\nfor some of these names. investors have to be careful.\\ned: maybe even dell as interesting\\nappendages to the infrastructure buildout that's\\nhappening. i wrote about inditex daily. if you think about the growth\\nconcern, investment or capital expenditures in the data center\\nseem to be plowing ahead regardless of short-term\\njitters. is there an opportunity for you\\nand that space or do you think it is overdone already at this\\npoint? david: that is an interesting story\\nbecause you can get cash flow and so for example blackstone\\nhas become one of the largest investors institutionally in\\nthe data center story and we are able to get a real yield\\nand become a land war to data centers.\\na little less concerned with the business fundamentals as to\\nhow much microsoft will buy from nvidia or what the\\nmodernization of ai will be. -- monetization of ai will be.\\ndata center becomes a story from a brick-and-mortar\\nstandpoint you can make money in. ed:\\nnever before did i think i would be writing about reit's\\nin my technology newsletter and i used their forecast data for\\nthe pipeline as a whole. palantir strength, uber\\nstrength, last week we learned from microsoft if you miss\\nestimates you are in trouble but there is still room to run\\nin this earnings period. have you learned a lesson from\\nthose who have reported? david: we are about 75% of the way\\nthrough and it appears earnings growth is not to be 8% targeted\\non the quarter but probably close to 5%.\\nyear-over-year earnings growth looks like it will be about 12%.\\nbase effect will make that harder in the next quarters.\\nthe story of microsoft is a kind of microcosm of the\\nunderlying reality, that there is this feedback loop in play\\nand microsoft goes up because it's buying a lot from nvidia\\nand nvidia goes up because it is buying a lot from it and of\\ncourse there's a lot of other customers, but this idea ai\\ndoesn't ever have to tell you how it's going to make money\\nfor real other than an infrastructure backbone story\\nis problematic and if those will be going down before they\\nconverted to profits then you have an unwind that has to take\\nplace of the feedback loop. ed: for the technology sector what\\nhappens in the second half of this year? rod: i would be on -- david:\\ni would be unconstructive on the space on a valuation basis.\\nwe are hardly the types of technology investors that you\\nnormally would be speaking to just a sense of our boring\\nassistance -- insistence on cash flow.\\nwe own broadcom and don't think he got to the valuation\\noverstretch. we have old tech names like ibm\\nand cisco that have ongoing free cash flow from underlying\\nbusinesses but obviously new growth opportunities.\\nthat's the way we would prefer to play it because we think\\nperfection was priced in to the more contemporary technology\\nnames. ed: i do not for a second think you\\nare boring. david bahnsen, ceo at the\\nbahnsen group. let's go to the earning story.\\nuber reporting story -- earnings this morning.\\nbringing in nancy who covers the gig economy platforms. it's\\nbasically everything that runs through the uber platform apart\\nfrom the tips, but within that there are loads of stories. natalie:\\nfrom rideshare delivery, user frequency as well as driver\\nactivity on the platform is that it all-time high.\\nthis resulted showing how uber's strategy of pushing into\\nnew areas playing out well for them.\\nthey launch affordable options such as shadows -- and low cost\\nshare rides. that is contributed to the\\ncountercyclical story the ceo talked about on their call\\nwhether they are causing some downturn. ed:\\nnatalie all across uber and a lot more to come in that space.\\nthat will give us a bigger picture of the strength in that\\nmarket. coming up on this program we\\nare joined by the cto of palantir discussing the\\ncompany's earnings released after the closing bell monday.\\none of the big movers to the upside.\\ncommercial customers, military customers, government customers.\\nthis is bloomberg technology. ed: let's keep it going with\\nearnings coverage. palantir boosting its revenue\\nguidance for the year to a range of 2.7 4 billion ahead of\\nestimates with ai demand also helping palantir boost its\\nprofit outlook. a growth in business and\\ncustomers. artificial intelligence\\nplatform and others have transformed the business. the cto shyam sankar joins us.\\non the call this transformation he was talking about.\\nas cto you are working on it. just explain the basis of that.\\nwhat's changed from a technology perspective and in\\nthe domain of artificial intelligence. shyam: what you see is this massive\\nbottleneck between prototyping and production that happens to\\nbe where its most differentiated.\\nit's on a decade of investments like the ontology, the security\\nand business primitives we built through the platforms\\nlike functions, actions in this pipeline we had the focus on\\naddressing that. i think what's changed is\\nyou've been to these is the market now understands how\\nsevere that bottleneck is. you last guest was talking\\nabout that. where it is so easy to build a\\ncharismatic ai prototype about the amount of effort of\\nbuilding a powerpoint slide but it is also that amount of\\nutility and unlike traditional deterministic software this\\npowerful stochastic genie it requires a lot more work to get\\nthe production. that requires the toolchain we\\nassembled. ed: i have had a few conversations\\nabout his frustration with the powerpoint deck versus the\\nreality of shipping product. we will put that to one side\\nfor now. there was a heavy emphasis on\\nworking with the military in the written materials and on\\nthe call. could you give the basics of\\nwhat your work with the military looks like present day?\\nshyam: in the commercial world you\\ncall it a value chain. from the hand of a supplier to\\nthe customer. in the military it's a kill\\nchain. on the abstract level is the\\nsame thing. we're trying to enable war\\nfighters to have information dominance and decision\\nadvantage. if you know your enemy and\\nyourself you will win. how can i see everything there\\nis to know about the threat. how can i understand everything\\nto combat and deter any aggression from those threats.\\nwhen you look at the geopolitical landscape it could\\nnot be more dangerous. everything in eastern europe,\\nmassive tensions in the middle east and the ongoing issues we\\nhad in the pacific. ed: beyond the importance of data,\\nwhere does palantir sit in the defense ecosystem or supply\\nchain. are you closely aligned with\\nhardware makers, the aerospace community or is the model\\nfocused on you going direct to different arms of the defense\\nbase with government? shyam: one of the things are excited\\nabout is the first breakfast as an antidote to the last supper\\nheard we went from 51 primes down to five.\\nwe forget at the dawn of world war ii did not have a defense\\nindustrial base we had an american industrial base.\\ngeneral mills the cereal company, initial guidance\\nsystems. we have this moment right now in defense deck where\\n100 billion dollars or more of has been deployed.\\na bolus of founders have shown up.\\na lot of creativity and energy as a company that's been\\npathfinding not only have we developed our software that\\ngives these war fighters a unique advantage like the\\ncontract recently awarded for nearly half dutch half $1\\nbillion. the software infrastructure\\nthat required to deliver modern american software to the\\nbattlefield in air gap environments at speed and pace\\nwell ahead of the threats. we've been working with\\ntraditional primes, integrating our software and reproduction.\\nif you think of our business it's commercial oriented.\\nhow do we build faster, better and cheaper.\\nin addition to the new ones that need to achieve scale and\\ntime, a value of money is everything for them. ed: whenever we have an executive\\non the program i say what is it you want to know in this case\\nfrom palantir. most of the questions were\\nabout warp speed. very basic ones.\\nwhy now with warp speed and the obstacles to rolling it out,\\nmaking it sort of more readily available. shyam: i'm so excited about warp speed\\nit's what i'm spending my time on, warp speed is our modern\\namerican operating system for manufacturing.\\nthe reason why now for the better part of 20 years we have\\nhelped traditional manufacturers build planes,\\ntrains, automobiles and ships. most of those folks are stuck\\nin a legacy mode how they're operating.\\nbut what's unique about the re-industrialization happening\\nin america is these founders, they are alumni of palantir,\\ntesla and spacex and understand the erp plm, a plc software\\ndoesn't really work. most of the successful\\ncompanies have had to build their own software and that is\\nan unaffordable journey. there is a massive opportunity\\nto take the power of aip and historical experiences\\nthroughout the value chain of production to help our\\ncustomers spend their dutch spend better with bits.\\n-- spend better with bits. ed:\\nsome quick fire questions about palantir. since aip and warp speed, over\\nthe year what is the key foundational model you been\\nbuilding on top of. i know you think in-house about\\nthe model or foundation level, that that's a question that\\ncomes up quite a lot. who are you building on top of\\nand working with? shyam: what we've seen in production\\nis you need a menagerie of models and if you think about\\nthe most expensive model out there it's 1000 times more\\nexpensive than the cheapest open-source model for 10% more\\niq as a rough proxy. that's not a compelling price\\nform. you already see the first versions of gpt 4 have been\\nsunset. what is the infrastructure\\nneeded. i'm turning my software into\\nsomething that is now stochastic, it is not\\ndeterministic. the scientist we have trained\\nare used writing deterministic code.\\nthis harkens to how we think about the transition from\\nanalog service -- circuits to digital circuits.\\nthe infrastructure you need so you can have the abstraction to\\nthink about these as digital. ed: go ahead, sorry. shyam:\\nwe are very focused on helping our customers get the right models for the right use cases,\\nautomatically generate iterations on prompts that got\\nthem there and part of our theory is prompts are for\\ndevelopers. chat is a dead end. they get there pretty quickly\\nto realize we should be thinking of them is a new type\\nof run time. i might write a python function.\\ned: for the commercial half of the\\nbusiness is there a specific hyper scale cloud platform or\\npartner to support its growth? shyam:\\nwe are working with all of them. deep and valuable relationships\\nthere. we are very happy with that. ed:\\nthis last year has been about aip and growth.\\nwhat's the next 12 months like her palantir? shyam: it's about deepening this\\nbottleneck with production rate if you look at the article on\\nthe $600 billion hole in revenue. this is the bottleneck of the\\nmarket, the folks you saw it first we're in the pole\\nposition here have the opportunity to take the market.\\ned: shyam sankar, cto of palantir.\\nright to have you back on bloomberg technology.\\nwe look at google's loss in a historic antitrust lawsuit\\nafter the tech giant paid $26 billion to become the default\\nsearch engine on smartphone web browsers.\\nthis is bloomberg technology. ed:\\nin other tech news, google lost after the tech giant paid $26 billion to become the default\\nengine on browsers. let's start with the basics,\\nthe decision and how it will impact alphabet or google,\\nalphabet the parent of google. >> the decision yesterday is\\njust the one on whether google violated the law.\\ngoogle has -- they found google has an illegal monopoly over\\nthe general search services market and search tech stats\\nwhich are the top of the page that try to lure you to\\nwebsites. this is what they said on the\\nliability, getting to the next phase of the case which is what\\nto do about it. the justice department hasn't\\nnecessarily said what they want yet but there is sort of\\nseveral options people think, one of which is a potential\\nbreakup. they could ask for the court to\\nmake google sell off the chrome browser or the android\\noperating system, both of which were key things in the trial or\\nthe judge could go with a slightly lesser penalty or\\nremedy such as making google share some of the data it\\ncollects, that sort of underlies it search results\\nwith other search engines like or -- like bing or other search\\nstartups. ed: a lot of questions i got on\\nsocial media was does the ruling have teeth.\\nthey were opinion pieces about this being a hollow victory for\\nregulators and the stock is kind of flat.\\nit's hard to gauge how serious this is about alphabet.\\nbut it is important. leah: it is probably not going to\\ntake any impact immediately. google said it will appeal.\\nthose sorts of appeals generally take a year to 18\\nmonths so this will delay any actual changes to google's\\nsearch engine or its business. what it means is long-term\\ngoogle will change its practices , it won't remain the\\ndominant search engine for very long. it may have to hive off certain\\nparts of its business which are provided a nice cushion to the\\ncompany. the one thing you see there was\\na pretty sharp stock selloff or apple because $20 billion of\\nthat you mentioned had been going to apple every year. it simply had its contract with\\ngoogle, it got $20 billion for not doing anything other than\\nbeing the default on the iphone. this ruling puts that in danger\\nbecause the judge said you can have this exclusive agreement\\nwhen you are this dominant. you have to let other people\\ncompete. it might end up changing some\\naspects of the iphone. there are questions about apple\\ncreating very similar agreements with google and ai\\nover ai chatbots and such that could be on the iphone.\\nwill have to make some changes to those agreements because of\\nthat decision, that is possible. ed: google has said it plans to\\nappeal the decision anyway. thank you very much.\\ncoming up on the show we will discuss the state of the crypto\\nmarket with the head of strategy at cracking.\\nthere's also a lot of movement in the world of technology and\\njobs. take a look very quickly at\\nshares of dell. bloomberg citing a memo from\\nexecutives that there will be some layoffs and trims in some\\nparts of the business relative to others, but all with an idea\\nto reinforce the ai sales team. we have seen this before, the\\nreallocation of diversion of headcount from one area to the\\nmost important one. even so the stock down 4.3%.\\nthis is bloomberg technology. ♪ ed: welcome back to bloomberg\\ntechnology. the financial markets are\\nhaving a bit of a breather in the sense there is such a big\\ndecline monday, we were up more than one percentage point off\\nsession highs this tuesday. we've talked about uber and\\npalantir but we remind ourselves as a friday night the\\nnasdaq had fallen for four straight weeks.\\na lot of thinking about growth, geopolitics and how long this\\ninvestment cycle has to run. there's also a focus on crypto.\\nback to monday which seems a long time ago but it was only\\nyesterday, bitcoin a lot of volatility.\\n8% decline in monday session. biggest drop since march of\\n2023. at one point was down below\\n50,000 u.s. dollars. behave like a risk assets but\\nwhat's going on. let's talk more with the head\\nof strategy at cracking. that was the set up, monday was a very interesting experience\\nfor financial markets participants, crypto fans alike.\\nwhat you think was behind the specific anxiety in bitcoin? >> last time we spoke one of\\nthe four major catalysts i had discussed as far as near-term\\nperformance for crypto would be the broader overall macro\\ncondition in financial markets so of course seeing the\\ndeleveraging of that in large part due to the carry trade\\nfalling apart for a lot of people, that does have an\\nimpact on crypto in particular because some of the biggest\\ntrading firms involved in crypto also trade in\\ntraditional markets. to the extent you have big\\ntribulation in traditional financial markets all good\\ncollateral get sold off whether it's gold, crypto, etc.. ed:\\ni love you bring up the japanese carry trade.\\nmore than anything it would be shared on social media about\\nwhat was happening with that. some of the other retorts i got\\non social media talking about bitcoin was the idea you said\\nthis would behave like a haven asset.\\nit very much behaves like a risk asset or in line with risk\\nassets. explain that from your perspective? thomas:\\nthe performance of bitcoin here today is still positive.\\nstill positive performance year on year.\\nthat's 2.5 times we are seeing u.s. equity.\\nin general i think if you zoom out it's a good-looking trend. when i think about the two key\\nnear-term important issues you really want to think about as\\nof today is a crypto investor it's going to be taking a view\\non flows from traditional markets particular in the form\\nof the etf's but it's also trying to maintain investor\\ndiscipline and the satellite to look at you can measure this\\nover a variety of time horizons. if you missed the top 10\\nperforming days in bitcoin, your returns are 30% to 60%\\nworse off than maintaining exposure.\\neven though it's a volatile asset it's been asymmetrically\\npoised to the upside so to the extent you can maintain\\nposition that is the healthiest way to approach this.\\nsoy understand the one day eight-day selloffs in crypto.\\non the grand scheme of things, historical price action isn't\\nthat different from what we seen in the past. >> we are\\ntrading just below $56,000 per token. kind of like we were late\\nfebruary as the etf approval process was taking place.\\nwhat happens next? we've talked quite a lot about\\nthe near and the longer-term view -- in the near term.\\nthe catalyst for bitcoin? shyam: when i think -- shyam:\\nwhen i think of the long-term -- thomas:\\nwhen i think of the long-term trajectory we see it as the\\nfuture of the financial system. right now, a crypto adoption is\\nless than 10% of the population preyed everyone needs to be\\ninvolved in finance, we think that that participation growth\\n-- grows substantially. other cryptocurrencies being an\\nasset class with finite supply does create conditions where\\nyou have a lot of demand growth but not allow supply growth so\\nthat's what a lot of people look to as far as very\\nlong-term trend of the value of these networks.\\nwhen i think about the recent activity, a lot of this has\\nbeen around the etf products with inflows of 17 billion.\\nthat's a huge net inflow in this kind of product it's a\\nreally positive kind of view on the asset classes general. ed: that long-term outlook in the\\ntime horizon of five to 10 years, how dependent is it or\\nthe model on congressional action?\\nhaving a leader in the white house that has a specific\\nproactive stance towards the industry? thomas:\\nthe first thing i will say is crypto is global.\\nof course the u.s. is an important country when it\\ncomes to global financial markets, it is still a small\\npart of the overall population. so there is a lot of growth\\nthat can happen abroad. with respect to the u.s.\\nspecifically, i knew crypto was a bipartisan issue and our\\ninterest in the political environment are two fold.\\nwe think the focus should be on legislative action to a shreve\\n-- to achieve regulatory clarity in the u.s..\\nit's also what we are seeing in other regions like europe,\\nu.k., australia, etc.. when you zoom ahead, let's say\\nthat five to 10 year time horizon, of election year is\\ncool because it is sort of a pivotal moment for crypto as a\\ntopic because the electorate is changing demographically.\\nso you have roughly the same amount of voter representation\\nprojected by the center for american progress within the\\nsilent generation and baby boomers compared with gen z and\\nmillennials. but four years from now, the\\n2028 election cycle, that changes dramatically.\\nyou will have about 10 percentage points higher of\\nvoter representation amongst gen z and millennials.\\nany demographic study showed gen z and millennials two to\\nthree times more likely to have favorable views on crypto into\\nhold it versus other generations.\\nthat to me is how you see a big shift in the political\\nenvironment in the long run. people are recognizing it as an\\nimportant issue. ed: thomas with the global\\ndata-driven view, we appreciate it. it's time for talking tech. nvidia hits an engineering snag.\\naccording to sources, the highly anticipated blackwell ai\\nchips will be delayed due to design flaws.\\nin a statement, it says they do not comment on rumors and they\\nare on track in the second half of the year.\\nelon musk's x set to close its san francisco offices pretty\\nwill leave the city where it was founded in 2006 according\\nto a source who says employees will be relocated to existing\\noffices in san jose and an engineering office in palo alto.\\nsk hynix set to receive an additional -- an initial 450\\nmillion dollars in grants to build out in advance chips\\npackaging facility in indiana. they expect to benefit from a\\n25% tax credit. coming up, symphonic capital partner and kamala harris\\nsupporter shruti shah. terminal as well as apple,\\nspotify and iheart. this is bloomberg. ed:\\nit is official, vice president kamala harris tapped minnesota\\ngovernor tim walz as her running mate in an effort to\\nbuild an electoral coalition of coastal progressives and\\nmidwest moderates to block donald trump from returning to\\nthe white house. let's get out to kailey leinz.\\ni did not know as much about tim walz before this morning or\\nindeed the work done in the state of minnesota but that is\\nthe logic we outlined for the appointment. kailey:\\nit is worth noting he probably doesn't have the same\\nrecognition as others we understood to be on the\\nshortlist. he is a very popular governor in his state of\\nminnesota so he is someone with executive experience, serving\\n12 years in the house of representatives and before that\\nhe was a high school teacher and coach. he served in the u.s.\\nmilitary and is from rural nebraska. minnesota has been safely blue\\nsince 1972 when it went for richard nixon, he does have\\nproximity and perhaps accessibility to those rustbelt\\nvoters in michigan, wisconsin and pennsylvania that make up\\nthat critical blue wall. this is someone who is been\\nfavored by labor. the afl-cio just endorsed him\\ntoday in the aftermath of harris's announcement.\\nhe is well known and liked among gen z and young people. he's gone viral on social media\\ncoining j.d. vance and donald trump as being\\nweird. of course he also has enjoyed\\ndemocratic control of the state legislature in minnesota in his\\nsecond term as governor which has allowed him to enact a more\\nprogressive agenda codifying abortion rights, paid family\\nleave, lunches for young children in schools.\\nthat kind of thing that has won him a lot of praise with the\\nleft. that's the reason why we are\\nalready seeing republicans out criticizing him today.\\ncasting him as dangerously liberal and a radical leftist.\\ned: i would note some of the reaction on social media was\\nexactly the reaction to the weird memes that circulated\\nafter he gave that interview particular he among venture\\ncapital. this played out on social media\\nin part, we are likely to hear from vice president harris and\\ni guess some more about her rationale.\\nnow that the ticket is established, what happens next?\\nkailey: harris confirmed this on her\\ncampaign x account. we believe there will be a\\nvideo on social media at some point and then she will appear\\nbelow -- alongside governor walz, kicking off a multi-state\\n-- multi-swing state tour. rallying with united auto\\nworkers in part so they will be visiting these battleground\\nstates. we would -- we were told not to\\nread into the fact that their event is in philadelphia. we of course have heard from\\ngovernor shapiro saying he intends to work to get harris\\nsupport in pennsylvania and defeat donald trump it also\\nplays into this notion the idea he was not selected you are\\nseeing some republicans including the vice presidential\\nnominee casting the decision not to pick schapiro as\\nanti-semitic. so the idea that labor did not\\nlike him as much may have played a role in harris's\\ndecision not to choose schapiro. a naturally will see him on\\nstage tonight, that is the first time you will see this\\nticket together in person now the announcement has been made\\nwith less than two weeks to go until the democratic national\\nconvention in chicago. ed: i want to bring in shruti shah,\\na partner at symphonic capital. and also a cosigning of a list\\nof venture capital so publicly back terrace.\\nshruti shah joins us in north carolina. let's start with the ticket.\\nyour reaction to vice president harris selecting governor walz\\nas her running mate? shruti: thanks for having me.\\ni am excited that we finally have a vice presidential choice\\non the ticket. i think governor walz is an\\nexcellent choice for vice president harris and i am\\nexcited to see what the two of them will be able to do\\ntogether. as far as it relates to tech we\\nare still learning more about governor walz's policies with\\nregard to tech. i think he has done a lot in\\nthe state of minnesota, minnesota has been declared a\\ntech hub by the biden harris administration.\\nhe's done a lot to expand rural broadband access. ed:\\nthe week that followed the assassination attempt on former\\npresident trump and then the selection of j.d.\\nvance as his running mate we had many venture capitalists on\\nthe program and those from let's call it silicon valley\\nmore broadly who came out in support, saying we see j.d. vance as being a good voice for\\nentrepreneurs and somebody with experience in our industry.\\nare you able to make the same arguments for the harris walls\\n-- harris walz ticket? how will they approach your\\nworld directly? shruti: it's a great question.\\ni don't think many of the venture capitalists who came\\nout in support of trump are representative of the entire\\nindustry. as we know, kamala harris grew\\nup in oakland and has been a longtime supporter of the tech\\nindustry and shares a lot of values but many of us in the\\ntech industry have particularly with regard to immigration and\\nensuring we are continuing to drive innovation in this\\ncountry with policies that are favorable to tech. so i really believe strongly\\nthat we should be thinking more broadly about the ways in which\\nthe tech industry has more diverse viewpoints than the\\nones i think some very vocal members of the industry espouse.\\nrod: we are -- ed: we are showing some of the\\nleading names i suppose or signatories of the vc's for\\nkamala. what's the big thing that\\nunites you or the biggest factor that makes you concerned\\nabout a trump presidency? shruti:\\none of the biggest things that worries me about a trump\\npresidency is his past history with immigration policies.\\nif you look at the number of unicorns in the country that\\nhave been started by immigrants i believe it is roughly half of\\nthe unicorns in the united states have been started by\\nimmigrant founders. 80% of them have immigrants in\\nleadership roles. the h1b visa policy is critical\\nfor the tech industry and trump does not have a positive track\\nrecord there. having a president who\\nunderstands the importance of immigration in this country is\\ncritical. ed: shruti shah, a partner at\\nsymphonic capital, thank you for joining us on bloomberg\\ntechnology here. coming up on the show, we will\\ntake a look at openai as the company's cofounder and john\\nschulman stepped back from their roles marking a shift in\\nmanagement. this is bloomberg technology. ed:\\nopenai is undergoing a shift. another one.\\nas both cofounder step back from leaving the company.\\ngreg brockman, president of openai, is going on sabbatical\\nuntil the end of the year while john showman is -- john\\nschulman is leaving the company. greg brockman is important, he\\nis going on a leave of absence paid to find what we know about\\nthat? rachel: we know he informed the company\\nhe will be taking off until the end of the year.\\nhe's been at the company from the very beginning. i've been told by people to the\\nvery earliest days of openai were happening at his apartment\\nso he's been an integral piece of the company.\\none of the top people there, someone that the ceo often\\nlooks to. so it is going to be interesting to see what happens\\nwhile he is out. ed: showing a post he did on x\\nconfirming the details of it. it looks like he needs a break.\\nschulman is someone i'm less familiar with paid what is he\\ndoing at openai and he's jumping over to anthropic of\\nall places. rachel: we have seen a couple of people\\nmake that kind of move recently from openai.\\njohn schulman, someone who is been there from the beginning.\\nwith him gone and with greg on leave, there is to my count two\\npeople from the original 2015 blog post saying here are all\\nof our founding members. we have sam altman and woj zaremba. ed:\\ni think we got some clarification that it is a\\nleave of absence or sabbatical. the point being, in aggregate,\\npeople track openai. there's been a lot of change.\\nit seems a long time ago sam altman was briefly ousted. summarize it for the audience.\\nwhere do they stand now versus that fateful weekend of\\nnovember 23? rachel: it seems so long ago but also\\nnot. a lot of leadership has changed\\nand left and a lot of things have been reorganized.\\nsam obviously is back from that time in november. who would work on super line at\\nthe company is gone. and we also have a bunch of\\nother people in leadership print -- positions such as john\\nschulman who have laughed and greg brockman is stepping back.\\nto be fair he is -- he has been there a long time. ed:\\nfor a lot of people that's not so important particularly in\\nthe world of engineering. what is the latest thing on the\\nproduct side? rachel: so they have all the models\\nthat are on chatgpt including gpt 4.0 released in the past\\nfour months. the most recent thing is voice\\nmode which is in alpha which means it's been released to a\\nlimited number of people. the company has not said how\\nmany people. it's not that many from what i\\ncan tell. they are slowly going to be\\nreleasing it to more people in the coming weeks and months\\nthrough the fall. ed: i asked them if i could get my\\nhands on it so to speak. let's see what happens.\\nrachel, thank you. that does it for this edition\\nof bloomberg technology. your two days into a week that\\nfelt like an entire ash we are two days into a week that has\\nfelt like an entire week. from san francisco, just me\\nthis week. this is bloomberg technology. ♪\\n\\nTitle: OpenAI Co-Founders Schulman and Brockman Step Back\\nTranscript:\\ni think the important starting point is\\ngreg brockman is important rachael. he's going on a leave of absence.\\nsort of define what we know about that. yeah.\\nso we know that he informed the company that he's going to be taking off until\\nthe end of the year. he's been at the company from the very\\nbeginning. in fact, i've been told by people that\\nthe very earliest days of open air were happening at his apartment.\\nso he's definitely been an integral piece of the companies.\\none of the top people there, someone that sam altman, the ceo, often looks\\nto. so it's going to be interesting to see\\nwhat happens while he's out. we're showing a post that he did on it's\\nkind of confirming the details of it and he looks like he needs a break.\\nshulman is a name i'm less familiar with.\\nwhat was he doing at openai? and i guess how significant is it that\\nhe's jumping over to anthropic of all places?\\nthat i would say that's a pretty big deal.\\ni mean, we've seen a couple of people make that kind of move recently from\\nopenai. but yeah, dan schulman, also someone\\nwho's been there from the very beginning with him gone and with greg on leave,\\nthat means error or to my count is like two people from the original 2015 blog\\npost saying, welcome, this is opening. i hear all of our founding members.\\nwe have sam altman. we have watched the roomba.\\ni believe those are the two people that are remaining there and in addition to\\nthese guys. so it's going to be interesting to see\\nwhat happens going forward. so, i mean, the information reported in\\nthe first instance that greg brockman was leaving, then i think we got some\\nclarification that it's it's a leave of absence or a sabbatical.\\nbut the point being in africa, people track open ai.\\nthere's been a lot of change. it seems a very long time ago that sam\\naltman was briefly ousted. so, so summarize it all for fred, the\\naudience. you know, where do they stand now versus\\nthat fateful weekend of november 23? yeah, yeah.\\nit seems so long ago, but also not so. a lot of leadership has changed and left\\nand a lot of things have been reorganized there, especially in the\\nsafety portion of the company. sam obviously is back from that time in\\nnovember. elias, the skipper who helped organize\\nthe coup to remove sam in the first place and then recanted, has left the\\ncompany. young leakey, who had worked on super\\nalignment at the company, is gone.\\nand we also have a bunch of other people in leadership positions, such as john\\nschulman, that have left. and now we also have, as we said, greg\\nbrockman has, is stepping into stepping back.\\ni mean, to be fair, he's been there for a long time.\\nhe's done a lot of work. so maybe he just wants a break.\\nfor a lot of people, that's not so important.\\nimportant, particularly if you're in the world of engineering.\\nyou want to say what's open air shipping right now.\\nwhat is the latest thing for them on the product side?\\nwell, that's that's an excellent question, actually.\\nso they have that. thank you.\\nthe very you're welcome. they have all the models that are in\\ncharge up to and including gpt four, which was released in the past couple of\\nmonths. but the most recent thing is voice mode,\\nwhich is in alpha, which means it's been released to a very limited number of\\npeople. the company has not said how many\\npeople, but it's not that many people from what i can tell, and they're slowly\\ngoing to be releasing it to more people in the coming weeks and months through\\nthe fall.\\n\\n\""
      ]
     },
     "execution_count": 12,
     "metadata": {},
     "output_type": "execute_result"
    }
   ],
   "source": [
    "import fetch_videos\n",
    "## Combine title and trascripts into a file\n",
    "def save_titles_and_transcripts_to_txt(df, file_name):\n",
    "    \"\"\"\n",
    "    Combines all titles and transcripts into a single string, saves it to a text file,\n",
    "    and returns the combined string.\n",
    "\n",
    "    Parameters:\n",
    "    - df (pd.DataFrame): The DataFrame containing the video data.\n",
    "    - file_name (str): The name of the text file to save the combined string.\n",
    "\n",
    "    Returns:\n",
    "    - str: The combined string of all titles and transcripts.\n",
    "    \"\"\"\n",
    "    combined_text = \"\"\n",
    "    for index, row in df.iterrows():\n",
    "        title = row['Title']\n",
    "        transcript = row['Transcript']\n",
    "        combined_text += f\"Title: {title}\\nTranscript:\\n{transcript}\\n\\n\"\n",
    "\n",
    "    with open(file_name, 'w') as file:\n",
    "        file.write(combined_text)\n",
    "\n",
    "    return combined_text\n",
    "\n",
    "# save titles and transcripts to a text file\n",
    "summary_file_name_today_txt = f'{summary_file_name_today}.txt'\n",
    "save_titles_and_transcripts_to_txt(df_summaries, summary_file_name_today_txt)"
   ]
  },
  {
   "cell_type": "code",
   "execution_count": 13,
   "metadata": {},
   "outputs": [
    {
     "name": "stdout",
     "output_type": "stream",
     "text": [
      "Based on the transcripts provided, there are no specific discussions or mentions about small-cap stocks. The focus primarily lies on mega-cap technology stocks, the impact of their valuations, and investor strategies, as well as political developments and their potential influence on the tech sector.\n",
      "\n",
      "The first transcript titled \"Stock Turnaround and Google's Monopoly Ruling | Bloomberg Technology\" primarily features a conversation with a speaker named David, where discussion revolves around mega-cap tech stocks, valuations, and earnings in the technology sector.\n",
      "\n",
      "The second transcript titled \"Big Tech Traders Are Not Buying the Dip\" does not mention small caps but rather discusses political aspects involving vice-presidential picks and their implications on tech policy.\n",
      "\n",
      "The third transcript titled \"Harris Taps Minnesota’s Walz for Ticket\" includes market coverage and focuses on technology stocks, including evaluations of their performance after a market dip.\n",
      "\n",
      "Unfortunately, none of these transcripts address small-cap stocks directly.\n",
      "\n",
      "The text you provided is a textual transcript of a video or discussion related to market analysis, touching on various topics such as mega-cap tech stocks, dividend growth investing, and areas like data centers and technology sectors. However, there is no specific discussion about small-cap stocks in the provided text.\n",
      "\n",
      "As for identifying the specific video or speaker side, the text appears to be from a Bloomberg Technology segment featuring David Bahnsen, CEO of the Bahnsen Group, providing his insights on market trends, valuations, and certain technology companies. The names mentioned in the text, such as Ed, Caroline, and Natalie, likely refer to hosts or reporters engaged in the discussion, though the video or episode identification is not specified in the text provided.\n",
      "\n",
      "If you are looking for a discussion on small-cap stocks, I would recommend searching for content explicitly focused on that segment. Bloomberg Technology content or other financial analysis platforms might have dedicated segments or episodes discussing small-cap stocks.\n",
      "\n",
      "This text appears to be from a transcript of a Bloomberg Technology segment, featuring a discussion with Shyam Sankar, the CTO of Palantir. It also features mentions of other technology and financial news, such as updates on Google’s antitrust lawsuit and market reactions. However, there is no specific discussion surrounding small-cap stocks in the provided text.\n",
      "\n",
      "The text seems to come from a segment with Ed, possibly Ed Ludlow, who is known to host Bloomberg Technology segments. The discussion with Shyam Sankar focuses on Palantir's advancements and strategies, especially around AIP, Warp Speed, and other technologies impacting manufacturing and production efficiencies. There are no details on small-cap stocks in the transcript, and the focus is largely on technological and corporate strategies within larger tech companies. \n",
      "\n",
      "For information on small-cap stocks, you could explore other financial news segments or reports specifically addressing stock market sectors, including interviews with analysts or discussions on platforms like Bloomberg, which often cover a wide range of stock market topics.\n",
      "\n",
      "The provided text does not contain any discussion about small-cap stocks. It primarily focuses on topics related to cryptocurrencies, political dynamics in the United States, election strategies, significant tech news, and some information related to specific public figures and companies.\n",
      "\n",
      "The text seems to be a transcript or a summary of a broadcast or a video, likely from a financial news channel such as Bloomberg. The speaker (referred to as Ed) discusses various topics, including political developments with Vice President Kamala Harris selecting Minnesota Governor Tim Walz as a running mate, OpenAI management changes, and technology sector updates.\n",
      "\n",
      "If you are looking for specific information about small-cap stocks, it might be necessary to check another segment or document focusing on financial markets and stock analysis.\n",
      "\n",
      "The provided text appears to be a transcription of a conversation between two speakers discussing changes within the company OpenAI. The text focuses heavily on personnel changes and does not mention small cap stocks or related topics. The conversation reveals that Greg Brockman, a significant figure at OpenAI, is taking a leave of absence, and mentions that John Schulman, another founding member, has left the company for Anthropic. There is also discussion regarding OpenAI's management changes over time and recent product developments, including the release of GPT-4 and a new voice mode feature.\n",
      "\n",
      "The text seems to be from a program called \"Bloomberg Technology,\" as indicated at the end of the conversation where the anchor, referred to as \"ed,\" signs off from San Francisco. The speakers involved in this segment are Rachel (likely Breuer, a common contributor for Bloomberg) and Ed (possibly Ed Hammond, also from Bloomberg). However, it seems that discussing small cap stocks is not relevant to this section of the transcript.\n",
      "\n",
      "If you are looking for information specifically about small cap stocks, this segment of \"Bloomberg Technology\" does not provide that content. You may need to refer to other sections or content from the same source or explore different material where small cap stocks are extensively discussed.\n"
     ]
    }
   ],
   "source": [
    "import fetch_videos\n",
    "task2 = \"\"\"Please tell me anything discussed in the file about small cap stocks. \n",
    "Please also provide which video or speaker side this\n",
    "\"\"\"\n",
    "with open(summary_file_name_today_txt, 'r') as file:\n",
    "    all_transcripts = file.read()\n",
    "summary = fetch_videos.apply_task_in_chunks(all_transcripts, client, task2,chunk_size=10000)\n",
    "print(summary)"
   ]
  },
  {
   "cell_type": "markdown",
   "metadata": {},
   "source": []
  },
  {
   "cell_type": "markdown",
   "metadata": {},
   "source": [
    "### AI for all transcripts"
   ]
  },
  {
   "cell_type": "markdown",
   "metadata": {},
   "source": [
    "## Send emails"
   ]
  },
  {
   "cell_type": "code",
   "execution_count": null,
   "metadata": {},
   "outputs": [],
   "source": [
    "import smtplib\n",
    "from email.mime.multipart import MIMEMultipart\n",
    "from email.mime.text import MIMEText\n",
    "import pandas as pd\n",
    "import os\n",
    "import fetch_videos\n",
    "\n",
    "email_user = os.getenv('EMAIL_USER')\n",
    "email_password = os.getenv('EMAIL_PASSWORD')\n",
    "email_send1 = 'sliu810@gmail.com'\n",
    "email_send2 = 'zhengwang827@gmail.com'\n",
    "\n",
    "recipients = [email_send1]\n",
    "# Set up the MIME\n",
    "message = MIMEMultipart()\n",
    "message['From'] = email_user\n",
    "message['To'] = email_send1\n",
    "message['Subject'] = f'summaries_{channel_name}_{fetch_videos.get_formated_date_today()}'\n",
    "\n",
    "# load df_summaries from disk and get the html content\n",
    "df_summaries = pd.read_csv(summary_file_name_today_cvs)\n",
    "html_content= fetch_videos.get_html_content_summary_only(df_summaries)\n",
    "\n",
    "# Attach the HTML content to the email\n",
    "message.attach(MIMEText(html_content, 'html'))\n",
    "\n",
    "# Function to send email\n",
    "def send_email():\n",
    "    try:\n",
    "        server = smtplib.SMTP('smtp-mail.outlook.com', 587)  # Outlook SMTP server\n",
    "        #server.set_debuglevel(1)  # Enable debugging output\n",
    "        server.starttls()\n",
    "        server.login(email_user, email_password)\n",
    "        text = message.as_string()\n",
    "        server.sendmail(email_user, recipients, text)\n",
    "        server.quit()\n",
    "        print(\"Email sent successfully!\")\n",
    "    except Exception as e:\n",
    "        print(f\"Failed to send email: {e}\")\n",
    "\n",
    "# Send the email\n",
    "# send_email()"
   ]
  },
  {
   "cell_type": "markdown",
   "metadata": {},
   "source": [
    "## Random one off experiement "
   ]
  },
  {
   "cell_type": "code",
   "execution_count": null,
   "metadata": {},
   "outputs": [],
   "source": []
  },
  {
   "cell_type": "code",
   "execution_count": null,
   "metadata": {},
   "outputs": [],
   "source": [
    "# print(transcript)"
   ]
  },
  {
   "cell_type": "markdown",
   "metadata": {},
   "source": []
  },
  {
   "cell_type": "code",
   "execution_count": null,
   "metadata": {},
   "outputs": [],
   "source": [
    "# transcript = fetch_videos.get_transcript('GabBf791bdY')\n",
    "# print(transcript)\n",
    "# # Example task\n",
    "# task2 = \"\"\"I would like you to summarize the text which describes Tesla FSD.\n",
    "# Please say in what senario FSD performed well and waht senario it didn't perform well.\n",
    "# Format like this:\n",
    "# Title: \n",
    "# Key takeaways:\n",
    "# * FSD performed well in ...\n",
    "# * FSD had some challenges in ....\n",
    "# Improvement over pervious version if any.\n",
    "# \"\"\"\n",
    "# task3 = \"\"\"could you print the transcript with two person speaking into a human readible format and maintain the original content?\"\"\"\n",
    "\n",
    "# summary = get_summary(transcript, client, task3)\n",
    "# print(summary)"
   ]
  },
  {
   "cell_type": "code",
   "execution_count": null,
   "metadata": {},
   "outputs": [],
   "source": [
    "def get_summary_in_chunks(transcript, client, task, chunk_size=500):\n",
    "    \"\"\"\n",
    "    Generates summaries in chunks to avoid truncation.\n",
    "\n",
    "    Parameters:\n",
    "    - transcript (str): The full transcript text.\n",
    "    - client (object): The client to use for generating summaries.\n",
    "    - task (str): The task identifier for the summary generation.\n",
    "    - chunk_size (int): The maximum size of each chunk.\n",
    "\n",
    "    Returns:\n",
    "    - str: Combined summary of all chunks.\n",
    "    \"\"\"\n",
    "    import textwrap\n",
    "\n",
    "    # Split the transcript into chunks\n",
    "    chunks = textwrap.wrap(transcript, chunk_size)\n",
    "    full_summary = \"\"\n",
    "\n",
    "    for chunk in chunks:\n",
    "        summary = get_summary(chunk, client, task)\n",
    "        full_summary += summary + \"\\n\"\n",
    "\n",
    "    return full_summary"
   ]
  },
  {
   "cell_type": "code",
   "execution_count": null,
   "metadata": {},
   "outputs": [],
   "source": [
    "transcript = fetch_videos.get_transcript('GUM2FSuqOoE')\n",
    "# print(transcript)\n",
    "# Example task\n",
    "task2 = \"\"\"I would like you to summarize the text which describes Tesla FSD.\n",
    "Please say in what senario FSD performed well and waht senario it didn't perform well.\n",
    "Format like this:\n",
    "Title: \n",
    "Key takeaways:\n",
    "* FSD performed well in ...\n",
    "* FSD had some challenges in ....\n",
    "Improvement over pervious version if any.\n",
    "\"\"\"\n",
    "task3 = \"\"\"print the transcript in a more human reaible fashion\"\"\"\n",
    "\n",
    "summary = get_summary(transcript, client, task3)\n",
    "print(summary)"
   ]
  }
 ],
 "metadata": {
  "kernelspec": {
   "display_name": "ml4t",
   "language": "python",
   "name": "python3"
  },
  "language_info": {
   "codemirror_mode": {
    "name": "ipython",
    "version": 3
   },
   "file_extension": ".py",
   "mimetype": "text/x-python",
   "name": "python",
   "nbconvert_exporter": "python",
   "pygments_lexer": "ipython3",
   "version": "3.12.4"
  }
 },
 "nbformat": 4,
 "nbformat_minor": 2
}
