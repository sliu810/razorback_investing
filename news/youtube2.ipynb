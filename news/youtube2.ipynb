{
 "cells": [
  {
   "cell_type": "markdown",
   "metadata": {},
   "source": [
    "# News"
   ]
  },
  {
   "cell_type": "code",
   "execution_count": 137,
   "metadata": {},
   "outputs": [
    {
     "name": "stdout",
     "output_type": "stream",
     "text": [
      "Requirement already satisfied: google-api-python-client in /Users/sliu/miniconda3/envs/ml4t/lib/python3.12/site-packages (2.137.0)\n",
      "Requirement already satisfied: google-auth in /Users/sliu/miniconda3/envs/ml4t/lib/python3.12/site-packages (2.31.0)\n",
      "Requirement already satisfied: google-auth-oauthlib in /Users/sliu/miniconda3/envs/ml4t/lib/python3.12/site-packages (1.2.1)\n",
      "Requirement already satisfied: google-auth-httplib2 in /Users/sliu/miniconda3/envs/ml4t/lib/python3.12/site-packages (0.2.0)\n",
      "Requirement already satisfied: httplib2<1.dev0,>=0.19.0 in /Users/sliu/miniconda3/envs/ml4t/lib/python3.12/site-packages (from google-api-python-client) (0.22.0)\n",
      "Requirement already satisfied: google-api-core!=2.0.*,!=2.1.*,!=2.2.*,!=2.3.0,<3.0.0.dev0,>=1.31.5 in /Users/sliu/miniconda3/envs/ml4t/lib/python3.12/site-packages (from google-api-python-client) (2.19.1)\n",
      "Requirement already satisfied: uritemplate<5,>=3.0.1 in /Users/sliu/miniconda3/envs/ml4t/lib/python3.12/site-packages (from google-api-python-client) (4.1.1)\n",
      "Requirement already satisfied: cachetools<6.0,>=2.0.0 in /Users/sliu/miniconda3/envs/ml4t/lib/python3.12/site-packages (from google-auth) (5.3.3)\n",
      "Requirement already satisfied: pyasn1-modules>=0.2.1 in /Users/sliu/miniconda3/envs/ml4t/lib/python3.12/site-packages (from google-auth) (0.4.0)\n",
      "Requirement already satisfied: rsa<5,>=3.1.4 in /Users/sliu/miniconda3/envs/ml4t/lib/python3.12/site-packages (from google-auth) (4.9)\n",
      "Requirement already satisfied: requests-oauthlib>=0.7.0 in /Users/sliu/miniconda3/envs/ml4t/lib/python3.12/site-packages (from google-auth-oauthlib) (2.0.0)\n",
      "Requirement already satisfied: googleapis-common-protos<2.0.dev0,>=1.56.2 in /Users/sliu/miniconda3/envs/ml4t/lib/python3.12/site-packages (from google-api-core!=2.0.*,!=2.1.*,!=2.2.*,!=2.3.0,<3.0.0.dev0,>=1.31.5->google-api-python-client) (1.63.2)\n",
      "Requirement already satisfied: protobuf!=3.20.0,!=3.20.1,!=4.21.0,!=4.21.1,!=4.21.2,!=4.21.3,!=4.21.4,!=4.21.5,<6.0.0.dev0,>=3.19.5 in /Users/sliu/miniconda3/envs/ml4t/lib/python3.12/site-packages (from google-api-core!=2.0.*,!=2.1.*,!=2.2.*,!=2.3.0,<3.0.0.dev0,>=1.31.5->google-api-python-client) (5.27.2)\n",
      "Requirement already satisfied: proto-plus<2.0.0dev,>=1.22.3 in /Users/sliu/miniconda3/envs/ml4t/lib/python3.12/site-packages (from google-api-core!=2.0.*,!=2.1.*,!=2.2.*,!=2.3.0,<3.0.0.dev0,>=1.31.5->google-api-python-client) (1.24.0)\n",
      "Requirement already satisfied: requests<3.0.0.dev0,>=2.18.0 in /Users/sliu/miniconda3/envs/ml4t/lib/python3.12/site-packages (from google-api-core!=2.0.*,!=2.1.*,!=2.2.*,!=2.3.0,<3.0.0.dev0,>=1.31.5->google-api-python-client) (2.32.3)\n",
      "Requirement already satisfied: pyparsing!=3.0.0,!=3.0.1,!=3.0.2,!=3.0.3,<4,>=2.4.2 in /Users/sliu/miniconda3/envs/ml4t/lib/python3.12/site-packages (from httplib2<1.dev0,>=0.19.0->google-api-python-client) (3.1.2)\n",
      "Requirement already satisfied: pyasn1<0.7.0,>=0.4.6 in /Users/sliu/miniconda3/envs/ml4t/lib/python3.12/site-packages (from pyasn1-modules>=0.2.1->google-auth) (0.6.0)\n",
      "Requirement already satisfied: oauthlib>=3.0.0 in /Users/sliu/miniconda3/envs/ml4t/lib/python3.12/site-packages (from requests-oauthlib>=0.7.0->google-auth-oauthlib) (3.2.2)\n",
      "Requirement already satisfied: charset-normalizer<4,>=2 in /Users/sliu/miniconda3/envs/ml4t/lib/python3.12/site-packages (from requests<3.0.0.dev0,>=2.18.0->google-api-core!=2.0.*,!=2.1.*,!=2.2.*,!=2.3.0,<3.0.0.dev0,>=1.31.5->google-api-python-client) (3.3.2)\n",
      "Requirement already satisfied: idna<4,>=2.5 in /Users/sliu/miniconda3/envs/ml4t/lib/python3.12/site-packages (from requests<3.0.0.dev0,>=2.18.0->google-api-core!=2.0.*,!=2.1.*,!=2.2.*,!=2.3.0,<3.0.0.dev0,>=1.31.5->google-api-python-client) (3.7)\n",
      "Requirement already satisfied: urllib3<3,>=1.21.1 in /Users/sliu/miniconda3/envs/ml4t/lib/python3.12/site-packages (from requests<3.0.0.dev0,>=2.18.0->google-api-core!=2.0.*,!=2.1.*,!=2.2.*,!=2.3.0,<3.0.0.dev0,>=1.31.5->google-api-python-client) (2.2.2)\n",
      "Requirement already satisfied: certifi>=2017.4.17 in /Users/sliu/miniconda3/envs/ml4t/lib/python3.12/site-packages (from requests<3.0.0.dev0,>=2.18.0->google-api-core!=2.0.*,!=2.1.*,!=2.2.*,!=2.3.0,<3.0.0.dev0,>=1.31.5->google-api-python-client) (2024.6.2)\n",
      "Requirement already satisfied: google-auth-oauthlib in /Users/sliu/miniconda3/envs/ml4t/lib/python3.12/site-packages (1.2.1)\n",
      "Requirement already satisfied: google-auth>=2.15.0 in /Users/sliu/miniconda3/envs/ml4t/lib/python3.12/site-packages (from google-auth-oauthlib) (2.31.0)\n",
      "Requirement already satisfied: requests-oauthlib>=0.7.0 in /Users/sliu/miniconda3/envs/ml4t/lib/python3.12/site-packages (from google-auth-oauthlib) (2.0.0)\n",
      "Requirement already satisfied: cachetools<6.0,>=2.0.0 in /Users/sliu/miniconda3/envs/ml4t/lib/python3.12/site-packages (from google-auth>=2.15.0->google-auth-oauthlib) (5.3.3)\n",
      "Requirement already satisfied: pyasn1-modules>=0.2.1 in /Users/sliu/miniconda3/envs/ml4t/lib/python3.12/site-packages (from google-auth>=2.15.0->google-auth-oauthlib) (0.4.0)\n",
      "Requirement already satisfied: rsa<5,>=3.1.4 in /Users/sliu/miniconda3/envs/ml4t/lib/python3.12/site-packages (from google-auth>=2.15.0->google-auth-oauthlib) (4.9)\n",
      "Requirement already satisfied: oauthlib>=3.0.0 in /Users/sliu/miniconda3/envs/ml4t/lib/python3.12/site-packages (from requests-oauthlib>=0.7.0->google-auth-oauthlib) (3.2.2)\n",
      "Requirement already satisfied: requests>=2.0.0 in /Users/sliu/miniconda3/envs/ml4t/lib/python3.12/site-packages (from requests-oauthlib>=0.7.0->google-auth-oauthlib) (2.32.3)\n",
      "Requirement already satisfied: pyasn1<0.7.0,>=0.4.6 in /Users/sliu/miniconda3/envs/ml4t/lib/python3.12/site-packages (from pyasn1-modules>=0.2.1->google-auth>=2.15.0->google-auth-oauthlib) (0.6.0)\n",
      "Requirement already satisfied: charset-normalizer<4,>=2 in /Users/sliu/miniconda3/envs/ml4t/lib/python3.12/site-packages (from requests>=2.0.0->requests-oauthlib>=0.7.0->google-auth-oauthlib) (3.3.2)\n",
      "Requirement already satisfied: idna<4,>=2.5 in /Users/sliu/miniconda3/envs/ml4t/lib/python3.12/site-packages (from requests>=2.0.0->requests-oauthlib>=0.7.0->google-auth-oauthlib) (3.7)\n",
      "Requirement already satisfied: urllib3<3,>=1.21.1 in /Users/sliu/miniconda3/envs/ml4t/lib/python3.12/site-packages (from requests>=2.0.0->requests-oauthlib>=0.7.0->google-auth-oauthlib) (2.2.2)\n",
      "Requirement already satisfied: certifi>=2017.4.17 in /Users/sliu/miniconda3/envs/ml4t/lib/python3.12/site-packages (from requests>=2.0.0->requests-oauthlib>=0.7.0->google-auth-oauthlib) (2024.6.2)\n",
      "Requirement already satisfied: openai in /Users/sliu/miniconda3/envs/ml4t/lib/python3.12/site-packages (1.37.1)\n",
      "Requirement already satisfied: anyio<5,>=3.5.0 in /Users/sliu/miniconda3/envs/ml4t/lib/python3.12/site-packages (from openai) (4.4.0)\n",
      "Requirement already satisfied: distro<2,>=1.7.0 in /Users/sliu/miniconda3/envs/ml4t/lib/python3.12/site-packages (from openai) (1.9.0)\n",
      "Requirement already satisfied: httpx<1,>=0.23.0 in /Users/sliu/miniconda3/envs/ml4t/lib/python3.12/site-packages (from openai) (0.27.0)\n",
      "Requirement already satisfied: pydantic<3,>=1.9.0 in /Users/sliu/miniconda3/envs/ml4t/lib/python3.12/site-packages (from openai) (2.8.2)\n",
      "Requirement already satisfied: sniffio in /Users/sliu/miniconda3/envs/ml4t/lib/python3.12/site-packages (from openai) (1.3.1)\n",
      "Requirement already satisfied: tqdm>4 in /Users/sliu/miniconda3/envs/ml4t/lib/python3.12/site-packages (from openai) (4.66.4)\n",
      "Requirement already satisfied: typing-extensions<5,>=4.7 in /Users/sliu/miniconda3/envs/ml4t/lib/python3.12/site-packages (from openai) (4.12.2)\n",
      "Requirement already satisfied: idna>=2.8 in /Users/sliu/miniconda3/envs/ml4t/lib/python3.12/site-packages (from anyio<5,>=3.5.0->openai) (3.7)\n",
      "Requirement already satisfied: certifi in /Users/sliu/miniconda3/envs/ml4t/lib/python3.12/site-packages (from httpx<1,>=0.23.0->openai) (2024.6.2)\n",
      "Requirement already satisfied: httpcore==1.* in /Users/sliu/miniconda3/envs/ml4t/lib/python3.12/site-packages (from httpx<1,>=0.23.0->openai) (1.0.5)\n",
      "Requirement already satisfied: h11<0.15,>=0.13 in /Users/sliu/miniconda3/envs/ml4t/lib/python3.12/site-packages (from httpcore==1.*->httpx<1,>=0.23.0->openai) (0.14.0)\n",
      "Requirement already satisfied: annotated-types>=0.4.0 in /Users/sliu/miniconda3/envs/ml4t/lib/python3.12/site-packages (from pydantic<3,>=1.9.0->openai) (0.7.0)\n",
      "Requirement already satisfied: pydantic-core==2.20.1 in /Users/sliu/miniconda3/envs/ml4t/lib/python3.12/site-packages (from pydantic<3,>=1.9.0->openai) (2.20.1)\n"
     ]
    }
   ],
   "source": [
    "!pip install google-api-python-client google-auth google-auth-oauthlib google-auth-httplib2 \n",
    "!pip install --upgrade google-auth-oauthlib\n",
    "!pip install openai"
   ]
  },
  {
   "cell_type": "markdown",
   "metadata": {},
   "source": [
    "## Channel Definitions and Setups"
   ]
  },
  {
   "cell_type": "code",
   "execution_count": 138,
   "metadata": {},
   "outputs": [
    {
     "name": "stdout",
     "output_type": "stream",
     "text": [
      "Channel ID: UCEAZeUIeJs0IjQiqTCdVSIg\n",
      "Channel Name: YahooFinance\n"
     ]
    }
   ],
   "source": [
    "# Dictionary of channel IDs and their corresponding names\n",
    "channels = {\n",
    "    \"CNBC_TV\": \"UCrp_UI8XtuYfpiqluWLD7Lw\",\n",
    "    \"DeepWater\": 'UCQCNLsdpDV1XSHH4V8WQuPA',\n",
    "    \"BloombergTechnology\": 'UCrM7B7SL_g1edFOnmj-SDKg',\n",
    "    \"YahooFinance\": 'UCEAZeUIeJs0IjQiqTCdVSIg'\n",
    "}\n",
    "\n",
    "# Function to get channel name from ID\n",
    "def get_channel_name_by_id(channel_id, channels):\n",
    "    for name, id in channels.items():\n",
    "        if id == channel_id:\n",
    "            return name\n",
    "    return None\n",
    "\n",
    "# Example usage\n",
    "channel_id = channels[\"YahooFinance\"]  # Change this to the desired channel ID\n",
    "channel_name = get_channel_name_by_id(channel_id, channels)\n",
    "\n",
    "print(f\"Channel ID: {channel_id}\")\n",
    "print(f\"Channel Name: {channel_name}\")"
   ]
  },
  {
   "cell_type": "code",
   "execution_count": 139,
   "metadata": {},
   "outputs": [],
   "source": [
    "# Fetch videos\n",
    "## Getting the videos from the CNBC TV channel\n",
    "period_type = 'today'  # 'today', 'days', 'weeks', 'months'\n",
    "number = 4  # The 'today' setting does not use 'number', adjust if using other settings\n",
    "start_date, end_date = fetch_videos.get_date_range(period_type, number)\n",
    "df_videos_today = fetch_videos.fetch_videos(start_date, end_date, channel_id)"
   ]
  },
  {
   "cell_type": "code",
   "execution_count": 140,
   "metadata": {},
   "outputs": [
    {
     "data": {
      "text/html": [
       "<table border=\"1\" class=\"dataframe\">\n",
       "  <thead>\n",
       "    <tr style=\"text-align: right;\">\n",
       "      <th>Title</th>\n",
       "      <th>Published At</th>\n",
       "      <th>Duration (Min)</th>\n",
       "      <th>Video ID</th>\n",
       "    </tr>\n",
       "  </thead>\n",
       "  <tbody>\n",
       "    <tr>\n",
       "      <td><a href=\"https://www.youtube.com/watch?v=6kpn4ZjBCLc\" target=\"_blank\">Why the Fed can ‘print the money anyways’ 💸 #shorts #podcast</a></td>\n",
       "      <td>2024-08-01 10:04:16-05:00</td>\n",
       "      <td>1</td>\n",
       "      <td>6kpn4ZjBCLc</td>\n",
       "    </tr>\n",
       "  </tbody>\n",
       "</table>"
      ],
      "text/plain": [
       "<IPython.core.display.HTML object>"
      ]
     },
     "metadata": {},
     "output_type": "display_data"
    }
   ],
   "source": [
    "# Assume df_videos is your initial DataFrame loaded with video data\n",
    "hour_range1 = '0-8'\n",
    "hour_range2 = '8-10'\n",
    "hour_range3 = '10-12'\n",
    "hour_range4 = '12-14'\n",
    "hour_range5 = '14-16'\n",
    "hour_range6 = '16-24'\n",
    "\n",
    "# Filter videos from the last 3 days\n",
    "filtered_df = fetch_videos.filter_videos_by_date_and_time(df_videos_today, 'today', 1)\n",
    "fetch_videos.display_df(filtered_df)"
   ]
  },
  {
   "cell_type": "markdown",
   "metadata": {},
   "source": [
    "## Get video transcripts"
   ]
  },
  {
   "cell_type": "code",
   "execution_count": 141,
   "metadata": {},
   "outputs": [],
   "source": [
    "# Add transcripts to the DataFrame\n",
    "df_videos_with_transcripts = fetch_videos.add_transcripts_to_df(filtered_df)"
   ]
  },
  {
   "cell_type": "code",
   "execution_count": 142,
   "metadata": {},
   "outputs": [],
   "source": [
    "#fetch_videos.display_df(df_videos_with_transcripts)"
   ]
  },
  {
   "cell_type": "code",
   "execution_count": 143,
   "metadata": {},
   "outputs": [],
   "source": [
    "#fetch_videos.save_df_to_html(df_videos_with_transcripts, 'videos_with_transcripts.html')"
   ]
  },
  {
   "cell_type": "markdown",
   "metadata": {},
   "source": [
    "## AI Summary "
   ]
  },
  {
   "cell_type": "code",
   "execution_count": 144,
   "metadata": {},
   "outputs": [],
   "source": [
    "# Import necessary libraries\n",
    "import openai\n",
    "import os\n",
    "import pandas as pd\n",
    "\n",
    "# Ensure you have set your OpenAI API key\n",
    "openai.api_key = os.getenv('OPENAI_API_KEY')\n",
    "client = openai.OpenAI()"
   ]
  },
  {
   "cell_type": "code",
   "execution_count": 145,
   "metadata": {},
   "outputs": [],
   "source": [
    "def get_summary(text, client, task):\n",
    "    try:\n",
    "        response = client.chat.completions.create(\n",
    "            model=\"gpt-3.5-turbo\",\n",
    "            messages=[\n",
    "                {\"role\": \"system\", \"content\": \"You are a financial analyst.\"},\n",
    "                {\"role\": \"user\", \"content\": f\"Please {task} for the following text:\\n\\n{text}\"}\n",
    "            ],\n",
    "            max_tokens=3000\n",
    "        )\n",
    "        summary = response.choices[0].message.content.strip()\n",
    "        return summary\n",
    "    except openai.OpenAIError as e:  # Catch the general OpenAIError\n",
    "        if \"maximum context length\" in str(e):\n",
    "            print(f\"Warning: Context length exceeded for transcript. Returning an empty summary.\")\n",
    "            return \"Context length exceeded. Summary not available.\"\n",
    "        else:\n",
    "            raise e  # Re-raise other types of OpenAI errors\n",
    "\n",
    "def get_summary_all_transcripts(df, client, task):\n",
    "    \"\"\"Generates summaries or \"No summary\" messages for transcripts.\"\"\"\n",
    "    for index, row in df.iterrows():\n",
    "        transcript = row['Transcript']\n",
    "        summary = get_summary(transcript, client, task)\n",
    "\n",
    "        # Check if the summary is empty or the placeholder string\n",
    "        if not summary or summary == \"Context length exceeded. Summary not available.\":\n",
    "            summary = \"No summary\"\n",
    "\n",
    "        df.at[index, 'Summary'] = summary\n",
    "    return df\n",
    "\n",
    "# Example task\n",
    "task = \"\"\"I would like you to summarize the transcript with the following instructions: \n",
    "First categorize the video content.The category should be one of the following: Crypto, Macro, Politics, Technology Stocks, or Other. \n",
    "Then summarize the stocks that are mentioned in this video.\n",
    "Then provide key takeaways in a bullet point format.\n",
    "Finally, use one sentence to summarize the overall sentiment of the stocks mentioned in the video.\n",
    "Please print the summary in a human-readable format like the following: \n",
    "Category: Technology Stocks\n",
    "Stock mentioned: Nvidia, Tesla, Apple\n",
    "Key takeaways:\n",
    "* Nvidia reported record revenue growth.\n",
    "* Tesla announced a new electric vehicle model.\n",
    "* Apple released a new software update which will make its products more secure.\n",
    "Sentiment: Cautiously Positive\n",
    "\"\"\"\n",
    "\n",
    "# Get summaries for all transcripts\n",
    "df_summaries = get_summary_all_transcripts(df_videos_with_transcripts, client, task)"
   ]
  },
  {
   "cell_type": "code",
   "execution_count": 146,
   "metadata": {},
   "outputs": [],
   "source": [
    "summary_file_name = f'summaries_{channel_name}.csv'\n",
    "df_summaries.to_csv(summary_file_name, index=False)"
   ]
  },
  {
   "cell_type": "code",
   "execution_count": 147,
   "metadata": {},
   "outputs": [
    {
     "data": {
      "text/html": [
       "<div>\n",
       "<style scoped>\n",
       "    .dataframe tbody tr th:only-of-type {\n",
       "        vertical-align: middle;\n",
       "    }\n",
       "\n",
       "    .dataframe tbody tr th {\n",
       "        vertical-align: top;\n",
       "    }\n",
       "\n",
       "    .dataframe thead th {\n",
       "        text-align: right;\n",
       "    }\n",
       "</style>\n",
       "<table border=\"1\" class=\"dataframe\">\n",
       "  <thead>\n",
       "    <tr style=\"text-align: right;\">\n",
       "      <th></th>\n",
       "      <th>Title</th>\n",
       "      <th>Summary</th>\n",
       "    </tr>\n",
       "  </thead>\n",
       "  <tbody>\n",
       "    <tr>\n",
       "      <th>0</th>\n",
       "      <td>Why the Fed can ‘print the money anyways’ 💸 #s...</td>\n",
       "      <td>Category: Macro\\n\\nStock mentioned: None\\n\\nKe...</td>\n",
       "    </tr>\n",
       "  </tbody>\n",
       "</table>\n",
       "</div>"
      ],
      "text/plain": [
       "                                               Title  \\\n",
       "0  Why the Fed can ‘print the money anyways’ 💸 #s...   \n",
       "\n",
       "                                             Summary  \n",
       "0  Category: Macro\\n\\nStock mentioned: None\\n\\nKe...  "
      ]
     },
     "execution_count": 147,
     "metadata": {},
     "output_type": "execute_result"
    }
   ],
   "source": [
    "# Display the summaries without the original transcripts\n",
    "df_summaries_display = df_summaries[['Title', 'Summary']]\n",
    "df_summaries_display"
   ]
  },
  {
   "cell_type": "markdown",
   "metadata": {},
   "source": []
  },
  {
   "cell_type": "markdown",
   "metadata": {},
   "source": [
    "## Send emails"
   ]
  },
  {
   "cell_type": "code",
   "execution_count": 148,
   "metadata": {},
   "outputs": [
    {
     "name": "stdout",
     "output_type": "stream",
     "text": [
      "Email sent successfully!\n"
     ]
    }
   ],
   "source": [
    "import smtplib\n",
    "from email.mime.multipart import MIMEMultipart\n",
    "from email.mime.text import MIMEText\n",
    "import pandas as pd\n",
    "import os\n",
    "import fetch_videos\n",
    "\n",
    "email_user = os.getenv('EMAIL_USER')\n",
    "email_password = os.getenv('EMAIL_PASSWORD')\n",
    "email_send1 = 'sliu810@gmail.com'\n",
    "email_send2 = 'zhengwang827@gmail.com'\n",
    "\n",
    "recipients = [email_send1]\n",
    "# Set up the MIME\n",
    "message = MIMEMultipart()\n",
    "message['From'] = email_user\n",
    "message['To'] = email_send1\n",
    "message['Subject'] = f'summaries_{channel_name}_{fetch_videos.get_formated_date_today()}'\n",
    "\n",
    "# load df_summaries from disk and get the html content\n",
    "df_summaries = pd.read_csv(summary_file_name)\n",
    "html_content= fetch_videos.get_html_content_summary_only(df_summaries)\n",
    "\n",
    "# Attach the HTML content to the email\n",
    "message.attach(MIMEText(html_content, 'html'))\n",
    "\n",
    "# Function to send email\n",
    "def send_email():\n",
    "    try:\n",
    "        server = smtplib.SMTP('smtp-mail.outlook.com', 587)  # Outlook SMTP server\n",
    "        #server.set_debuglevel(1)  # Enable debugging output\n",
    "        server.starttls()\n",
    "        server.login(email_user, email_password)\n",
    "        text = message.as_string()\n",
    "        server.sendmail(email_user, recipients, text)\n",
    "        server.quit()\n",
    "        print(\"Email sent successfully!\")\n",
    "    except Exception as e:\n",
    "        print(f\"Failed to send email: {e}\")\n",
    "\n",
    "# Send the email\n",
    "send_email()"
   ]
  },
  {
   "cell_type": "code",
   "execution_count": 149,
   "metadata": {},
   "outputs": [
    {
     "name": "stdout",
     "output_type": "stream",
     "text": [
      "<div><h3><a href=\"https://www.youtube.com/watch?v=6kpn4ZjBCLc\" target=\"_blank\">Why the Fed can ‘print the money anyways’ 💸 #shorts #podcast</a></h3><p><br><b>Category:</b> Macro</li></li>Stock mentioned: None</li></li><br><b>Key takeaways:</b><ul></li>* The Federal Reserve Bank was created in 1913, giving it the power to monitor the monetary supply by printing money and changing interest rates.</li>* The US dollar is no longer backed by gold, allowing the government to spend more money without the need for additional gold reserves as collateral.</li>* This system can lead to inflation due to increased spending without traditional asset backing.</li></li>Sentiment: Concerns raised about potential inflation due to the government's ability to increase spending without traditional asset backing.</li></ul></p></div>\n",
      "\n"
     ]
    }
   ],
   "source": [
    "import fetch_videos\n",
    "\n",
    "df_summaries = pd.read_csv(summary_file_name)\n",
    "html_content = fetch_videos.get_html_content_summary_only(df_summaries)\n",
    "print(html_content)\n",
    "\n",
    "summary_file_name_html = f'summaries_{channel_name}_{fetch_videos.get_formated_date_today()}.html'\n",
    "\n",
    "# Save the HTML content to an HTML file\n",
    "with open(summary_file_name_html, 'w') as file:\n",
    "    file.write(html_content)"
   ]
  },
  {
   "cell_type": "markdown",
   "metadata": {},
   "source": [
    "## Random one off experiement "
   ]
  },
  {
   "cell_type": "code",
   "execution_count": null,
   "metadata": {},
   "outputs": [],
   "source": []
  },
  {
   "cell_type": "code",
   "execution_count": 150,
   "metadata": {},
   "outputs": [],
   "source": [
    "# print(transcript)"
   ]
  },
  {
   "cell_type": "markdown",
   "metadata": {},
   "source": []
  },
  {
   "cell_type": "code",
   "execution_count": 151,
   "metadata": {},
   "outputs": [],
   "source": [
    "# transcript = fetch_videos.get_transcript('GabBf791bdY')\n",
    "# print(transcript)\n",
    "# # Example task\n",
    "# task2 = \"\"\"I would like you to summarize the text which describes Tesla FSD.\n",
    "# Please say in what senario FSD performed well and waht senario it didn't perform well.\n",
    "# Format like this:\n",
    "# Title: \n",
    "# Key takeaways:\n",
    "# * FSD performed well in ...\n",
    "# * FSD had some challenges in ....\n",
    "# Improvement over pervious version if any.\n",
    "# \"\"\"\n",
    "# task3 = \"\"\"could you print the transcript with two person speaking into a human readible format and maintain the original content?\"\"\"\n",
    "\n",
    "# summary = get_summary(transcript, client, task3)\n",
    "# print(summary)"
   ]
  },
  {
   "cell_type": "code",
   "execution_count": 152,
   "metadata": {},
   "outputs": [],
   "source": [
    "def get_summary_in_chunks(transcript, client, task, chunk_size=500):\n",
    "    \"\"\"\n",
    "    Generates summaries in chunks to avoid truncation.\n",
    "\n",
    "    Parameters:\n",
    "    - transcript (str): The full transcript text.\n",
    "    - client (object): The client to use for generating summaries.\n",
    "    - task (str): The task identifier for the summary generation.\n",
    "    - chunk_size (int): The maximum size of each chunk.\n",
    "\n",
    "    Returns:\n",
    "    - str: Combined summary of all chunks.\n",
    "    \"\"\"\n",
    "    import textwrap\n",
    "\n",
    "    # Split the transcript into chunks\n",
    "    chunks = textwrap.wrap(transcript, chunk_size)\n",
    "    full_summary = \"\"\n",
    "\n",
    "    for chunk in chunks:\n",
    "        summary = get_summary(chunk, client, task)\n",
    "        full_summary += summary + \"\\n\"\n",
    "\n",
    "    return full_summary"
   ]
  },
  {
   "cell_type": "code",
   "execution_count": 153,
   "metadata": {},
   "outputs": [],
   "source": [
    "# transcript = fetch_videos.get_transcript('GabBf791bdY')\n",
    "# # print(transcript)\n",
    "# # Example task\n",
    "# task2 = \"\"\"I would like you to summarize the text which describes Tesla FSD.\n",
    "# Please say in what senario FSD performed well and waht senario it didn't perform well.\n",
    "# Format like this:\n",
    "# Title: \n",
    "# Key takeaways:\n",
    "# * FSD performed well in ...\n",
    "# * FSD had some challenges in ....\n",
    "# Improvement over pervious version if any.\n",
    "# \"\"\"\n",
    "# task3 = \"\"\"tell what the transcripts say about capex\"\"\"\n",
    "\n",
    "# summary = get_summary(transcript, client, task3)\n",
    "# print(summary)"
   ]
  },
  {
   "cell_type": "code",
   "execution_count": null,
   "metadata": {},
   "outputs": [],
   "source": []
  }
 ],
 "metadata": {
  "kernelspec": {
   "display_name": "ml4t",
   "language": "python",
   "name": "python3"
  },
  "language_info": {
   "codemirror_mode": {
    "name": "ipython",
    "version": 3
   },
   "file_extension": ".py",
   "mimetype": "text/x-python",
   "name": "python",
   "nbconvert_exporter": "python",
   "pygments_lexer": "ipython3",
   "version": "3.12.4"
  }
 },
 "nbformat": 4,
 "nbformat_minor": 2
}
